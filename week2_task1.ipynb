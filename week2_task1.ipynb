{
 "cells": [
  {
   "cell_type": "code",
   "execution_count": 81,
   "id": "a1146822-bc14-4736-a553-5885508ac540",
   "metadata": {},
   "outputs": [],
   "source": [
    "import pandas as pd\n",
    "import numpy as np\n",
    "import matplotlib.pyplot as plt"
   ]
  },
  {
   "cell_type": "code",
   "execution_count": 82,
   "id": "7ec4e388-b714-485f-84f3-63383bf3961a",
   "metadata": {},
   "outputs": [],
   "source": [
    "from scipy.stats import skew"
   ]
  },
  {
   "cell_type": "code",
   "execution_count": 83,
   "id": "95dfe7c6-bf18-4ab8-8f91-211353d82032",
   "metadata": {},
   "outputs": [],
   "source": [
    "from scipy.stats import norm"
   ]
  },
  {
   "cell_type": "code",
   "execution_count": 84,
   "id": "16a9e78d-51a9-4552-b297-0b86d294745c",
   "metadata": {},
   "outputs": [],
   "source": [
    "df = pd.read_csv(\"ecommerce_data.csv\")"
   ]
  },
  {
   "cell_type": "code",
   "execution_count": 85,
   "id": "0104568b-5a87-48b4-8071-f6669ccf5483",
   "metadata": {},
   "outputs": [
    {
     "data": {
      "text/html": [
       "<div>\n",
       "<style scoped>\n",
       "    .dataframe tbody tr th:only-of-type {\n",
       "        vertical-align: middle;\n",
       "    }\n",
       "\n",
       "    .dataframe tbody tr th {\n",
       "        vertical-align: top;\n",
       "    }\n",
       "\n",
       "    .dataframe thead th {\n",
       "        text-align: right;\n",
       "    }\n",
       "</style>\n",
       "<table border=\"1\" class=\"dataframe\">\n",
       "  <thead>\n",
       "    <tr style=\"text-align: right;\">\n",
       "      <th></th>\n",
       "      <th>cust_id</th>\n",
       "      <th>gender</th>\n",
       "      <th>age</th>\n",
       "      <th>no_of_purchases</th>\n",
       "      <th>amount_spend</th>\n",
       "      <th>time_spent_on_site</th>\n",
       "      <th>cross_sell_conversion_rate</th>\n",
       "    </tr>\n",
       "  </thead>\n",
       "  <tbody>\n",
       "    <tr>\n",
       "      <th>0</th>\n",
       "      <td>C0001</td>\n",
       "      <td>Male</td>\n",
       "      <td>36</td>\n",
       "      <td>4</td>\n",
       "      <td>400</td>\n",
       "      <td>41.02</td>\n",
       "      <td>0.597870</td>\n",
       "    </tr>\n",
       "    <tr>\n",
       "      <th>1</th>\n",
       "      <td>C0002</td>\n",
       "      <td>Male</td>\n",
       "      <td>42</td>\n",
       "      <td>4</td>\n",
       "      <td>360</td>\n",
       "      <td>49.42</td>\n",
       "      <td>0.087063</td>\n",
       "    </tr>\n",
       "    <tr>\n",
       "      <th>2</th>\n",
       "      <td>C0003</td>\n",
       "      <td>Male</td>\n",
       "      <td>40</td>\n",
       "      <td>2</td>\n",
       "      <td>60</td>\n",
       "      <td>35.78</td>\n",
       "      <td>0.441260</td>\n",
       "    </tr>\n",
       "    <tr>\n",
       "      <th>3</th>\n",
       "      <td>C0004</td>\n",
       "      <td>Female</td>\n",
       "      <td>33</td>\n",
       "      <td>3</td>\n",
       "      <td>240</td>\n",
       "      <td>39.17</td>\n",
       "      <td>0.553303</td>\n",
       "    </tr>\n",
       "    <tr>\n",
       "      <th>4</th>\n",
       "      <td>C0005</td>\n",
       "      <td>Male</td>\n",
       "      <td>24</td>\n",
       "      <td>6</td>\n",
       "      <td>120</td>\n",
       "      <td>63.42</td>\n",
       "      <td>0.860697</td>\n",
       "    </tr>\n",
       "  </tbody>\n",
       "</table>\n",
       "</div>"
      ],
      "text/plain": [
       "  cust_id  gender  age  no_of_purchases  amount_spend  time_spent_on_site  \\\n",
       "0   C0001    Male   36                4           400               41.02   \n",
       "1   C0002    Male   42                4           360               49.42   \n",
       "2   C0003    Male   40                2            60               35.78   \n",
       "3   C0004  Female   33                3           240               39.17   \n",
       "4   C0005    Male   24                6           120               63.42   \n",
       "\n",
       "   cross_sell_conversion_rate  \n",
       "0                    0.597870  \n",
       "1                    0.087063  \n",
       "2                    0.441260  \n",
       "3                    0.553303  \n",
       "4                    0.860697  "
      ]
     },
     "execution_count": 85,
     "metadata": {},
     "output_type": "execute_result"
    }
   ],
   "source": [
    "df.head()"
   ]
  },
  {
   "cell_type": "code",
   "execution_count": 86,
   "id": "08dd106d-d4b2-4183-9b99-ffa9bddf929f",
   "metadata": {},
   "outputs": [
    {
     "data": {
      "text/html": [
       "<div>\n",
       "<style scoped>\n",
       "    .dataframe tbody tr th:only-of-type {\n",
       "        vertical-align: middle;\n",
       "    }\n",
       "\n",
       "    .dataframe tbody tr th {\n",
       "        vertical-align: top;\n",
       "    }\n",
       "\n",
       "    .dataframe thead th {\n",
       "        text-align: right;\n",
       "    }\n",
       "</style>\n",
       "<table border=\"1\" class=\"dataframe\">\n",
       "  <thead>\n",
       "    <tr style=\"text-align: right;\">\n",
       "      <th></th>\n",
       "      <th>age</th>\n",
       "      <th>no_of_purchases</th>\n",
       "      <th>amount_spend</th>\n",
       "      <th>time_spent_on_site</th>\n",
       "      <th>cross_sell_conversion_rate</th>\n",
       "    </tr>\n",
       "  </thead>\n",
       "  <tbody>\n",
       "    <tr>\n",
       "      <th>count</th>\n",
       "      <td>1000.000000</td>\n",
       "      <td>1000.000000</td>\n",
       "      <td>1000.000000</td>\n",
       "      <td>1000.000000</td>\n",
       "      <td>1000.000000</td>\n",
       "    </tr>\n",
       "    <tr>\n",
       "      <th>mean</th>\n",
       "      <td>33.418000</td>\n",
       "      <td>4.053000</td>\n",
       "      <td>238.230000</td>\n",
       "      <td>45.171110</td>\n",
       "      <td>0.428629</td>\n",
       "    </tr>\n",
       "    <tr>\n",
       "      <th>std</th>\n",
       "      <td>12.354186</td>\n",
       "      <td>1.965211</td>\n",
       "      <td>155.937435</td>\n",
       "      <td>16.666794</td>\n",
       "      <td>0.273603</td>\n",
       "    </tr>\n",
       "    <tr>\n",
       "      <th>min</th>\n",
       "      <td>18.000000</td>\n",
       "      <td>1.000000</td>\n",
       "      <td>20.000000</td>\n",
       "      <td>13.190000</td>\n",
       "      <td>0.000568</td>\n",
       "    </tr>\n",
       "    <tr>\n",
       "      <th>25%</th>\n",
       "      <td>23.000000</td>\n",
       "      <td>2.000000</td>\n",
       "      <td>120.000000</td>\n",
       "      <td>30.937500</td>\n",
       "      <td>0.204250</td>\n",
       "    </tr>\n",
       "    <tr>\n",
       "      <th>50%</th>\n",
       "      <td>30.000000</td>\n",
       "      <td>4.000000</td>\n",
       "      <td>200.000000</td>\n",
       "      <td>44.635000</td>\n",
       "      <td>0.387122</td>\n",
       "    </tr>\n",
       "    <tr>\n",
       "      <th>75%</th>\n",
       "      <td>41.000000</td>\n",
       "      <td>6.000000</td>\n",
       "      <td>320.000000</td>\n",
       "      <td>56.352500</td>\n",
       "      <td>0.605406</td>\n",
       "    </tr>\n",
       "    <tr>\n",
       "      <th>max</th>\n",
       "      <td>65.000000</td>\n",
       "      <td>8.000000</td>\n",
       "      <td>800.000000</td>\n",
       "      <td>92.530000</td>\n",
       "      <td>0.996979</td>\n",
       "    </tr>\n",
       "  </tbody>\n",
       "</table>\n",
       "</div>"
      ],
      "text/plain": [
       "               age  no_of_purchases  amount_spend  time_spent_on_site  \\\n",
       "count  1000.000000      1000.000000   1000.000000         1000.000000   \n",
       "mean     33.418000         4.053000    238.230000           45.171110   \n",
       "std      12.354186         1.965211    155.937435           16.666794   \n",
       "min      18.000000         1.000000     20.000000           13.190000   \n",
       "25%      23.000000         2.000000    120.000000           30.937500   \n",
       "50%      30.000000         4.000000    200.000000           44.635000   \n",
       "75%      41.000000         6.000000    320.000000           56.352500   \n",
       "max      65.000000         8.000000    800.000000           92.530000   \n",
       "\n",
       "       cross_sell_conversion_rate  \n",
       "count                 1000.000000  \n",
       "mean                     0.428629  \n",
       "std                      0.273603  \n",
       "min                      0.000568  \n",
       "25%                      0.204250  \n",
       "50%                      0.387122  \n",
       "75%                      0.605406  \n",
       "max                      0.996979  "
      ]
     },
     "execution_count": 86,
     "metadata": {},
     "output_type": "execute_result"
    }
   ],
   "source": [
    "df.describe()"
   ]
  },
  {
   "cell_type": "code",
   "execution_count": 124,
   "id": "3ec3c3ed-1c49-4edb-89da-e5209c93a815",
   "metadata": {},
   "outputs": [
    {
     "data": {
      "text/plain": [
       "cust_id                       0\n",
       "gender                        0\n",
       "age                           0\n",
       "no_of_purchases               0\n",
       "amount_spend                  0\n",
       "time_spent_on_site            0\n",
       "cross_sell_conversion_rate    0\n",
       "dtype: int64"
      ]
     },
     "execution_count": 124,
     "metadata": {},
     "output_type": "execute_result"
    }
   ],
   "source": [
    "df.isnull().sum()"
   ]
  },
  {
   "cell_type": "markdown",
   "id": "2dc937eb-5d2e-462c-bd8b-931a2b2b07bd",
   "metadata": {},
   "source": [
    "### 1. What is the range of the customer age in the dataset?\n",
    "Hint: Difference between the maximum and minimum age\n"
   ]
  },
  {
   "cell_type": "code",
   "execution_count": 88,
   "id": "1c7e4525-0358-4364-b588-cc8a301aab75",
   "metadata": {},
   "outputs": [],
   "source": [
    "range_rqd = df[\"age\"].max() - df[\"age\"].min()"
   ]
  },
  {
   "cell_type": "code",
   "execution_count": 89,
   "id": "9276cca0-6b56-465d-b47d-d1791296ba2b",
   "metadata": {},
   "outputs": [
    {
     "data": {
      "text/plain": [
       "47"
      ]
     },
     "execution_count": 89,
     "metadata": {},
     "output_type": "execute_result"
    }
   ],
   "source": [
    "range_rqd"
   ]
  },
  {
   "cell_type": "markdown",
   "id": "018e3dec-08eb-4eae-a3ee-691c07e4b038",
   "metadata": {},
   "source": [
    "### Range of the customer age in the dataset = 47"
   ]
  },
  {
   "cell_type": "code",
   "execution_count": null,
   "id": "509ea1d4-7230-4186-ae61-45507972d463",
   "metadata": {},
   "outputs": [],
   "source": []
  },
  {
   "cell_type": "markdown",
   "id": "b0089a42-5082-4d14-b083-220f9f16eee3",
   "metadata": {},
   "source": [
    "### 2. Calculate the mean, median, and mode for the amount spent by customers. This will help in understanding the central tendencies of customer spending behavior"
   ]
  },
  {
   "cell_type": "code",
   "execution_count": 90,
   "id": "98199340-348a-4bcc-8027-67d19a5ed61f",
   "metadata": {},
   "outputs": [],
   "source": [
    "mean = df[\"amount_spend\"].mean()\n",
    "median = df[\"amount_spend\"].median()\n",
    "mode = df[\"amount_spend\"].mode()[0]"
   ]
  },
  {
   "cell_type": "code",
   "execution_count": 91,
   "id": "06b7352a-fcc2-46d4-a636-a22037414b49",
   "metadata": {},
   "outputs": [
    {
     "name": "stdout",
     "output_type": "stream",
     "text": [
      "mean = 238.23, median = 200.0, mode = 240\n"
     ]
    }
   ],
   "source": [
    "print(f\"mean = {mean}, median = {median}, mode = {mode}\")"
   ]
  },
  {
   "cell_type": "markdown",
   "id": "45b78f5e-3604-441f-9b41-00c6b0d71df1",
   "metadata": {},
   "source": [
    "### Mean, median, mode of amount spent by customers are 238.23, 200, 240 repectively."
   ]
  },
  {
   "cell_type": "code",
   "execution_count": null,
   "id": "40150862-8c85-4a6d-a141-0de7fa3c3d7b",
   "metadata": {},
   "outputs": [],
   "source": []
  },
  {
   "cell_type": "markdown",
   "id": "9b9ba41e-fb57-45a2-a361-3c9aca4ac7ad",
   "metadata": {},
   "source": [
    "### 3. Compute the variance and standard deviation for the time spent on site to analyze the variability in how much time customers spend on the website.\n"
   ]
  },
  {
   "cell_type": "code",
   "execution_count": 92,
   "id": "5a705763-8631-4d08-9416-e03ed56cc9ea",
   "metadata": {},
   "outputs": [],
   "source": [
    "var = df[\"time_spent_on_site\"].var()\n",
    "sd = df[\"time_spent_on_site\"].std()"
   ]
  },
  {
   "cell_type": "code",
   "execution_count": 93,
   "id": "d906c659-988d-4f74-bc6d-4df758b46891",
   "metadata": {},
   "outputs": [
    {
     "name": "stdout",
     "output_type": "stream",
     "text": [
      "variance=277.78, standard_deviation=16.67\n"
     ]
    }
   ],
   "source": [
    "print(f\"variance={var:.2f}, standard_deviation={sd:.2f}\")"
   ]
  },
  {
   "cell_type": "markdown",
   "id": "f7509e35-501f-4cd4-94c9-6a6605603dc1",
   "metadata": {},
   "source": [
    "### Variance and standard deviation for the time spent on site are 277.78 and 16.66 respectively"
   ]
  },
  {
   "cell_type": "code",
   "execution_count": null,
   "id": "5a222662-4df6-4038-b2b5-8a6ca5b7feaf",
   "metadata": {},
   "outputs": [],
   "source": []
  },
  {
   "cell_type": "markdown",
   "id": "04f7b445-7be6-418f-9a6b-3dbab01f01ba",
   "metadata": {},
   "source": [
    "### 4. Calculate the interquartile range (IQR) for the amount spent by customers. This will help understand the spread of customer spending.\n",
    "Hint: Difference between 75th percentile (Q3) and the 25th percentile (Q1)"
   ]
  },
  {
   "cell_type": "code",
   "execution_count": 94,
   "id": "49f4a063-04e6-4787-bf95-d378cd659029",
   "metadata": {},
   "outputs": [],
   "source": [
    "Q1 = df[\"amount_spend\"].quantile(0.25)\n",
    "Q3 = df[\"amount_spend\"].quantile(0.75)"
   ]
  },
  {
   "cell_type": "code",
   "execution_count": 95,
   "id": "ca871580-cd2a-480f-b8b4-1e11fbd715c2",
   "metadata": {},
   "outputs": [],
   "source": [
    "IQR = Q3 - Q1"
   ]
  },
  {
   "cell_type": "code",
   "execution_count": 96,
   "id": "07febb84-f769-42d8-bf23-95d3f317bb2d",
   "metadata": {},
   "outputs": [
    {
     "data": {
      "text/plain": [
       "200.0"
      ]
     },
     "execution_count": 96,
     "metadata": {},
     "output_type": "execute_result"
    }
   ],
   "source": [
    "IQR"
   ]
  },
  {
   "cell_type": "markdown",
   "id": "fbc2c283-2e33-46b9-bdac-2d5854ff88da",
   "metadata": {},
   "source": [
    "### 200 is interquartile range (IQR) for the amount spent by customers."
   ]
  },
  {
   "cell_type": "code",
   "execution_count": null,
   "id": "82be2ede-8a35-4fd3-be6e-6fb3707d4171",
   "metadata": {},
   "outputs": [],
   "source": []
  },
  {
   "cell_type": "markdown",
   "id": "6f6ba986-af4b-462d-afb2-ab1ca436cee3",
   "metadata": {},
   "source": [
    "### 5. Is there any significant relationship between no.of purchases made and time spent on site? What is the correlation between the two?\n",
    "Hint: Use the correlation coefficient"
   ]
  },
  {
   "cell_type": "code",
   "execution_count": 97,
   "id": "3b05dc64-df56-4931-a571-02056b657b03",
   "metadata": {},
   "outputs": [],
   "source": [
    "corr = df[[\"time_spent_on_site\", \"no_of_purchases\"]].corr()"
   ]
  },
  {
   "cell_type": "code",
   "execution_count": 98,
   "id": "6f383acd-62cb-475e-91a3-3679e5ed1d8c",
   "metadata": {},
   "outputs": [
    {
     "name": "stdout",
     "output_type": "stream",
     "text": [
      "correlation_coef = 0.94\n"
     ]
    }
   ],
   "source": [
    "value = corr.loc[\"time_spent_on_site\", \"no_of_purchases\"]\n",
    "print(f\"correlation_coef = {value:.2f}\")"
   ]
  },
  {
   "cell_type": "markdown",
   "id": "b9151f4d-5132-44c1-9cac-d9fe31e63bf0",
   "metadata": {},
   "source": [
    "### Yes, there is a significant relationship between no.of purchases made and time spent on site, having a correlation coefficient of 0.937"
   ]
  },
  {
   "cell_type": "code",
   "execution_count": null,
   "id": "e325c4c1-6d61-456b-991d-123cd59f7dd1",
   "metadata": {},
   "outputs": [],
   "source": []
  },
  {
   "cell_type": "markdown",
   "id": "8131db54-7c7f-4300-8f6a-ba620cf8129f",
   "metadata": {},
   "source": [
    "### 6. How individual customer spending compares to the average. Calculate the z-score for a customer who spends $450. (A higher z-score indicates the customer is significantly above the average spending level, identifying them as a potential high-value customer.)\n",
    "Hint: Use the z-score formula (z = (x-μ)/σ )"
   ]
  },
  {
   "cell_type": "code",
   "execution_count": 99,
   "id": "d1be8cbb-181b-4de2-8b9a-dfc23a86ddd2",
   "metadata": {},
   "outputs": [],
   "source": [
    "std_amount_spent =  df[\"amount_spend\"].std()\n",
    "mean_amount_spent =  df[\"amount_spend\"].mean()"
   ]
  },
  {
   "cell_type": "code",
   "execution_count": 100,
   "id": "3c6e2317-7556-4a7f-bc00-955548383f94",
   "metadata": {},
   "outputs": [],
   "source": [
    "z = (450 - mean_amount_spent)/std_amount_spent"
   ]
  },
  {
   "cell_type": "code",
   "execution_count": 101,
   "id": "6982275c-8d16-4f29-812f-f7075b0fc2fe",
   "metadata": {},
   "outputs": [
    {
     "name": "stdout",
     "output_type": "stream",
     "text": [
      "z values is 1.36\n"
     ]
    }
   ],
   "source": [
    "print(f\"z values is {z:.2f}\")"
   ]
  },
  {
   "cell_type": "markdown",
   "id": "d597265f-0408-4b14-8135-d5ad75ba3299",
   "metadata": {},
   "source": [
    "### The z-score for a customer who spends $450 is 1.35, so he spends more than the average."
   ]
  },
  {
   "cell_type": "code",
   "execution_count": null,
   "id": "46bd909c-6bb5-4c3c-bfb1-3efad9e30b06",
   "metadata": {},
   "outputs": [],
   "source": []
  },
  {
   "cell_type": "markdown",
   "id": "d18fa735-b92f-46fa-864b-acab492c815e",
   "metadata": {},
   "source": [
    "### 7. Analyze the skewness of the distribution of the amount spent by customers. Is the data right-skewed or left-skewed?\n",
    "Hint: Use the skewness measure to determine if the distribution has a long tail on the right\n",
    "(right-skewed) or left (left-skewed).\n"
   ]
  },
  {
   "cell_type": "code",
   "execution_count": 102,
   "id": "cd074225-25af-4b9f-80f1-96c59bc106a5",
   "metadata": {},
   "outputs": [
    {
     "name": "stdout",
     "output_type": "stream",
     "text": [
      "200.0 238.23\n"
     ]
    }
   ],
   "source": [
    "print(df[\"amount_spend\"].median(), df[\"amount_spend\"].mean())"
   ]
  },
  {
   "cell_type": "code",
   "execution_count": 103,
   "id": "202eb551-4867-4607-a88d-1ae337d43346",
   "metadata": {},
   "outputs": [],
   "source": [
    "skewness = skew(df[\"amount_spend\"])"
   ]
  },
  {
   "cell_type": "code",
   "execution_count": 104,
   "id": "38acb630-046f-4089-b921-5f94a679b2dc",
   "metadata": {},
   "outputs": [
    {
     "name": "stdout",
     "output_type": "stream",
     "text": [
      "1\n"
     ]
    }
   ],
   "source": [
    "print((int)(skewness>0))"
   ]
  },
  {
   "cell_type": "code",
   "execution_count": 105,
   "id": "6a6427d9-1a49-4b80-8716-ce9b3f110c6a",
   "metadata": {},
   "outputs": [
    {
     "data": {
      "image/png": "[encoded data removed]",
      "text/plain": [
       "<Figure size 300x300 with 1 Axes>"
      ]
     },
     "metadata": {},
     "output_type": "display_data"
    }
   ],
   "source": [
    "plt.figure(figsize = (3, 3))\n",
    "df[\"amount_spend\"].hist()\n",
    "plt.show()"
   ]
  },
  {
   "cell_type": "markdown",
   "id": "b69ec091-1690-4f62-9885-d6bb288777e9",
   "metadata": {},
   "source": [
    "### As skewness is 0.95 the distribution is right skewed."
   ]
  },
  {
   "cell_type": "code",
   "execution_count": null,
   "id": "999488b4-a7b6-4a75-81e4-debb227410a3",
   "metadata": {},
   "outputs": [],
   "source": []
  },
  {
   "cell_type": "markdown",
   "id": "42d55589-6c6a-4855-a68f-9f8d5c26ff9d",
   "metadata": {},
   "source": [
    "### 8. What is the probability that a randomly selected customer makes more than 5 purchases in a month or spends more than $300?\n",
    "Hint: Use the addition rule\n"
   ]
  },
  {
   "cell_type": "code",
   "execution_count": 127,
   "id": "f75b040f-0249-4c49-94ab-c5ab49662cba",
   "metadata": {},
   "outputs": [],
   "source": [
    "prob1 =df[df[\"no_of_purchases\"]>5][\"no_of_purchases\"].count()/df.shape[0]"
   ]
  },
  {
   "cell_type": "code",
   "execution_count": 128,
   "id": "8da5cc1b-c996-4133-8094-5e95fcc93c81",
   "metadata": {},
   "outputs": [
    {
     "data": {
      "text/plain": [
       "0.255"
      ]
     },
     "execution_count": 128,
     "metadata": {},
     "output_type": "execute_result"
    }
   ],
   "source": [
    "prob1"
   ]
  },
  {
   "cell_type": "code",
   "execution_count": 129,
   "id": "548a6b71-073f-4e7c-9672-785dadadd5bb",
   "metadata": {},
   "outputs": [],
   "source": [
    "prob2 =df[df[\"amount_spend\"]>300][\"amount_spend\"].count()/df.shape[0]"
   ]
  },
  {
   "cell_type": "code",
   "execution_count": 130,
   "id": "8770b377-2c36-4b76-8f2c-c75637ee6c46",
   "metadata": {},
   "outputs": [
    {
     "data": {
      "text/plain": [
       "0.28"
      ]
     },
     "execution_count": 130,
     "metadata": {},
     "output_type": "execute_result"
    }
   ],
   "source": [
    "prob2"
   ]
  },
  {
   "cell_type": "code",
   "execution_count": 131,
   "id": "dc512c4b-47ae-4d23-a0d5-0e4203ab82d6",
   "metadata": {},
   "outputs": [],
   "source": [
    "prob_and =df[(df[\"no_of_purchases\"]>5) & (df[\"amount_spend\"]>300)].shape[0]/df.shape[0]"
   ]
  },
  {
   "cell_type": "code",
   "execution_count": 132,
   "id": "33c4d1e1-e4f3-4ba5-92ca-d0d25b07da7a",
   "metadata": {},
   "outputs": [],
   "source": [
    "prob3 = prob1 + prob2 - prob_and"
   ]
  },
  {
   "cell_type": "code",
   "execution_count": 133,
   "id": "48e1f1a0-f6a4-4d87-949f-2dff06a1e37a",
   "metadata": {},
   "outputs": [
    {
     "data": {
      "text/plain": [
       "0.396"
      ]
     },
     "execution_count": 133,
     "metadata": {},
     "output_type": "execute_result"
    }
   ],
   "source": [
    "prob3"
   ]
  },
  {
   "cell_type": "markdown",
   "id": "4f1effd9-5dfe-4f50-ac19-c707e5b1ee58",
   "metadata": {},
   "source": [
    "### Probability that a randomly selected customer makes more than 5 purchases in a month or spends more than $300 is 0.396"
   ]
  },
  {
   "cell_type": "code",
   "execution_count": null,
   "id": "97240c35-027d-4115-9110-cb0ee8bf4260",
   "metadata": {},
   "outputs": [],
   "source": []
  },
  {
   "cell_type": "markdown",
   "id": "36eeaab7-4544-40a4-bb82-ce057617ddf1",
   "metadata": {},
   "source": [
    "### 9. Determine the 95% confidence interval for the amount spent by all customers. This will provide an estimate of the range in which the true average spending is likely to fall.\n",
    "Hint: Calculate the mean and standard deviation, then use the z_critical and margin_of_error\n",
    "to find the confidence interval.\n"
   ]
  },
  {
   "cell_type": "code",
   "execution_count": 135,
   "id": "9261f9e7-6da9-4f0a-bab8-1376c2d18f0b",
   "metadata": {},
   "outputs": [],
   "source": [
    "std_amount_spent =  df[\"amount_spend\"].std()\n",
    "mean_amount_spent =  df[\"amount_spend\"].mean()"
   ]
  },
  {
   "cell_type": "code",
   "execution_count": 136,
   "id": "642f417a-23fa-4f14-b385-eb11932e53e0",
   "metadata": {},
   "outputs": [],
   "source": [
    "n = df.shape[0]"
   ]
  },
  {
   "cell_type": "code",
   "execution_count": 137,
   "id": "7c53b344-41f1-4496-a4ee-bef85810a78d",
   "metadata": {},
   "outputs": [],
   "source": [
    "z_critical = norm.ppf(0.975)"
   ]
  },
  {
   "cell_type": "code",
   "execution_count": 138,
   "id": "8224aa1c-b059-40a4-9858-88695647219e",
   "metadata": {},
   "outputs": [],
   "source": [
    "margin_of_error = z_critical * (std_amount_spent / np.sqrt(n))"
   ]
  },
  {
   "cell_type": "code",
   "execution_count": 139,
   "id": "e4c6d0c2-aadd-44ec-a939-9caffd93bdc6",
   "metadata": {},
   "outputs": [],
   "source": [
    "ci_lower = mean_amount_spent - margin_of_error\n",
    "ci_upper = mean_amount_spent + margin_of_error"
   ]
  },
  {
   "cell_type": "code",
   "execution_count": 140,
   "id": "98f08e50-d548-4f2d-b371-2688d5b96c7f",
   "metadata": {},
   "outputs": [
    {
     "name": "stdout",
     "output_type": "stream",
     "text": [
      "95% Confidence Interval: (229, 248)\n"
     ]
    }
   ],
   "source": [
    "print(f\"95% Confidence Interval: ({ci_lower:.0f}, {ci_upper:.0f})\")"
   ]
  },
  {
   "cell_type": "code",
   "execution_count": null,
   "id": "386055d7-1ade-4319-9790-681debba6166",
   "metadata": {},
   "outputs": [],
   "source": []
  },
  {
   "cell_type": "markdown",
   "id": "b8dbeab0-a691-491b-bb62-6a6e575dadc6",
   "metadata": {},
   "source": [
    "### 10.What is the probability that a customer who makes 5 or more purchases in a month will have a high cross-sell conversion rate (greater than 80%)?"
   ]
  },
  {
   "cell_type": "code",
   "execution_count": 147,
   "id": "f6da64f9-bbe5-4f7a-a196-aed1a9d5d1d5",
   "metadata": {},
   "outputs": [
    {
     "data": {
      "text/plain": [
       "0.135"
      ]
     },
     "execution_count": 147,
     "metadata": {},
     "output_type": "execute_result"
    }
   ],
   "source": [
    "prob_a = df[df[\"cross_sell_conversion_rate\"] > 0.8][\"cross_sell_conversion_rate\"].shape[0]/df.shape[0]\n",
    "prob_a"
   ]
  },
  {
   "cell_type": "code",
   "execution_count": 148,
   "id": "c3848dcf-9bd0-40fc-bfb7-901457745492",
   "metadata": {},
   "outputs": [
    {
     "data": {
      "text/plain": [
       "0.385"
      ]
     },
     "execution_count": 148,
     "metadata": {},
     "output_type": "execute_result"
    }
   ],
   "source": [
    "prob_b = df[df[\"no_of_purchases\"] >= 5][\"no_of_purchases\"].shape[0]/df.shape[0]\n",
    "prob_b"
   ]
  },
  {
   "cell_type": "code",
   "execution_count": 149,
   "id": "c78a0a5a-e977-49a3-a7a5-6939011e7350",
   "metadata": {},
   "outputs": [
    {
     "data": {
      "text/plain": [
       "0.135"
      ]
     },
     "execution_count": 149,
     "metadata": {},
     "output_type": "execute_result"
    }
   ],
   "source": [
    "prob_a_and_b = df[(df[\"cross_sell_conversion_rate\"] > 0.8) & (df[\"no_of_purchases\"] > 5)].shape[0]/df.shape[0]\n",
    "prob_a_and_b"
   ]
  },
  {
   "cell_type": "code",
   "execution_count": 150,
   "id": "ef19229c-ee5b-4c29-a85c-d15c3e0f939b",
   "metadata": {},
   "outputs": [],
   "source": [
    "prob_a_given_b = (prob_a_and_b)/prob_b"
   ]
  },
  {
   "cell_type": "code",
   "execution_count": 151,
   "id": "8cd45c8d-1b78-4cbb-a928-f63985a38639",
   "metadata": {},
   "outputs": [
    {
     "name": "stdout",
     "output_type": "stream",
     "text": [
      "reqd_prob = 0.351\n"
     ]
    }
   ],
   "source": [
    "print(f\"reqd_prob = {prob_a_given_b:.3f}\")"
   ]
  },
  {
   "cell_type": "markdown",
   "id": "1e67a73f-db02-4632-8797-74f5b1517d3b",
   "metadata": {},
   "source": [
    "### Probability that a customer who makes 5 or more purchases in a month will have a high cross-sell conversion rate (greater than 80%) is .53"
   ]
  },
  {
   "cell_type": "code",
   "execution_count": null,
   "id": "0b769efb-edc0-44ed-920f-77b905d3d39f",
   "metadata": {},
   "outputs": [],
   "source": []
  }
 ],
 "metadata": {
  "kernelspec": {
   "display_name": "Python 3 (ipykernel)",
   "language": "python",
   "name": "python3"
  },
  "language_info": {
   "codemirror_mode": {
    "name": "ipython",
    "version": 3
   },
   "file_extension": ".py",
   "mimetype": "text/x-python",
   "name": "python",
   "nbconvert_exporter": "python",
   "pygments_lexer": "ipython3",
   "version": "3.10.11"
  }
 },
 "nbformat": 4,
 "nbformat_minor": 5
}
