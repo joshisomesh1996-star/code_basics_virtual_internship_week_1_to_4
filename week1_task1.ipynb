{
 "cells": [
  {
   "cell_type": "markdown",
   "id": "f311cfe0-c5fe-4192-9299-a4772175901e",
   "metadata": {},
   "source": [
    "## 1. The operations team wants to ensure the integrity of the events data by removing duplicates. Check for and remove duplicate rows in the events dataframe based on store_id, campaign_id, and product_code. How many duplicate rows were removed?"
   ]
  },
  {
   "cell_type": "code",
   "execution_count": 715,
   "id": "93e23273-007c-4c69-8a00-c97fd5d4d078",
   "metadata": {},
   "outputs": [],
   "source": [
    "import pandas as pd"
   ]
  },
  {
   "cell_type": "code",
   "execution_count": 716,
   "id": "e1c5ebac-5c1d-4576-9d97-43cd0cffe7eb",
   "metadata": {},
   "outputs": [],
   "source": [
    "df = pd.read_csv(\"fact_events.csv\")"
   ]
  },
  {
   "cell_type": "code",
   "execution_count": 717,
   "id": "a63c703c-6fcc-4feb-b37f-c72b38bb7331",
   "metadata": {},
   "outputs": [
    {
     "data": {
      "text/html": [
       "<div>\n",
       "<style scoped>\n",
       "    .dataframe tbody tr th:only-of-type {\n",
       "        vertical-align: middle;\n",
       "    }\n",
       "\n",
       "    .dataframe tbody tr th {\n",
       "        vertical-align: top;\n",
       "    }\n",
       "\n",
       "    .dataframe thead th {\n",
       "        text-align: right;\n",
       "    }\n",
       "</style>\n",
       "<table border=\"1\" class=\"dataframe\">\n",
       "  <thead>\n",
       "    <tr style=\"text-align: right;\">\n",
       "      <th></th>\n",
       "      <th>event_id</th>\n",
       "      <th>store_id</th>\n",
       "      <th>campaign_id</th>\n",
       "      <th>product_code</th>\n",
       "      <th>base_price(before_promo)</th>\n",
       "      <th>quantity_sold(before_promo)</th>\n",
       "      <th>promo_type</th>\n",
       "      <th>base_price(after_promo)</th>\n",
       "      <th>quantity_sold(after_promo)</th>\n",
       "    </tr>\n",
       "  </thead>\n",
       "  <tbody>\n",
       "    <tr>\n",
       "      <th>0</th>\n",
       "      <td>8481be</td>\n",
       "      <td>STCHE-1</td>\n",
       "      <td>CAMP_DIW_01</td>\n",
       "      <td>P04</td>\n",
       "      <td>290</td>\n",
       "      <td>327.0</td>\n",
       "      <td>25% OFF</td>\n",
       "      <td>217</td>\n",
       "      <td>287</td>\n",
       "    </tr>\n",
       "    <tr>\n",
       "      <th>1</th>\n",
       "      <td>20618e</td>\n",
       "      <td>STCHE-3</td>\n",
       "      <td>CAMP_SAN_01</td>\n",
       "      <td>P04</td>\n",
       "      <td>370</td>\n",
       "      <td>379.0</td>\n",
       "      <td>BOGOF</td>\n",
       "      <td>185</td>\n",
       "      <td>1622</td>\n",
       "    </tr>\n",
       "    <tr>\n",
       "      <th>2</th>\n",
       "      <td>f30579</td>\n",
       "      <td>STBLR-9</td>\n",
       "      <td>CAMP_DIW_01</td>\n",
       "      <td>P02</td>\n",
       "      <td>860</td>\n",
       "      <td>337.0</td>\n",
       "      <td>33% OFF</td>\n",
       "      <td>576</td>\n",
       "      <td>488</td>\n",
       "    </tr>\n",
       "    <tr>\n",
       "      <th>3</th>\n",
       "      <td>4f570c</td>\n",
       "      <td>STBLR-7</td>\n",
       "      <td>CAMP_DIW_01</td>\n",
       "      <td>P05</td>\n",
       "      <td>55</td>\n",
       "      <td>122.0</td>\n",
       "      <td>25% OFF</td>\n",
       "      <td>41</td>\n",
       "      <td>107</td>\n",
       "    </tr>\n",
       "    <tr>\n",
       "      <th>4</th>\n",
       "      <td>6d153f</td>\n",
       "      <td>STHYD-5</td>\n",
       "      <td>CAMP_SAN_01</td>\n",
       "      <td>P15</td>\n",
       "      <td>3000</td>\n",
       "      <td>122.0</td>\n",
       "      <td>500 Cashback</td>\n",
       "      <td>2500</td>\n",
       "      <td>272</td>\n",
       "    </tr>\n",
       "  </tbody>\n",
       "</table>\n",
       "</div>"
      ],
      "text/plain": [
       "  event_id store_id  campaign_id product_code  base_price(before_promo)  \\\n",
       "0   8481be  STCHE-1  CAMP_DIW_01          P04                       290   \n",
       "1   20618e  STCHE-3  CAMP_SAN_01          P04                       370   \n",
       "2   f30579  STBLR-9  CAMP_DIW_01          P02                       860   \n",
       "3   4f570c  STBLR-7  CAMP_DIW_01          P05                        55   \n",
       "4   6d153f  STHYD-5  CAMP_SAN_01          P15                      3000   \n",
       "\n",
       "   quantity_sold(before_promo)    promo_type  base_price(after_promo)  \\\n",
       "0                        327.0       25% OFF                      217   \n",
       "1                        379.0         BOGOF                      185   \n",
       "2                        337.0       33% OFF                      576   \n",
       "3                        122.0       25% OFF                       41   \n",
       "4                        122.0  500 Cashback                     2500   \n",
       "\n",
       "   quantity_sold(after_promo)  \n",
       "0                         287  \n",
       "1                        1622  \n",
       "2                         488  \n",
       "3                         107  \n",
       "4                         272  "
      ]
     },
     "execution_count": 717,
     "metadata": {},
     "output_type": "execute_result"
    }
   ],
   "source": [
    "df.head()"
   ]
  },
  {
   "cell_type": "code",
   "execution_count": 718,
   "id": "2df94bac-a134-4c6c-9e29-0df61d232069",
   "metadata": {},
   "outputs": [],
   "source": [
    "columns_to_match = [\"store_id\", \"campaign_id\", \"product_code\"]"
   ]
  },
  {
   "cell_type": "code",
   "execution_count": 719,
   "id": "12e49371-e797-4d3a-8c47-bc3d3a80892d",
   "metadata": {},
   "outputs": [],
   "source": [
    "df_to_match = df[columns_to_match]"
   ]
  },
  {
   "cell_type": "code",
   "execution_count": 720,
   "id": "e72afaca-698a-4def-b4d1-01531a1184cc",
   "metadata": {},
   "outputs": [
    {
     "data": {
      "text/html": [
       "<div>\n",
       "<style scoped>\n",
       "    .dataframe tbody tr th:only-of-type {\n",
       "        vertical-align: middle;\n",
       "    }\n",
       "\n",
       "    .dataframe tbody tr th {\n",
       "        vertical-align: top;\n",
       "    }\n",
       "\n",
       "    .dataframe thead th {\n",
       "        text-align: right;\n",
       "    }\n",
       "</style>\n",
       "<table border=\"1\" class=\"dataframe\">\n",
       "  <thead>\n",
       "    <tr style=\"text-align: right;\">\n",
       "      <th></th>\n",
       "      <th>store_id</th>\n",
       "      <th>campaign_id</th>\n",
       "      <th>product_code</th>\n",
       "    </tr>\n",
       "  </thead>\n",
       "  <tbody>\n",
       "    <tr>\n",
       "      <th>0</th>\n",
       "      <td>STCHE-1</td>\n",
       "      <td>CAMP_DIW_01</td>\n",
       "      <td>P04</td>\n",
       "    </tr>\n",
       "    <tr>\n",
       "      <th>1</th>\n",
       "      <td>STCHE-3</td>\n",
       "      <td>CAMP_SAN_01</td>\n",
       "      <td>P04</td>\n",
       "    </tr>\n",
       "    <tr>\n",
       "      <th>2</th>\n",
       "      <td>STBLR-9</td>\n",
       "      <td>CAMP_DIW_01</td>\n",
       "      <td>P02</td>\n",
       "    </tr>\n",
       "    <tr>\n",
       "      <th>3</th>\n",
       "      <td>STBLR-7</td>\n",
       "      <td>CAMP_DIW_01</td>\n",
       "      <td>P05</td>\n",
       "    </tr>\n",
       "    <tr>\n",
       "      <th>4</th>\n",
       "      <td>STHYD-5</td>\n",
       "      <td>CAMP_SAN_01</td>\n",
       "      <td>P15</td>\n",
       "    </tr>\n",
       "  </tbody>\n",
       "</table>\n",
       "</div>"
      ],
      "text/plain": [
       "  store_id  campaign_id product_code\n",
       "0  STCHE-1  CAMP_DIW_01          P04\n",
       "1  STCHE-3  CAMP_SAN_01          P04\n",
       "2  STBLR-9  CAMP_DIW_01          P02\n",
       "3  STBLR-7  CAMP_DIW_01          P05\n",
       "4  STHYD-5  CAMP_SAN_01          P15"
      ]
     },
     "execution_count": 720,
     "metadata": {},
     "output_type": "execute_result"
    }
   ],
   "source": [
    "df_to_match.head()"
   ]
  },
  {
   "cell_type": "code",
   "execution_count": 721,
   "id": "ef52546a-be0f-4c7b-8872-df2ff1a1a20d",
   "metadata": {},
   "outputs": [],
   "source": [
    "rows_original = df_to_match.shape[0]"
   ]
  },
  {
   "cell_type": "code",
   "execution_count": 722,
   "id": "fe0d82b4-f9bc-4a65-805f-ef168a5993bb",
   "metadata": {},
   "outputs": [
    {
     "data": {
      "text/plain": [
       "1510"
      ]
     },
     "execution_count": 722,
     "metadata": {},
     "output_type": "execute_result"
    }
   ],
   "source": [
    "rows_original"
   ]
  },
  {
   "cell_type": "code",
   "execution_count": 723,
   "id": "322f0c19-aeaa-4226-9811-5ac0a4e1c09d",
   "metadata": {},
   "outputs": [
    {
     "data": {
      "text/plain": [
       "10"
      ]
     },
     "execution_count": 723,
     "metadata": {},
     "output_type": "execute_result"
    }
   ],
   "source": [
    "df_to_match.duplicated().sum()"
   ]
  },
  {
   "cell_type": "code",
   "execution_count": 724,
   "id": "60f5883b-36f3-4994-9874-0f7fd686e8ae",
   "metadata": {},
   "outputs": [],
   "source": [
    "dup_bool = df_to_match.duplicated()\n",
    "dup_indices = df_to_match[dup_bool].index"
   ]
  },
  {
   "cell_type": "code",
   "execution_count": 725,
   "id": "dda71533-e3a5-4a48-a972-6449a49122c3",
   "metadata": {},
   "outputs": [
    {
     "data": {
      "text/plain": [
       "0       False\n",
       "1       False\n",
       "2       False\n",
       "3       False\n",
       "4       False\n",
       "        ...  \n",
       "1505    False\n",
       "1506    False\n",
       "1507    False\n",
       "1508    False\n",
       "1509    False\n",
       "Length: 1510, dtype: bool"
      ]
     },
     "execution_count": 725,
     "metadata": {},
     "output_type": "execute_result"
    }
   ],
   "source": [
    "dup_bool"
   ]
  },
  {
   "cell_type": "code",
   "execution_count": 726,
   "id": "f1339e3e-fb82-44f0-a8a5-56eed9dc94ea",
   "metadata": {},
   "outputs": [
    {
     "data": {
      "text/plain": [
       "Index([74, 410, 541, 759, 922, 1003, 1155, 1227, 1313, 1401], dtype='int64')"
      ]
     },
     "execution_count": 726,
     "metadata": {},
     "output_type": "execute_result"
    }
   ],
   "source": [
    "dup_indices"
   ]
  },
  {
   "cell_type": "code",
   "execution_count": 727,
   "id": "ff46ba53-59d6-4b18-801a-a3502f9f8930",
   "metadata": {},
   "outputs": [],
   "source": [
    "df_no_duplicates = df.drop(index=dup_indices)"
   ]
  },
  {
   "cell_type": "code",
   "execution_count": 728,
   "id": "3f7a12d6-2e77-49dd-beae-0e916f0f649c",
   "metadata": {},
   "outputs": [
    {
     "data": {
      "text/plain": [
       "(1500, 9)"
      ]
     },
     "execution_count": 728,
     "metadata": {},
     "output_type": "execute_result"
    }
   ],
   "source": [
    "df_no_duplicates.shape"
   ]
  },
  {
   "cell_type": "markdown",
   "id": "2548e3a1-49c3-4f18-8b09-ced394591e8a",
   "metadata": {},
   "source": [
    "## Total number of rows removed are 1510 - 1500 = 10"
   ]
  },
  {
   "cell_type": "code",
   "execution_count": null,
   "id": "9a2b1dee-78de-4e64-8f46-7c1d0b11b1ba",
   "metadata": {},
   "outputs": [],
   "source": []
  },
  {
   "cell_type": "markdown",
   "id": "7da9b159-a89a-4887-82ec-1990f3a3485a",
   "metadata": {},
   "source": [
    "## 2. How many cities have more than 5 stores?"
   ]
  },
  {
   "cell_type": "code",
   "execution_count": 729,
   "id": "cf274a91-a368-44da-a275-97d8697fbe6d",
   "metadata": {},
   "outputs": [],
   "source": [
    "df_cities = pd.read_csv(\"dim_stores.csv\")"
   ]
  },
  {
   "cell_type": "code",
   "execution_count": 730,
   "id": "cd08561e-32d2-495d-b7b0-bd06162e662a",
   "metadata": {},
   "outputs": [
    {
     "data": {
      "text/html": [
       "<div>\n",
       "<style scoped>\n",
       "    .dataframe tbody tr th:only-of-type {\n",
       "        vertical-align: middle;\n",
       "    }\n",
       "\n",
       "    .dataframe tbody tr th {\n",
       "        vertical-align: top;\n",
       "    }\n",
       "\n",
       "    .dataframe thead th {\n",
       "        text-align: right;\n",
       "    }\n",
       "</style>\n",
       "<table border=\"1\" class=\"dataframe\">\n",
       "  <thead>\n",
       "    <tr style=\"text-align: right;\">\n",
       "      <th></th>\n",
       "      <th>store_id</th>\n",
       "      <th>city</th>\n",
       "    </tr>\n",
       "  </thead>\n",
       "  <tbody>\n",
       "    <tr>\n",
       "      <th>0</th>\n",
       "      <td>STTRV-0</td>\n",
       "      <td>Trivandrum</td>\n",
       "    </tr>\n",
       "    <tr>\n",
       "      <th>1</th>\n",
       "      <td>STMDU-3</td>\n",
       "      <td>Madurai</td>\n",
       "    </tr>\n",
       "    <tr>\n",
       "      <th>2</th>\n",
       "      <td>STHYD-6</td>\n",
       "      <td>Hyderabad</td>\n",
       "    </tr>\n",
       "    <tr>\n",
       "      <th>3</th>\n",
       "      <td>STVSK-1</td>\n",
       "      <td>Visakhapatnam</td>\n",
       "    </tr>\n",
       "    <tr>\n",
       "      <th>4</th>\n",
       "      <td>STCBE-3</td>\n",
       "      <td>Coimbatore</td>\n",
       "    </tr>\n",
       "  </tbody>\n",
       "</table>\n",
       "</div>"
      ],
      "text/plain": [
       "  store_id           city\n",
       "0  STTRV-0     Trivandrum\n",
       "1  STMDU-3        Madurai\n",
       "2  STHYD-6      Hyderabad\n",
       "3  STVSK-1  Visakhapatnam\n",
       "4  STCBE-3     Coimbatore"
      ]
     },
     "execution_count": 730,
     "metadata": {},
     "output_type": "execute_result"
    }
   ],
   "source": [
    "df_cities.head()"
   ]
  },
  {
   "cell_type": "code",
   "execution_count": 731,
   "id": "6be1aee2-69ce-4e15-a185-fb052a900117",
   "metadata": {},
   "outputs": [
    {
     "data": {
      "text/html": [
       "<div>\n",
       "<style scoped>\n",
       "    .dataframe tbody tr th:only-of-type {\n",
       "        vertical-align: middle;\n",
       "    }\n",
       "\n",
       "    .dataframe tbody tr th {\n",
       "        vertical-align: top;\n",
       "    }\n",
       "\n",
       "    .dataframe thead th {\n",
       "        text-align: right;\n",
       "    }\n",
       "</style>\n",
       "<table border=\"1\" class=\"dataframe\">\n",
       "  <thead>\n",
       "    <tr style=\"text-align: right;\">\n",
       "      <th></th>\n",
       "      <th>store_id</th>\n",
       "    </tr>\n",
       "    <tr>\n",
       "      <th>city</th>\n",
       "      <th></th>\n",
       "    </tr>\n",
       "  </thead>\n",
       "  <tbody>\n",
       "    <tr>\n",
       "      <th>Bengaluru</th>\n",
       "      <td>10</td>\n",
       "    </tr>\n",
       "    <tr>\n",
       "      <th>Chennai</th>\n",
       "      <td>8</td>\n",
       "    </tr>\n",
       "    <tr>\n",
       "      <th>Coimbatore</th>\n",
       "      <td>5</td>\n",
       "    </tr>\n",
       "    <tr>\n",
       "      <th>Hyderabad</th>\n",
       "      <td>7</td>\n",
       "    </tr>\n",
       "    <tr>\n",
       "      <th>Madurai</th>\n",
       "      <td>4</td>\n",
       "    </tr>\n",
       "    <tr>\n",
       "      <th>Mangalore</th>\n",
       "      <td>3</td>\n",
       "    </tr>\n",
       "    <tr>\n",
       "      <th>Mysuru</th>\n",
       "      <td>4</td>\n",
       "    </tr>\n",
       "    <tr>\n",
       "      <th>Trivandrum</th>\n",
       "      <td>2</td>\n",
       "    </tr>\n",
       "    <tr>\n",
       "      <th>Vijayawada</th>\n",
       "      <td>2</td>\n",
       "    </tr>\n",
       "    <tr>\n",
       "      <th>Visakhapatnam</th>\n",
       "      <td>5</td>\n",
       "    </tr>\n",
       "  </tbody>\n",
       "</table>\n",
       "</div>"
      ],
      "text/plain": [
       "               store_id\n",
       "city                   \n",
       "Bengaluru            10\n",
       "Chennai               8\n",
       "Coimbatore            5\n",
       "Hyderabad             7\n",
       "Madurai               4\n",
       "Mangalore             3\n",
       "Mysuru                4\n",
       "Trivandrum            2\n",
       "Vijayawada            2\n",
       "Visakhapatnam         5"
      ]
     },
     "execution_count": 731,
     "metadata": {},
     "output_type": "execute_result"
    }
   ],
   "source": [
    "df_cities.groupby(\"city\").count()"
   ]
  },
  {
   "cell_type": "code",
   "execution_count": 732,
   "id": "e293b31c-1fd5-471b-a111-934a38a88423",
   "metadata": {},
   "outputs": [
    {
     "data": {
      "text/html": [
       "<div>\n",
       "<style scoped>\n",
       "    .dataframe tbody tr th:only-of-type {\n",
       "        vertical-align: middle;\n",
       "    }\n",
       "\n",
       "    .dataframe tbody tr th {\n",
       "        vertical-align: top;\n",
       "    }\n",
       "\n",
       "    .dataframe thead th {\n",
       "        text-align: right;\n",
       "    }\n",
       "</style>\n",
       "<table border=\"1\" class=\"dataframe\">\n",
       "  <thead>\n",
       "    <tr style=\"text-align: right;\">\n",
       "      <th></th>\n",
       "      <th>store_id</th>\n",
       "    </tr>\n",
       "    <tr>\n",
       "      <th>city</th>\n",
       "      <th></th>\n",
       "    </tr>\n",
       "  </thead>\n",
       "  <tbody>\n",
       "    <tr>\n",
       "      <th>Bengaluru</th>\n",
       "      <td>10</td>\n",
       "    </tr>\n",
       "    <tr>\n",
       "      <th>Chennai</th>\n",
       "      <td>8</td>\n",
       "    </tr>\n",
       "    <tr>\n",
       "      <th>Coimbatore</th>\n",
       "      <td>5</td>\n",
       "    </tr>\n",
       "    <tr>\n",
       "      <th>Hyderabad</th>\n",
       "      <td>7</td>\n",
       "    </tr>\n",
       "    <tr>\n",
       "      <th>Madurai</th>\n",
       "      <td>4</td>\n",
       "    </tr>\n",
       "    <tr>\n",
       "      <th>Mangalore</th>\n",
       "      <td>3</td>\n",
       "    </tr>\n",
       "    <tr>\n",
       "      <th>Mysuru</th>\n",
       "      <td>4</td>\n",
       "    </tr>\n",
       "    <tr>\n",
       "      <th>Trivandrum</th>\n",
       "      <td>2</td>\n",
       "    </tr>\n",
       "    <tr>\n",
       "      <th>Vijayawada</th>\n",
       "      <td>2</td>\n",
       "    </tr>\n",
       "    <tr>\n",
       "      <th>Visakhapatnam</th>\n",
       "      <td>5</td>\n",
       "    </tr>\n",
       "  </tbody>\n",
       "</table>\n",
       "</div>"
      ],
      "text/plain": [
       "               store_id\n",
       "city                   \n",
       "Bengaluru            10\n",
       "Chennai               8\n",
       "Coimbatore            5\n",
       "Hyderabad             7\n",
       "Madurai               4\n",
       "Mangalore             3\n",
       "Mysuru                4\n",
       "Trivandrum            2\n",
       "Vijayawada            2\n",
       "Visakhapatnam         5"
      ]
     },
     "execution_count": 732,
     "metadata": {},
     "output_type": "execute_result"
    }
   ],
   "source": [
    "df_cities.groupby(\"city\").count()"
   ]
  },
  {
   "cell_type": "code",
   "execution_count": 733,
   "id": "8c57fe3b-bb0e-4c7f-971b-81672343b192",
   "metadata": {},
   "outputs": [
    {
     "data": {
      "text/plain": [
       "3"
      ]
     },
     "execution_count": 733,
     "metadata": {},
     "output_type": "execute_result"
    }
   ],
   "source": [
    "(df_cities.groupby(\"city\").size() > 5).sum()"
   ]
  },
  {
   "cell_type": "markdown",
   "id": "accc6867-9337-4ee6-a295-ee375b731be6",
   "metadata": {},
   "source": [
    "## 3 cities have more than 5 stores"
   ]
  },
  {
   "cell_type": "code",
   "execution_count": null,
   "id": "8322507a-7942-4faf-99e6-c8e50632e96a",
   "metadata": {},
   "outputs": [],
   "source": []
  },
  {
   "cell_type": "markdown",
   "id": "ee3fb3e4-02ba-43c3-992d-1512a4cab829",
   "metadata": {},
   "source": [
    "## 3. The sales team has identified missing values in the quantity_sold(before_promo) data. Estimate these values using the median quantity sold before the promotion. How many missing values were filled, and what is the median used for imputation?"
   ]
  },
  {
   "cell_type": "code",
   "execution_count": 734,
   "id": "b2729439-5b29-472e-a835-590a620526c6",
   "metadata": {},
   "outputs": [
    {
     "data": {
      "text/html": [
       "<div>\n",
       "<style scoped>\n",
       "    .dataframe tbody tr th:only-of-type {\n",
       "        vertical-align: middle;\n",
       "    }\n",
       "\n",
       "    .dataframe tbody tr th {\n",
       "        vertical-align: top;\n",
       "    }\n",
       "\n",
       "    .dataframe thead th {\n",
       "        text-align: right;\n",
       "    }\n",
       "</style>\n",
       "<table border=\"1\" class=\"dataframe\">\n",
       "  <thead>\n",
       "    <tr style=\"text-align: right;\">\n",
       "      <th></th>\n",
       "      <th>event_id</th>\n",
       "      <th>store_id</th>\n",
       "      <th>campaign_id</th>\n",
       "      <th>product_code</th>\n",
       "      <th>base_price(before_promo)</th>\n",
       "      <th>quantity_sold(before_promo)</th>\n",
       "      <th>promo_type</th>\n",
       "      <th>base_price(after_promo)</th>\n",
       "      <th>quantity_sold(after_promo)</th>\n",
       "    </tr>\n",
       "  </thead>\n",
       "  <tbody>\n",
       "    <tr>\n",
       "      <th>0</th>\n",
       "      <td>8481be</td>\n",
       "      <td>STCHE-1</td>\n",
       "      <td>CAMP_DIW_01</td>\n",
       "      <td>P04</td>\n",
       "      <td>290</td>\n",
       "      <td>327.0</td>\n",
       "      <td>25% OFF</td>\n",
       "      <td>217</td>\n",
       "      <td>287</td>\n",
       "    </tr>\n",
       "    <tr>\n",
       "      <th>1</th>\n",
       "      <td>20618e</td>\n",
       "      <td>STCHE-3</td>\n",
       "      <td>CAMP_SAN_01</td>\n",
       "      <td>P04</td>\n",
       "      <td>370</td>\n",
       "      <td>379.0</td>\n",
       "      <td>BOGOF</td>\n",
       "      <td>185</td>\n",
       "      <td>1622</td>\n",
       "    </tr>\n",
       "    <tr>\n",
       "      <th>2</th>\n",
       "      <td>f30579</td>\n",
       "      <td>STBLR-9</td>\n",
       "      <td>CAMP_DIW_01</td>\n",
       "      <td>P02</td>\n",
       "      <td>860</td>\n",
       "      <td>337.0</td>\n",
       "      <td>33% OFF</td>\n",
       "      <td>576</td>\n",
       "      <td>488</td>\n",
       "    </tr>\n",
       "    <tr>\n",
       "      <th>3</th>\n",
       "      <td>4f570c</td>\n",
       "      <td>STBLR-7</td>\n",
       "      <td>CAMP_DIW_01</td>\n",
       "      <td>P05</td>\n",
       "      <td>55</td>\n",
       "      <td>122.0</td>\n",
       "      <td>25% OFF</td>\n",
       "      <td>41</td>\n",
       "      <td>107</td>\n",
       "    </tr>\n",
       "    <tr>\n",
       "      <th>4</th>\n",
       "      <td>6d153f</td>\n",
       "      <td>STHYD-5</td>\n",
       "      <td>CAMP_SAN_01</td>\n",
       "      <td>P15</td>\n",
       "      <td>3000</td>\n",
       "      <td>122.0</td>\n",
       "      <td>500 Cashback</td>\n",
       "      <td>2500</td>\n",
       "      <td>272</td>\n",
       "    </tr>\n",
       "  </tbody>\n",
       "</table>\n",
       "</div>"
      ],
      "text/plain": [
       "  event_id store_id  campaign_id product_code  base_price(before_promo)  \\\n",
       "0   8481be  STCHE-1  CAMP_DIW_01          P04                       290   \n",
       "1   20618e  STCHE-3  CAMP_SAN_01          P04                       370   \n",
       "2   f30579  STBLR-9  CAMP_DIW_01          P02                       860   \n",
       "3   4f570c  STBLR-7  CAMP_DIW_01          P05                        55   \n",
       "4   6d153f  STHYD-5  CAMP_SAN_01          P15                      3000   \n",
       "\n",
       "   quantity_sold(before_promo)    promo_type  base_price(after_promo)  \\\n",
       "0                        327.0       25% OFF                      217   \n",
       "1                        379.0         BOGOF                      185   \n",
       "2                        337.0       33% OFF                      576   \n",
       "3                        122.0       25% OFF                       41   \n",
       "4                        122.0  500 Cashback                     2500   \n",
       "\n",
       "   quantity_sold(after_promo)  \n",
       "0                         287  \n",
       "1                        1622  \n",
       "2                         488  \n",
       "3                         107  \n",
       "4                         272  "
      ]
     },
     "execution_count": 734,
     "metadata": {},
     "output_type": "execute_result"
    }
   ],
   "source": [
    "df_no_duplicates.head()"
   ]
  },
  {
   "cell_type": "code",
   "execution_count": 735,
   "id": "ed247e9b-6b91-4f49-9b6e-fb82888231df",
   "metadata": {},
   "outputs": [
    {
     "data": {
      "text/plain": [
       "20"
      ]
     },
     "execution_count": 735,
     "metadata": {},
     "output_type": "execute_result"
    }
   ],
   "source": [
    "df_no_duplicates[\"quantity_sold(before_promo)\"].isnull().sum()"
   ]
  },
  {
   "cell_type": "code",
   "execution_count": 736,
   "id": "67525519-2ac6-4099-acb1-0629c8252ad1",
   "metadata": {},
   "outputs": [],
   "source": [
    "median_reqd = df_no_duplicates[\"quantity_sold(before_promo)\"].median()"
   ]
  },
  {
   "cell_type": "code",
   "execution_count": 737,
   "id": "eae2ca26-8919-43fb-a443-d0f8e930f106",
   "metadata": {},
   "outputs": [
    {
     "data": {
      "text/plain": [
       "78.0"
      ]
     },
     "execution_count": 737,
     "metadata": {},
     "output_type": "execute_result"
    }
   ],
   "source": [
    "median_reqd"
   ]
  },
  {
   "cell_type": "code",
   "execution_count": 738,
   "id": "e497b07e-5207-41ec-9361-851a86960e15",
   "metadata": {},
   "outputs": [],
   "source": [
    "df_no_duplicates['quantity_sold(before_promo)'] = (\n",
    "    df_no_duplicates['quantity_sold(before_promo)'].fillna(median_reqd)\n",
    ")\n"
   ]
  },
  {
   "cell_type": "code",
   "execution_count": 739,
   "id": "44bf8001-3954-454a-b5a8-5600d32bc4cd",
   "metadata": {},
   "outputs": [
    {
     "data": {
      "text/plain": [
       "0"
      ]
     },
     "execution_count": 739,
     "metadata": {},
     "output_type": "execute_result"
    }
   ],
   "source": [
    "df_no_duplicates['quantity_sold(before_promo)'].isnull().sum()"
   ]
  },
  {
   "cell_type": "markdown",
   "id": "8e7b2a29-c6b3-47d5-a45b-b17f38f7e7cf",
   "metadata": {},
   "source": [
    "## 20 missing values were filled with median = 78.0"
   ]
  },
  {
   "cell_type": "code",
   "execution_count": 740,
   "id": "ec33096d-8809-46f5-a8af-60eb6559c90f",
   "metadata": {},
   "outputs": [
    {
     "data": {
      "text/plain": [
       "15"
      ]
     },
     "execution_count": 740,
     "metadata": {},
     "output_type": "execute_result"
    }
   ],
   "source": [
    "df_no_duplicates[\"product_code\"].nunique()"
   ]
  },
  {
   "cell_type": "markdown",
   "id": "6e2d21c9-3907-4986-a01b-da804dd0132c",
   "metadata": {},
   "source": [
    "## 4. Identify the product category with the lowest base price before the promotion."
   ]
  },
  {
   "cell_type": "code",
   "execution_count": 741,
   "id": "d004bd35-e87d-4a19-a8f4-217140d4891d",
   "metadata": {},
   "outputs": [],
   "source": [
    "df_products = pd.read_csv(\"dim_products.csv\")"
   ]
  },
  {
   "cell_type": "code",
   "execution_count": 742,
   "id": "95d4b3d8-be8a-435d-95b4-3d8f46641049",
   "metadata": {},
   "outputs": [
    {
     "data": {
      "text/html": [
       "<div>\n",
       "<style scoped>\n",
       "    .dataframe tbody tr th:only-of-type {\n",
       "        vertical-align: middle;\n",
       "    }\n",
       "\n",
       "    .dataframe tbody tr th {\n",
       "        vertical-align: top;\n",
       "    }\n",
       "\n",
       "    .dataframe thead th {\n",
       "        text-align: right;\n",
       "    }\n",
       "</style>\n",
       "<table border=\"1\" class=\"dataframe\">\n",
       "  <thead>\n",
       "    <tr style=\"text-align: right;\">\n",
       "      <th></th>\n",
       "      <th>product_code</th>\n",
       "      <th>product_name</th>\n",
       "      <th>category</th>\n",
       "    </tr>\n",
       "  </thead>\n",
       "  <tbody>\n",
       "    <tr>\n",
       "      <th>0</th>\n",
       "      <td>P01</td>\n",
       "      <td>Atliq_Masoor_Dal (1KG)</td>\n",
       "      <td>Grocery &amp; Staples</td>\n",
       "    </tr>\n",
       "    <tr>\n",
       "      <th>1</th>\n",
       "      <td>P02</td>\n",
       "      <td>Atliq_Sonamasuri_Rice (10KG)</td>\n",
       "      <td>Grocery &amp; Staples</td>\n",
       "    </tr>\n",
       "    <tr>\n",
       "      <th>2</th>\n",
       "      <td>P03</td>\n",
       "      <td>Atliq_Suflower_Oil (1L)</td>\n",
       "      <td>Grocery &amp; Staples</td>\n",
       "    </tr>\n",
       "    <tr>\n",
       "      <th>3</th>\n",
       "      <td>P04</td>\n",
       "      <td>Atliq_Farm_Chakki_Atta (1KG)</td>\n",
       "      <td>Grocery &amp; Staples</td>\n",
       "    </tr>\n",
       "    <tr>\n",
       "      <th>4</th>\n",
       "      <td>P05</td>\n",
       "      <td>Atliq_Scrub_Sponge_For_Dishwash</td>\n",
       "      <td>Home Care</td>\n",
       "    </tr>\n",
       "  </tbody>\n",
       "</table>\n",
       "</div>"
      ],
      "text/plain": [
       "  product_code                     product_name           category\n",
       "0          P01           Atliq_Masoor_Dal (1KG)  Grocery & Staples\n",
       "1          P02     Atliq_Sonamasuri_Rice (10KG)  Grocery & Staples\n",
       "2          P03          Atliq_Suflower_Oil (1L)  Grocery & Staples\n",
       "3          P04     Atliq_Farm_Chakki_Atta (1KG)  Grocery & Staples\n",
       "4          P05  Atliq_Scrub_Sponge_For_Dishwash          Home Care"
      ]
     },
     "execution_count": 742,
     "metadata": {},
     "output_type": "execute_result"
    }
   ],
   "source": [
    "df_products.head()"
   ]
  },
  {
   "cell_type": "code",
   "execution_count": 743,
   "id": "61efd7d4-8efb-4ba5-b30c-9ef2ae78e711",
   "metadata": {},
   "outputs": [
    {
     "data": {
      "text/plain": [
       "15"
      ]
     },
     "execution_count": 743,
     "metadata": {},
     "output_type": "execute_result"
    }
   ],
   "source": [
    "df_products[\"product_code\"].nunique()"
   ]
  },
  {
   "cell_type": "code",
   "execution_count": 744,
   "id": "faf46ded-e2dd-49c7-bad1-0105482dbcce",
   "metadata": {},
   "outputs": [
    {
     "data": {
      "text/html": [
       "<div>\n",
       "<style scoped>\n",
       "    .dataframe tbody tr th:only-of-type {\n",
       "        vertical-align: middle;\n",
       "    }\n",
       "\n",
       "    .dataframe tbody tr th {\n",
       "        vertical-align: top;\n",
       "    }\n",
       "\n",
       "    .dataframe thead th {\n",
       "        text-align: right;\n",
       "    }\n",
       "</style>\n",
       "<table border=\"1\" class=\"dataframe\">\n",
       "  <thead>\n",
       "    <tr style=\"text-align: right;\">\n",
       "      <th></th>\n",
       "      <th>event_id</th>\n",
       "      <th>store_id</th>\n",
       "      <th>campaign_id</th>\n",
       "      <th>product_code</th>\n",
       "      <th>base_price(before_promo)</th>\n",
       "      <th>quantity_sold(before_promo)</th>\n",
       "      <th>promo_type</th>\n",
       "      <th>base_price(after_promo)</th>\n",
       "      <th>quantity_sold(after_promo)</th>\n",
       "    </tr>\n",
       "  </thead>\n",
       "  <tbody>\n",
       "    <tr>\n",
       "      <th>0</th>\n",
       "      <td>8481be</td>\n",
       "      <td>STCHE-1</td>\n",
       "      <td>CAMP_DIW_01</td>\n",
       "      <td>P04</td>\n",
       "      <td>290</td>\n",
       "      <td>327.0</td>\n",
       "      <td>25% OFF</td>\n",
       "      <td>217</td>\n",
       "      <td>287</td>\n",
       "    </tr>\n",
       "    <tr>\n",
       "      <th>1</th>\n",
       "      <td>20618e</td>\n",
       "      <td>STCHE-3</td>\n",
       "      <td>CAMP_SAN_01</td>\n",
       "      <td>P04</td>\n",
       "      <td>370</td>\n",
       "      <td>379.0</td>\n",
       "      <td>BOGOF</td>\n",
       "      <td>185</td>\n",
       "      <td>1622</td>\n",
       "    </tr>\n",
       "    <tr>\n",
       "      <th>2</th>\n",
       "      <td>f30579</td>\n",
       "      <td>STBLR-9</td>\n",
       "      <td>CAMP_DIW_01</td>\n",
       "      <td>P02</td>\n",
       "      <td>860</td>\n",
       "      <td>337.0</td>\n",
       "      <td>33% OFF</td>\n",
       "      <td>576</td>\n",
       "      <td>488</td>\n",
       "    </tr>\n",
       "    <tr>\n",
       "      <th>3</th>\n",
       "      <td>4f570c</td>\n",
       "      <td>STBLR-7</td>\n",
       "      <td>CAMP_DIW_01</td>\n",
       "      <td>P05</td>\n",
       "      <td>55</td>\n",
       "      <td>122.0</td>\n",
       "      <td>25% OFF</td>\n",
       "      <td>41</td>\n",
       "      <td>107</td>\n",
       "    </tr>\n",
       "    <tr>\n",
       "      <th>4</th>\n",
       "      <td>6d153f</td>\n",
       "      <td>STHYD-5</td>\n",
       "      <td>CAMP_SAN_01</td>\n",
       "      <td>P15</td>\n",
       "      <td>3000</td>\n",
       "      <td>122.0</td>\n",
       "      <td>500 Cashback</td>\n",
       "      <td>2500</td>\n",
       "      <td>272</td>\n",
       "    </tr>\n",
       "  </tbody>\n",
       "</table>\n",
       "</div>"
      ],
      "text/plain": [
       "  event_id store_id  campaign_id product_code  base_price(before_promo)  \\\n",
       "0   8481be  STCHE-1  CAMP_DIW_01          P04                       290   \n",
       "1   20618e  STCHE-3  CAMP_SAN_01          P04                       370   \n",
       "2   f30579  STBLR-9  CAMP_DIW_01          P02                       860   \n",
       "3   4f570c  STBLR-7  CAMP_DIW_01          P05                        55   \n",
       "4   6d153f  STHYD-5  CAMP_SAN_01          P15                      3000   \n",
       "\n",
       "   quantity_sold(before_promo)    promo_type  base_price(after_promo)  \\\n",
       "0                        327.0       25% OFF                      217   \n",
       "1                        379.0         BOGOF                      185   \n",
       "2                        337.0       33% OFF                      576   \n",
       "3                        122.0       25% OFF                       41   \n",
       "4                        122.0  500 Cashback                     2500   \n",
       "\n",
       "   quantity_sold(after_promo)  \n",
       "0                         287  \n",
       "1                        1622  \n",
       "2                         488  \n",
       "3                         107  \n",
       "4                         272  "
      ]
     },
     "execution_count": 744,
     "metadata": {},
     "output_type": "execute_result"
    }
   ],
   "source": [
    "df_no_duplicates.head()"
   ]
  },
  {
   "cell_type": "code",
   "execution_count": 745,
   "id": "8f72b863-a19c-4c20-8df9-d6685f7cffc1",
   "metadata": {},
   "outputs": [],
   "source": [
    "df_new = pd.merge(df_no_duplicates, df_products, on=\"product_code\")"
   ]
  },
  {
   "cell_type": "code",
   "execution_count": 746,
   "id": "0843e17a-38a9-4357-861f-e33716d31ed4",
   "metadata": {},
   "outputs": [],
   "source": [
    "min_prices = df_new.groupby(\"category\")[\"base_price(before_promo)\"].min()"
   ]
  },
  {
   "cell_type": "code",
   "execution_count": 747,
   "id": "2e5cc8f6-71e0-49d7-81fd-980bb80eca12",
   "metadata": {},
   "outputs": [
    {
     "data": {
      "text/plain": [
       "category\n",
       "Combo1               3000\n",
       "Grocery & Staples     156\n",
       "Home Appliances       350\n",
       "Home Care              55\n",
       "Personal Care          50\n",
       "Name: base_price(before_promo), dtype: int64"
      ]
     },
     "execution_count": 747,
     "metadata": {},
     "output_type": "execute_result"
    }
   ],
   "source": [
    "min_prices"
   ]
  },
  {
   "cell_type": "code",
   "execution_count": 748,
   "id": "79b6d7ec-714b-41d6-9c01-740090cdfc55",
   "metadata": {},
   "outputs": [],
   "source": [
    "lowest_product_category = min_prices.idxmin()"
   ]
  },
  {
   "cell_type": "code",
   "execution_count": 749,
   "id": "f84c4aab-1dda-4fad-9b10-9f9e8d7b63b7",
   "metadata": {},
   "outputs": [
    {
     "data": {
      "text/plain": [
       "'Personal Care'"
      ]
     },
     "execution_count": 749,
     "metadata": {},
     "output_type": "execute_result"
    }
   ],
   "source": [
    "lowest_product_category"
   ]
  },
  {
   "cell_type": "code",
   "execution_count": null,
   "id": "bb472cb4-e430-44c7-985a-f5ec6edcf2f1",
   "metadata": {},
   "outputs": [],
   "source": []
  },
  {
   "cell_type": "markdown",
   "id": "8d8e4fe3-8ee8-4b2f-8af2-3e1621733264",
   "metadata": {},
   "source": [
    "## Personal Care is product category with the lowest base price before the promotion"
   ]
  },
  {
   "cell_type": "code",
   "execution_count": null,
   "id": "0420f24f-82a1-43ec-b8ec-22d31d83f269",
   "metadata": {},
   "outputs": [],
   "source": []
  },
  {
   "cell_type": "markdown",
   "id": "dc3eb8c7-e601-4a01-a63c-44ec92f908fd",
   "metadata": {},
   "source": [
    "## 5. What is the total quantity sold after the promotion for the BOGOF promo type during the Diwali campaign?"
   ]
  },
  {
   "cell_type": "code",
   "execution_count": 750,
   "id": "cd0cce72-acc1-4d79-b992-28538335e2b4",
   "metadata": {},
   "outputs": [
    {
     "data": {
      "text/html": [
       "<div>\n",
       "<style scoped>\n",
       "    .dataframe tbody tr th:only-of-type {\n",
       "        vertical-align: middle;\n",
       "    }\n",
       "\n",
       "    .dataframe tbody tr th {\n",
       "        vertical-align: top;\n",
       "    }\n",
       "\n",
       "    .dataframe thead th {\n",
       "        text-align: right;\n",
       "    }\n",
       "</style>\n",
       "<table border=\"1\" class=\"dataframe\">\n",
       "  <thead>\n",
       "    <tr style=\"text-align: right;\">\n",
       "      <th></th>\n",
       "      <th>event_id</th>\n",
       "      <th>store_id</th>\n",
       "      <th>campaign_id</th>\n",
       "      <th>product_code</th>\n",
       "      <th>base_price(before_promo)</th>\n",
       "      <th>quantity_sold(before_promo)</th>\n",
       "      <th>promo_type</th>\n",
       "      <th>base_price(after_promo)</th>\n",
       "      <th>quantity_sold(after_promo)</th>\n",
       "    </tr>\n",
       "  </thead>\n",
       "  <tbody>\n",
       "    <tr>\n",
       "      <th>0</th>\n",
       "      <td>8481be</td>\n",
       "      <td>STCHE-1</td>\n",
       "      <td>CAMP_DIW_01</td>\n",
       "      <td>P04</td>\n",
       "      <td>290</td>\n",
       "      <td>327.0</td>\n",
       "      <td>25% OFF</td>\n",
       "      <td>217</td>\n",
       "      <td>287</td>\n",
       "    </tr>\n",
       "    <tr>\n",
       "      <th>1</th>\n",
       "      <td>20618e</td>\n",
       "      <td>STCHE-3</td>\n",
       "      <td>CAMP_SAN_01</td>\n",
       "      <td>P04</td>\n",
       "      <td>370</td>\n",
       "      <td>379.0</td>\n",
       "      <td>BOGOF</td>\n",
       "      <td>185</td>\n",
       "      <td>1622</td>\n",
       "    </tr>\n",
       "    <tr>\n",
       "      <th>2</th>\n",
       "      <td>f30579</td>\n",
       "      <td>STBLR-9</td>\n",
       "      <td>CAMP_DIW_01</td>\n",
       "      <td>P02</td>\n",
       "      <td>860</td>\n",
       "      <td>337.0</td>\n",
       "      <td>33% OFF</td>\n",
       "      <td>576</td>\n",
       "      <td>488</td>\n",
       "    </tr>\n",
       "    <tr>\n",
       "      <th>3</th>\n",
       "      <td>4f570c</td>\n",
       "      <td>STBLR-7</td>\n",
       "      <td>CAMP_DIW_01</td>\n",
       "      <td>P05</td>\n",
       "      <td>55</td>\n",
       "      <td>122.0</td>\n",
       "      <td>25% OFF</td>\n",
       "      <td>41</td>\n",
       "      <td>107</td>\n",
       "    </tr>\n",
       "    <tr>\n",
       "      <th>4</th>\n",
       "      <td>6d153f</td>\n",
       "      <td>STHYD-5</td>\n",
       "      <td>CAMP_SAN_01</td>\n",
       "      <td>P15</td>\n",
       "      <td>3000</td>\n",
       "      <td>122.0</td>\n",
       "      <td>500 Cashback</td>\n",
       "      <td>2500</td>\n",
       "      <td>272</td>\n",
       "    </tr>\n",
       "  </tbody>\n",
       "</table>\n",
       "</div>"
      ],
      "text/plain": [
       "  event_id store_id  campaign_id product_code  base_price(before_promo)  \\\n",
       "0   8481be  STCHE-1  CAMP_DIW_01          P04                       290   \n",
       "1   20618e  STCHE-3  CAMP_SAN_01          P04                       370   \n",
       "2   f30579  STBLR-9  CAMP_DIW_01          P02                       860   \n",
       "3   4f570c  STBLR-7  CAMP_DIW_01          P05                        55   \n",
       "4   6d153f  STHYD-5  CAMP_SAN_01          P15                      3000   \n",
       "\n",
       "   quantity_sold(before_promo)    promo_type  base_price(after_promo)  \\\n",
       "0                        327.0       25% OFF                      217   \n",
       "1                        379.0         BOGOF                      185   \n",
       "2                        337.0       33% OFF                      576   \n",
       "3                        122.0       25% OFF                       41   \n",
       "4                        122.0  500 Cashback                     2500   \n",
       "\n",
       "   quantity_sold(after_promo)  \n",
       "0                         287  \n",
       "1                        1622  \n",
       "2                         488  \n",
       "3                         107  \n",
       "4                         272  "
      ]
     },
     "execution_count": 750,
     "metadata": {},
     "output_type": "execute_result"
    }
   ],
   "source": [
    "df_no_duplicates.head()"
   ]
  },
  {
   "cell_type": "code",
   "execution_count": 751,
   "id": "2cfe1bd3-ab44-4a93-8ac4-8e5b7647248f",
   "metadata": {},
   "outputs": [],
   "source": [
    "df_campaigns = pd.read_csv(\"dim_campaigns.csv\")"
   ]
  },
  {
   "cell_type": "code",
   "execution_count": 752,
   "id": "c208e403-22c8-47f4-98b0-474d93e678a9",
   "metadata": {},
   "outputs": [
    {
     "data": {
      "text/html": [
       "<div>\n",
       "<style scoped>\n",
       "    .dataframe tbody tr th:only-of-type {\n",
       "        vertical-align: middle;\n",
       "    }\n",
       "\n",
       "    .dataframe tbody tr th {\n",
       "        vertical-align: top;\n",
       "    }\n",
       "\n",
       "    .dataframe thead th {\n",
       "        text-align: right;\n",
       "    }\n",
       "</style>\n",
       "<table border=\"1\" class=\"dataframe\">\n",
       "  <thead>\n",
       "    <tr style=\"text-align: right;\">\n",
       "      <th></th>\n",
       "      <th>campaign_id</th>\n",
       "      <th>campaign_name</th>\n",
       "      <th>start_date</th>\n",
       "      <th>end_date</th>\n",
       "    </tr>\n",
       "  </thead>\n",
       "  <tbody>\n",
       "    <tr>\n",
       "      <th>0</th>\n",
       "      <td>CAMP_DIW_01</td>\n",
       "      <td>Diwali</td>\n",
       "      <td>12/11/2023</td>\n",
       "      <td>18-11-2023</td>\n",
       "    </tr>\n",
       "    <tr>\n",
       "      <th>1</th>\n",
       "      <td>CAMP_SAN_01</td>\n",
       "      <td>Sankranti</td>\n",
       "      <td>10/1/2024</td>\n",
       "      <td>16-01-2024</td>\n",
       "    </tr>\n",
       "  </tbody>\n",
       "</table>\n",
       "</div>"
      ],
      "text/plain": [
       "   campaign_id campaign_name  start_date    end_date\n",
       "0  CAMP_DIW_01        Diwali  12/11/2023  18-11-2023\n",
       "1  CAMP_SAN_01     Sankranti   10/1/2024  16-01-2024"
      ]
     },
     "execution_count": 752,
     "metadata": {},
     "output_type": "execute_result"
    }
   ],
   "source": [
    "df_campaigns.head()"
   ]
  },
  {
   "cell_type": "code",
   "execution_count": 753,
   "id": "126b45ca-f39b-4744-afc8-ce431e2f4fb0",
   "metadata": {},
   "outputs": [],
   "source": [
    "df_new_2 = pd.merge(df_new,df_campaigns, on=\"campaign_id\")"
   ]
  },
  {
   "cell_type": "code",
   "execution_count": 754,
   "id": "d1a0c3b4-96b9-46c8-b374-9780b66994de",
   "metadata": {},
   "outputs": [
    {
     "data": {
      "text/html": [
       "<div>\n",
       "<style scoped>\n",
       "    .dataframe tbody tr th:only-of-type {\n",
       "        vertical-align: middle;\n",
       "    }\n",
       "\n",
       "    .dataframe tbody tr th {\n",
       "        vertical-align: top;\n",
       "    }\n",
       "\n",
       "    .dataframe thead th {\n",
       "        text-align: right;\n",
       "    }\n",
       "</style>\n",
       "<table border=\"1\" class=\"dataframe\">\n",
       "  <thead>\n",
       "    <tr style=\"text-align: right;\">\n",
       "      <th></th>\n",
       "      <th>event_id</th>\n",
       "      <th>store_id</th>\n",
       "      <th>campaign_id</th>\n",
       "      <th>product_code</th>\n",
       "      <th>base_price(before_promo)</th>\n",
       "      <th>quantity_sold(before_promo)</th>\n",
       "      <th>promo_type</th>\n",
       "      <th>base_price(after_promo)</th>\n",
       "      <th>quantity_sold(after_promo)</th>\n",
       "      <th>product_name</th>\n",
       "      <th>category</th>\n",
       "      <th>campaign_name</th>\n",
       "      <th>start_date</th>\n",
       "      <th>end_date</th>\n",
       "    </tr>\n",
       "  </thead>\n",
       "  <tbody>\n",
       "    <tr>\n",
       "      <th>0</th>\n",
       "      <td>8481be</td>\n",
       "      <td>STCHE-1</td>\n",
       "      <td>CAMP_DIW_01</td>\n",
       "      <td>P04</td>\n",
       "      <td>290</td>\n",
       "      <td>327.0</td>\n",
       "      <td>25% OFF</td>\n",
       "      <td>217</td>\n",
       "      <td>287</td>\n",
       "      <td>Atliq_Farm_Chakki_Atta (1KG)</td>\n",
       "      <td>Grocery &amp; Staples</td>\n",
       "      <td>Diwali</td>\n",
       "      <td>12/11/2023</td>\n",
       "      <td>18-11-2023</td>\n",
       "    </tr>\n",
       "    <tr>\n",
       "      <th>1</th>\n",
       "      <td>20618e</td>\n",
       "      <td>STCHE-3</td>\n",
       "      <td>CAMP_SAN_01</td>\n",
       "      <td>P04</td>\n",
       "      <td>370</td>\n",
       "      <td>379.0</td>\n",
       "      <td>BOGOF</td>\n",
       "      <td>185</td>\n",
       "      <td>1622</td>\n",
       "      <td>Atliq_Farm_Chakki_Atta (1KG)</td>\n",
       "      <td>Grocery &amp; Staples</td>\n",
       "      <td>Sankranti</td>\n",
       "      <td>10/1/2024</td>\n",
       "      <td>16-01-2024</td>\n",
       "    </tr>\n",
       "    <tr>\n",
       "      <th>2</th>\n",
       "      <td>f30579</td>\n",
       "      <td>STBLR-9</td>\n",
       "      <td>CAMP_DIW_01</td>\n",
       "      <td>P02</td>\n",
       "      <td>860</td>\n",
       "      <td>337.0</td>\n",
       "      <td>33% OFF</td>\n",
       "      <td>576</td>\n",
       "      <td>488</td>\n",
       "      <td>Atliq_Sonamasuri_Rice (10KG)</td>\n",
       "      <td>Grocery &amp; Staples</td>\n",
       "      <td>Diwali</td>\n",
       "      <td>12/11/2023</td>\n",
       "      <td>18-11-2023</td>\n",
       "    </tr>\n",
       "    <tr>\n",
       "      <th>3</th>\n",
       "      <td>4f570c</td>\n",
       "      <td>STBLR-7</td>\n",
       "      <td>CAMP_DIW_01</td>\n",
       "      <td>P05</td>\n",
       "      <td>55</td>\n",
       "      <td>122.0</td>\n",
       "      <td>25% OFF</td>\n",
       "      <td>41</td>\n",
       "      <td>107</td>\n",
       "      <td>Atliq_Scrub_Sponge_For_Dishwash</td>\n",
       "      <td>Home Care</td>\n",
       "      <td>Diwali</td>\n",
       "      <td>12/11/2023</td>\n",
       "      <td>18-11-2023</td>\n",
       "    </tr>\n",
       "    <tr>\n",
       "      <th>4</th>\n",
       "      <td>6d153f</td>\n",
       "      <td>STHYD-5</td>\n",
       "      <td>CAMP_SAN_01</td>\n",
       "      <td>P15</td>\n",
       "      <td>3000</td>\n",
       "      <td>122.0</td>\n",
       "      <td>500 Cashback</td>\n",
       "      <td>2500</td>\n",
       "      <td>272</td>\n",
       "      <td>Atliq_Home_Essential_8_Product_Combo</td>\n",
       "      <td>Combo1</td>\n",
       "      <td>Sankranti</td>\n",
       "      <td>10/1/2024</td>\n",
       "      <td>16-01-2024</td>\n",
       "    </tr>\n",
       "  </tbody>\n",
       "</table>\n",
       "</div>"
      ],
      "text/plain": [
       "  event_id store_id  campaign_id product_code  base_price(before_promo)  \\\n",
       "0   8481be  STCHE-1  CAMP_DIW_01          P04                       290   \n",
       "1   20618e  STCHE-3  CAMP_SAN_01          P04                       370   \n",
       "2   f30579  STBLR-9  CAMP_DIW_01          P02                       860   \n",
       "3   4f570c  STBLR-7  CAMP_DIW_01          P05                        55   \n",
       "4   6d153f  STHYD-5  CAMP_SAN_01          P15                      3000   \n",
       "\n",
       "   quantity_sold(before_promo)    promo_type  base_price(after_promo)  \\\n",
       "0                        327.0       25% OFF                      217   \n",
       "1                        379.0         BOGOF                      185   \n",
       "2                        337.0       33% OFF                      576   \n",
       "3                        122.0       25% OFF                       41   \n",
       "4                        122.0  500 Cashback                     2500   \n",
       "\n",
       "   quantity_sold(after_promo)                          product_name  \\\n",
       "0                         287          Atliq_Farm_Chakki_Atta (1KG)   \n",
       "1                        1622          Atliq_Farm_Chakki_Atta (1KG)   \n",
       "2                         488          Atliq_Sonamasuri_Rice (10KG)   \n",
       "3                         107       Atliq_Scrub_Sponge_For_Dishwash   \n",
       "4                         272  Atliq_Home_Essential_8_Product_Combo   \n",
       "\n",
       "            category campaign_name  start_date    end_date  \n",
       "0  Grocery & Staples        Diwali  12/11/2023  18-11-2023  \n",
       "1  Grocery & Staples     Sankranti   10/1/2024  16-01-2024  \n",
       "2  Grocery & Staples        Diwali  12/11/2023  18-11-2023  \n",
       "3          Home Care        Diwali  12/11/2023  18-11-2023  \n",
       "4             Combo1     Sankranti   10/1/2024  16-01-2024  "
      ]
     },
     "execution_count": 754,
     "metadata": {},
     "output_type": "execute_result"
    }
   ],
   "source": [
    "df_new_2.head()"
   ]
  },
  {
   "cell_type": "code",
   "execution_count": 755,
   "id": "14e4090c-28ef-411a-9088-37c157a31166",
   "metadata": {},
   "outputs": [],
   "source": [
    "quantity_sold_after = (\n",
    "    df_new_2[df_new_2[\"campaign_name\"] == \"Diwali\"]\n",
    "    .groupby(\"promo_type\")[\"quantity_sold(after_promo)\"]\n",
    "    .sum()\n",
    ")\n"
   ]
  },
  {
   "cell_type": "code",
   "execution_count": 756,
   "id": "de20fadc-ca44-477f-88f7-7e3b8a63381a",
   "metadata": {},
   "outputs": [
    {
     "data": {
      "text/plain": [
       "34461"
      ]
     },
     "execution_count": 756,
     "metadata": {},
     "output_type": "execute_result"
    }
   ],
   "source": [
    "quantity_sold_after[\"BOGOF\"]"
   ]
  },
  {
   "cell_type": "markdown",
   "id": "7a165cef-1f96-4cc6-a1b9-a0039f5b7203",
   "metadata": {},
   "source": [
    "### 34461.0 is the total quantity sold after the promotion for the BOGOF promo type during the Diwali campaign"
   ]
  },
  {
   "cell_type": "code",
   "execution_count": null,
   "id": "1a506f8f-f9b0-4d70-abb1-3850be0e3628",
   "metadata": {},
   "outputs": [],
   "source": []
  },
  {
   "cell_type": "markdown",
   "id": "3063ac0e-31fa-48b8-b5cf-78de26b37013",
   "metadata": {},
   "source": [
    "## 6. Which store recorded the highest quantity sold after the promotion during the Diwali campaign?"
   ]
  },
  {
   "cell_type": "code",
   "execution_count": 757,
   "id": "7577d94b-3ccd-47ae-8bad-50f727fef94f",
   "metadata": {},
   "outputs": [
    {
     "data": {
      "text/html": [
       "<div>\n",
       "<style scoped>\n",
       "    .dataframe tbody tr th:only-of-type {\n",
       "        vertical-align: middle;\n",
       "    }\n",
       "\n",
       "    .dataframe tbody tr th {\n",
       "        vertical-align: top;\n",
       "    }\n",
       "\n",
       "    .dataframe thead th {\n",
       "        text-align: right;\n",
       "    }\n",
       "</style>\n",
       "<table border=\"1\" class=\"dataframe\">\n",
       "  <thead>\n",
       "    <tr style=\"text-align: right;\">\n",
       "      <th></th>\n",
       "      <th>event_id</th>\n",
       "      <th>store_id</th>\n",
       "      <th>campaign_id</th>\n",
       "      <th>product_code</th>\n",
       "      <th>base_price(before_promo)</th>\n",
       "      <th>quantity_sold(before_promo)</th>\n",
       "      <th>promo_type</th>\n",
       "      <th>base_price(after_promo)</th>\n",
       "      <th>quantity_sold(after_promo)</th>\n",
       "      <th>product_name</th>\n",
       "      <th>category</th>\n",
       "      <th>campaign_name</th>\n",
       "      <th>start_date</th>\n",
       "      <th>end_date</th>\n",
       "    </tr>\n",
       "  </thead>\n",
       "  <tbody>\n",
       "    <tr>\n",
       "      <th>0</th>\n",
       "      <td>8481be</td>\n",
       "      <td>STCHE-1</td>\n",
       "      <td>CAMP_DIW_01</td>\n",
       "      <td>P04</td>\n",
       "      <td>290</td>\n",
       "      <td>327.0</td>\n",
       "      <td>25% OFF</td>\n",
       "      <td>217</td>\n",
       "      <td>287</td>\n",
       "      <td>Atliq_Farm_Chakki_Atta (1KG)</td>\n",
       "      <td>Grocery &amp; Staples</td>\n",
       "      <td>Diwali</td>\n",
       "      <td>12/11/2023</td>\n",
       "      <td>18-11-2023</td>\n",
       "    </tr>\n",
       "    <tr>\n",
       "      <th>1</th>\n",
       "      <td>20618e</td>\n",
       "      <td>STCHE-3</td>\n",
       "      <td>CAMP_SAN_01</td>\n",
       "      <td>P04</td>\n",
       "      <td>370</td>\n",
       "      <td>379.0</td>\n",
       "      <td>BOGOF</td>\n",
       "      <td>185</td>\n",
       "      <td>1622</td>\n",
       "      <td>Atliq_Farm_Chakki_Atta (1KG)</td>\n",
       "      <td>Grocery &amp; Staples</td>\n",
       "      <td>Sankranti</td>\n",
       "      <td>10/1/2024</td>\n",
       "      <td>16-01-2024</td>\n",
       "    </tr>\n",
       "    <tr>\n",
       "      <th>2</th>\n",
       "      <td>f30579</td>\n",
       "      <td>STBLR-9</td>\n",
       "      <td>CAMP_DIW_01</td>\n",
       "      <td>P02</td>\n",
       "      <td>860</td>\n",
       "      <td>337.0</td>\n",
       "      <td>33% OFF</td>\n",
       "      <td>576</td>\n",
       "      <td>488</td>\n",
       "      <td>Atliq_Sonamasuri_Rice (10KG)</td>\n",
       "      <td>Grocery &amp; Staples</td>\n",
       "      <td>Diwali</td>\n",
       "      <td>12/11/2023</td>\n",
       "      <td>18-11-2023</td>\n",
       "    </tr>\n",
       "    <tr>\n",
       "      <th>3</th>\n",
       "      <td>4f570c</td>\n",
       "      <td>STBLR-7</td>\n",
       "      <td>CAMP_DIW_01</td>\n",
       "      <td>P05</td>\n",
       "      <td>55</td>\n",
       "      <td>122.0</td>\n",
       "      <td>25% OFF</td>\n",
       "      <td>41</td>\n",
       "      <td>107</td>\n",
       "      <td>Atliq_Scrub_Sponge_For_Dishwash</td>\n",
       "      <td>Home Care</td>\n",
       "      <td>Diwali</td>\n",
       "      <td>12/11/2023</td>\n",
       "      <td>18-11-2023</td>\n",
       "    </tr>\n",
       "    <tr>\n",
       "      <th>4</th>\n",
       "      <td>6d153f</td>\n",
       "      <td>STHYD-5</td>\n",
       "      <td>CAMP_SAN_01</td>\n",
       "      <td>P15</td>\n",
       "      <td>3000</td>\n",
       "      <td>122.0</td>\n",
       "      <td>500 Cashback</td>\n",
       "      <td>2500</td>\n",
       "      <td>272</td>\n",
       "      <td>Atliq_Home_Essential_8_Product_Combo</td>\n",
       "      <td>Combo1</td>\n",
       "      <td>Sankranti</td>\n",
       "      <td>10/1/2024</td>\n",
       "      <td>16-01-2024</td>\n",
       "    </tr>\n",
       "  </tbody>\n",
       "</table>\n",
       "</div>"
      ],
      "text/plain": [
       "  event_id store_id  campaign_id product_code  base_price(before_promo)  \\\n",
       "0   8481be  STCHE-1  CAMP_DIW_01          P04                       290   \n",
       "1   20618e  STCHE-3  CAMP_SAN_01          P04                       370   \n",
       "2   f30579  STBLR-9  CAMP_DIW_01          P02                       860   \n",
       "3   4f570c  STBLR-7  CAMP_DIW_01          P05                        55   \n",
       "4   6d153f  STHYD-5  CAMP_SAN_01          P15                      3000   \n",
       "\n",
       "   quantity_sold(before_promo)    promo_type  base_price(after_promo)  \\\n",
       "0                        327.0       25% OFF                      217   \n",
       "1                        379.0         BOGOF                      185   \n",
       "2                        337.0       33% OFF                      576   \n",
       "3                        122.0       25% OFF                       41   \n",
       "4                        122.0  500 Cashback                     2500   \n",
       "\n",
       "   quantity_sold(after_promo)                          product_name  \\\n",
       "0                         287          Atliq_Farm_Chakki_Atta (1KG)   \n",
       "1                        1622          Atliq_Farm_Chakki_Atta (1KG)   \n",
       "2                         488          Atliq_Sonamasuri_Rice (10KG)   \n",
       "3                         107       Atliq_Scrub_Sponge_For_Dishwash   \n",
       "4                         272  Atliq_Home_Essential_8_Product_Combo   \n",
       "\n",
       "            category campaign_name  start_date    end_date  \n",
       "0  Grocery & Staples        Diwali  12/11/2023  18-11-2023  \n",
       "1  Grocery & Staples     Sankranti   10/1/2024  16-01-2024  \n",
       "2  Grocery & Staples        Diwali  12/11/2023  18-11-2023  \n",
       "3          Home Care        Diwali  12/11/2023  18-11-2023  \n",
       "4             Combo1     Sankranti   10/1/2024  16-01-2024  "
      ]
     },
     "execution_count": 757,
     "metadata": {},
     "output_type": "execute_result"
    }
   ],
   "source": [
    "df_new_2.head()"
   ]
  },
  {
   "cell_type": "code",
   "execution_count": 758,
   "id": "7729187e-90d6-4c94-822c-1772c27d8b36",
   "metadata": {},
   "outputs": [],
   "source": [
    "df_stores = pd.read_csv(\"dim_stores.csv\")"
   ]
  },
  {
   "cell_type": "code",
   "execution_count": 759,
   "id": "11e05e7e-f8ff-4c75-86cd-7556cfa83165",
   "metadata": {},
   "outputs": [
    {
     "data": {
      "text/html": [
       "<div>\n",
       "<style scoped>\n",
       "    .dataframe tbody tr th:only-of-type {\n",
       "        vertical-align: middle;\n",
       "    }\n",
       "\n",
       "    .dataframe tbody tr th {\n",
       "        vertical-align: top;\n",
       "    }\n",
       "\n",
       "    .dataframe thead th {\n",
       "        text-align: right;\n",
       "    }\n",
       "</style>\n",
       "<table border=\"1\" class=\"dataframe\">\n",
       "  <thead>\n",
       "    <tr style=\"text-align: right;\">\n",
       "      <th></th>\n",
       "      <th>store_id</th>\n",
       "      <th>city</th>\n",
       "    </tr>\n",
       "  </thead>\n",
       "  <tbody>\n",
       "    <tr>\n",
       "      <th>0</th>\n",
       "      <td>STTRV-0</td>\n",
       "      <td>Trivandrum</td>\n",
       "    </tr>\n",
       "    <tr>\n",
       "      <th>1</th>\n",
       "      <td>STMDU-3</td>\n",
       "      <td>Madurai</td>\n",
       "    </tr>\n",
       "    <tr>\n",
       "      <th>2</th>\n",
       "      <td>STHYD-6</td>\n",
       "      <td>Hyderabad</td>\n",
       "    </tr>\n",
       "    <tr>\n",
       "      <th>3</th>\n",
       "      <td>STVSK-1</td>\n",
       "      <td>Visakhapatnam</td>\n",
       "    </tr>\n",
       "    <tr>\n",
       "      <th>4</th>\n",
       "      <td>STCBE-3</td>\n",
       "      <td>Coimbatore</td>\n",
       "    </tr>\n",
       "  </tbody>\n",
       "</table>\n",
       "</div>"
      ],
      "text/plain": [
       "  store_id           city\n",
       "0  STTRV-0     Trivandrum\n",
       "1  STMDU-3        Madurai\n",
       "2  STHYD-6      Hyderabad\n",
       "3  STVSK-1  Visakhapatnam\n",
       "4  STCBE-3     Coimbatore"
      ]
     },
     "execution_count": 759,
     "metadata": {},
     "output_type": "execute_result"
    }
   ],
   "source": [
    "df_stores.head()"
   ]
  },
  {
   "cell_type": "code",
   "execution_count": 760,
   "id": "c67beb96-f960-4c6f-aaab-9b1439c4ba57",
   "metadata": {},
   "outputs": [],
   "source": [
    "stores = df_new_2[df_new_2[\"campaign_name\"]==\"Diwali\"].groupby(\"store_id\")[\"quantity_sold(after_promo)\"].sum()"
   ]
  },
  {
   "cell_type": "code",
   "execution_count": 761,
   "id": "dc980d39-6410-41ab-a1f4-78db70d7ab12",
   "metadata": {},
   "outputs": [],
   "source": [
    "store_rqd= stores.idxmax()"
   ]
  },
  {
   "cell_type": "code",
   "execution_count": 762,
   "id": "76f1c4a3-7ca4-4a04-ba74-5d1d40c75071",
   "metadata": {},
   "outputs": [
    {
     "data": {
      "text/plain": [
       "'STCHE-4'"
      ]
     },
     "execution_count": 762,
     "metadata": {},
     "output_type": "execute_result"
    }
   ],
   "source": [
    "store_rqd"
   ]
  },
  {
   "cell_type": "markdown",
   "id": "ade08ffb-0a83-4410-941a-e8fd707a830c",
   "metadata": {},
   "source": [
    "## STCHE-4 recorded the highest quantity sold after the promotion during the Diwali campaign"
   ]
  },
  {
   "cell_type": "code",
   "execution_count": null,
   "id": "b1d213d1-d9e1-477f-97e0-57d4db9c2d09",
   "metadata": {},
   "outputs": [],
   "source": []
  },
  {
   "cell_type": "markdown",
   "id": "1512e984-4726-434a-a66b-ee66be0b207e",
   "metadata": {},
   "source": [
    "## 7. Understand which campaigns had the most successful outcomes. Compare the total quantities sold before and after the promotions for the Sankranti and Diwali campaigns. Which campaign saw a greater increase in sales?"
   ]
  },
  {
   "cell_type": "code",
   "execution_count": 763,
   "id": "187abbb6-77e8-4da6-83dd-acc7f9ce8ddd",
   "metadata": {},
   "outputs": [],
   "source": [
    "diwali_increase = df_new_2[df_new_2[\"campaign_name\"]==\"Diwali\"][\"quantity_sold(after_promo)\"].sum() - df_new_2[df_new_2[\"campaign_name\"]==\"Diwali\"][\"quantity_sold(before_promo)\"].sum()  "
   ]
  },
  {
   "cell_type": "code",
   "execution_count": 764,
   "id": "d948efc1-2aff-41c4-86a0-b9804c8f9527",
   "metadata": {},
   "outputs": [
    {
     "data": {
      "text/plain": [
       "73648.0"
      ]
     },
     "execution_count": 764,
     "metadata": {},
     "output_type": "execute_result"
    }
   ],
   "source": [
    "diwali_increase"
   ]
  },
  {
   "cell_type": "code",
   "execution_count": 765,
   "id": "ad9b1d4f-6aa2-4f02-8b09-49f967e0bb52",
   "metadata": {},
   "outputs": [],
   "source": [
    "sankranti_increase = df_new_2[df_new_2[\"campaign_name\"]==\"Sankranti\"][\"quantity_sold(after_promo)\"].sum() - df_new_2[df_new_2[\"campaign_name\"]==\"Sankranti\"][\"quantity_sold(before_promo)\"].sum()  "
   ]
  },
  {
   "cell_type": "code",
   "execution_count": 766,
   "id": "5a295a6d-d9ce-4c2b-bf68-dbece8b45d2e",
   "metadata": {},
   "outputs": [
    {
     "data": {
      "text/plain": [
       "154175.0"
      ]
     },
     "execution_count": 766,
     "metadata": {},
     "output_type": "execute_result"
    }
   ],
   "source": [
    "sankranti_increase"
   ]
  },
  {
   "cell_type": "markdown",
   "id": "da0b64e4-07e3-4003-ad79-fffeb30ad2cb",
   "metadata": {},
   "source": [
    "## Above result shows that Sankranti campaign saw a greater increase in sales"
   ]
  },
  {
   "cell_type": "code",
   "execution_count": null,
   "id": "590e2506-c3b2-4893-b737-cbb9436c2de2",
   "metadata": {},
   "outputs": [],
   "source": []
  },
  {
   "cell_type": "markdown",
   "id": "875c44cd-b4fe-4506-b128-3c62639cf781",
   "metadata": {},
   "source": [
    "## 8. Which product recorded the highest Incremental Revenue Percentage (IR%) during the Sankranti campaign? What is the IR% for this product?"
   ]
  },
  {
   "cell_type": "code",
   "execution_count": 767,
   "id": "fe8ddbe2-5d26-40d4-9ffa-8cade2c9ff04",
   "metadata": {},
   "outputs": [
    {
     "data": {
      "text/html": [
       "<div>\n",
       "<style scoped>\n",
       "    .dataframe tbody tr th:only-of-type {\n",
       "        vertical-align: middle;\n",
       "    }\n",
       "\n",
       "    .dataframe tbody tr th {\n",
       "        vertical-align: top;\n",
       "    }\n",
       "\n",
       "    .dataframe thead th {\n",
       "        text-align: right;\n",
       "    }\n",
       "</style>\n",
       "<table border=\"1\" class=\"dataframe\">\n",
       "  <thead>\n",
       "    <tr style=\"text-align: right;\">\n",
       "      <th></th>\n",
       "      <th>event_id</th>\n",
       "      <th>store_id</th>\n",
       "      <th>campaign_id</th>\n",
       "      <th>product_code</th>\n",
       "      <th>base_price(before_promo)</th>\n",
       "      <th>quantity_sold(before_promo)</th>\n",
       "      <th>promo_type</th>\n",
       "      <th>base_price(after_promo)</th>\n",
       "      <th>quantity_sold(after_promo)</th>\n",
       "      <th>product_name</th>\n",
       "      <th>category</th>\n",
       "      <th>campaign_name</th>\n",
       "      <th>start_date</th>\n",
       "      <th>end_date</th>\n",
       "    </tr>\n",
       "  </thead>\n",
       "  <tbody>\n",
       "    <tr>\n",
       "      <th>0</th>\n",
       "      <td>8481be</td>\n",
       "      <td>STCHE-1</td>\n",
       "      <td>CAMP_DIW_01</td>\n",
       "      <td>P04</td>\n",
       "      <td>290</td>\n",
       "      <td>327.0</td>\n",
       "      <td>25% OFF</td>\n",
       "      <td>217</td>\n",
       "      <td>287</td>\n",
       "      <td>Atliq_Farm_Chakki_Atta (1KG)</td>\n",
       "      <td>Grocery &amp; Staples</td>\n",
       "      <td>Diwali</td>\n",
       "      <td>12/11/2023</td>\n",
       "      <td>18-11-2023</td>\n",
       "    </tr>\n",
       "    <tr>\n",
       "      <th>1</th>\n",
       "      <td>20618e</td>\n",
       "      <td>STCHE-3</td>\n",
       "      <td>CAMP_SAN_01</td>\n",
       "      <td>P04</td>\n",
       "      <td>370</td>\n",
       "      <td>379.0</td>\n",
       "      <td>BOGOF</td>\n",
       "      <td>185</td>\n",
       "      <td>1622</td>\n",
       "      <td>Atliq_Farm_Chakki_Atta (1KG)</td>\n",
       "      <td>Grocery &amp; Staples</td>\n",
       "      <td>Sankranti</td>\n",
       "      <td>10/1/2024</td>\n",
       "      <td>16-01-2024</td>\n",
       "    </tr>\n",
       "    <tr>\n",
       "      <th>2</th>\n",
       "      <td>f30579</td>\n",
       "      <td>STBLR-9</td>\n",
       "      <td>CAMP_DIW_01</td>\n",
       "      <td>P02</td>\n",
       "      <td>860</td>\n",
       "      <td>337.0</td>\n",
       "      <td>33% OFF</td>\n",
       "      <td>576</td>\n",
       "      <td>488</td>\n",
       "      <td>Atliq_Sonamasuri_Rice (10KG)</td>\n",
       "      <td>Grocery &amp; Staples</td>\n",
       "      <td>Diwali</td>\n",
       "      <td>12/11/2023</td>\n",
       "      <td>18-11-2023</td>\n",
       "    </tr>\n",
       "    <tr>\n",
       "      <th>3</th>\n",
       "      <td>4f570c</td>\n",
       "      <td>STBLR-7</td>\n",
       "      <td>CAMP_DIW_01</td>\n",
       "      <td>P05</td>\n",
       "      <td>55</td>\n",
       "      <td>122.0</td>\n",
       "      <td>25% OFF</td>\n",
       "      <td>41</td>\n",
       "      <td>107</td>\n",
       "      <td>Atliq_Scrub_Sponge_For_Dishwash</td>\n",
       "      <td>Home Care</td>\n",
       "      <td>Diwali</td>\n",
       "      <td>12/11/2023</td>\n",
       "      <td>18-11-2023</td>\n",
       "    </tr>\n",
       "    <tr>\n",
       "      <th>4</th>\n",
       "      <td>6d153f</td>\n",
       "      <td>STHYD-5</td>\n",
       "      <td>CAMP_SAN_01</td>\n",
       "      <td>P15</td>\n",
       "      <td>3000</td>\n",
       "      <td>122.0</td>\n",
       "      <td>500 Cashback</td>\n",
       "      <td>2500</td>\n",
       "      <td>272</td>\n",
       "      <td>Atliq_Home_Essential_8_Product_Combo</td>\n",
       "      <td>Combo1</td>\n",
       "      <td>Sankranti</td>\n",
       "      <td>10/1/2024</td>\n",
       "      <td>16-01-2024</td>\n",
       "    </tr>\n",
       "  </tbody>\n",
       "</table>\n",
       "</div>"
      ],
      "text/plain": [
       "  event_id store_id  campaign_id product_code  base_price(before_promo)  \\\n",
       "0   8481be  STCHE-1  CAMP_DIW_01          P04                       290   \n",
       "1   20618e  STCHE-3  CAMP_SAN_01          P04                       370   \n",
       "2   f30579  STBLR-9  CAMP_DIW_01          P02                       860   \n",
       "3   4f570c  STBLR-7  CAMP_DIW_01          P05                        55   \n",
       "4   6d153f  STHYD-5  CAMP_SAN_01          P15                      3000   \n",
       "\n",
       "   quantity_sold(before_promo)    promo_type  base_price(after_promo)  \\\n",
       "0                        327.0       25% OFF                      217   \n",
       "1                        379.0         BOGOF                      185   \n",
       "2                        337.0       33% OFF                      576   \n",
       "3                        122.0       25% OFF                       41   \n",
       "4                        122.0  500 Cashback                     2500   \n",
       "\n",
       "   quantity_sold(after_promo)                          product_name  \\\n",
       "0                         287          Atliq_Farm_Chakki_Atta (1KG)   \n",
       "1                        1622          Atliq_Farm_Chakki_Atta (1KG)   \n",
       "2                         488          Atliq_Sonamasuri_Rice (10KG)   \n",
       "3                         107       Atliq_Scrub_Sponge_For_Dishwash   \n",
       "4                         272  Atliq_Home_Essential_8_Product_Combo   \n",
       "\n",
       "            category campaign_name  start_date    end_date  \n",
       "0  Grocery & Staples        Diwali  12/11/2023  18-11-2023  \n",
       "1  Grocery & Staples     Sankranti   10/1/2024  16-01-2024  \n",
       "2  Grocery & Staples        Diwali  12/11/2023  18-11-2023  \n",
       "3          Home Care        Diwali  12/11/2023  18-11-2023  \n",
       "4             Combo1     Sankranti   10/1/2024  16-01-2024  "
      ]
     },
     "execution_count": 767,
     "metadata": {},
     "output_type": "execute_result"
    }
   ],
   "source": [
    "df_new_2.head()"
   ]
  },
  {
   "cell_type": "code",
   "execution_count": 768,
   "id": "01b75b7f-ead4-4dcc-abce-3da28ae9b61e",
   "metadata": {},
   "outputs": [],
   "source": [
    "df_new_2[\"revenue_before_promo\"] = df_new_2[\"base_price(before_promo)\"]*df_new_2[\"quantity_sold(before_promo)\"]\n",
    "df_new_2[\"revenue_after_promo\"] = df_new_2[\"base_price(after_promo)\"]*df_new_2[\"quantity_sold(after_promo)\"]"
   ]
  },
  {
   "cell_type": "code",
   "execution_count": 769,
   "id": "abb15556-165b-44cc-908d-180b3e629f47",
   "metadata": {},
   "outputs": [
    {
     "data": {
      "text/plain": [
       "0"
      ]
     },
     "execution_count": 769,
     "metadata": {},
     "output_type": "execute_result"
    }
   ],
   "source": [
    "df_new_2.duplicated().sum()"
   ]
  },
  {
   "cell_type": "code",
   "execution_count": 770,
   "id": "05e26458-b84b-47c9-9b1d-f1d10ef9e03c",
   "metadata": {},
   "outputs": [
    {
     "data": {
      "text/html": [
       "<div>\n",
       "<style scoped>\n",
       "    .dataframe tbody tr th:only-of-type {\n",
       "        vertical-align: middle;\n",
       "    }\n",
       "\n",
       "    .dataframe tbody tr th {\n",
       "        vertical-align: top;\n",
       "    }\n",
       "\n",
       "    .dataframe thead th {\n",
       "        text-align: right;\n",
       "    }\n",
       "</style>\n",
       "<table border=\"1\" class=\"dataframe\">\n",
       "  <thead>\n",
       "    <tr style=\"text-align: right;\">\n",
       "      <th></th>\n",
       "      <th>event_id</th>\n",
       "      <th>store_id</th>\n",
       "      <th>campaign_id</th>\n",
       "      <th>product_code</th>\n",
       "      <th>base_price(before_promo)</th>\n",
       "      <th>quantity_sold(before_promo)</th>\n",
       "      <th>promo_type</th>\n",
       "      <th>base_price(after_promo)</th>\n",
       "      <th>quantity_sold(after_promo)</th>\n",
       "      <th>product_name</th>\n",
       "      <th>category</th>\n",
       "      <th>campaign_name</th>\n",
       "      <th>start_date</th>\n",
       "      <th>end_date</th>\n",
       "      <th>revenue_before_promo</th>\n",
       "      <th>revenue_after_promo</th>\n",
       "    </tr>\n",
       "  </thead>\n",
       "  <tbody>\n",
       "    <tr>\n",
       "      <th>0</th>\n",
       "      <td>8481be</td>\n",
       "      <td>STCHE-1</td>\n",
       "      <td>CAMP_DIW_01</td>\n",
       "      <td>P04</td>\n",
       "      <td>290</td>\n",
       "      <td>327.0</td>\n",
       "      <td>25% OFF</td>\n",
       "      <td>217</td>\n",
       "      <td>287</td>\n",
       "      <td>Atliq_Farm_Chakki_Atta (1KG)</td>\n",
       "      <td>Grocery &amp; Staples</td>\n",
       "      <td>Diwali</td>\n",
       "      <td>12/11/2023</td>\n",
       "      <td>18-11-2023</td>\n",
       "      <td>94830.0</td>\n",
       "      <td>62279</td>\n",
       "    </tr>\n",
       "    <tr>\n",
       "      <th>1</th>\n",
       "      <td>20618e</td>\n",
       "      <td>STCHE-3</td>\n",
       "      <td>CAMP_SAN_01</td>\n",
       "      <td>P04</td>\n",
       "      <td>370</td>\n",
       "      <td>379.0</td>\n",
       "      <td>BOGOF</td>\n",
       "      <td>185</td>\n",
       "      <td>1622</td>\n",
       "      <td>Atliq_Farm_Chakki_Atta (1KG)</td>\n",
       "      <td>Grocery &amp; Staples</td>\n",
       "      <td>Sankranti</td>\n",
       "      <td>10/1/2024</td>\n",
       "      <td>16-01-2024</td>\n",
       "      <td>140230.0</td>\n",
       "      <td>300070</td>\n",
       "    </tr>\n",
       "    <tr>\n",
       "      <th>2</th>\n",
       "      <td>f30579</td>\n",
       "      <td>STBLR-9</td>\n",
       "      <td>CAMP_DIW_01</td>\n",
       "      <td>P02</td>\n",
       "      <td>860</td>\n",
       "      <td>337.0</td>\n",
       "      <td>33% OFF</td>\n",
       "      <td>576</td>\n",
       "      <td>488</td>\n",
       "      <td>Atliq_Sonamasuri_Rice (10KG)</td>\n",
       "      <td>Grocery &amp; Staples</td>\n",
       "      <td>Diwali</td>\n",
       "      <td>12/11/2023</td>\n",
       "      <td>18-11-2023</td>\n",
       "      <td>289820.0</td>\n",
       "      <td>281088</td>\n",
       "    </tr>\n",
       "    <tr>\n",
       "      <th>3</th>\n",
       "      <td>4f570c</td>\n",
       "      <td>STBLR-7</td>\n",
       "      <td>CAMP_DIW_01</td>\n",
       "      <td>P05</td>\n",
       "      <td>55</td>\n",
       "      <td>122.0</td>\n",
       "      <td>25% OFF</td>\n",
       "      <td>41</td>\n",
       "      <td>107</td>\n",
       "      <td>Atliq_Scrub_Sponge_For_Dishwash</td>\n",
       "      <td>Home Care</td>\n",
       "      <td>Diwali</td>\n",
       "      <td>12/11/2023</td>\n",
       "      <td>18-11-2023</td>\n",
       "      <td>6710.0</td>\n",
       "      <td>4387</td>\n",
       "    </tr>\n",
       "    <tr>\n",
       "      <th>4</th>\n",
       "      <td>6d153f</td>\n",
       "      <td>STHYD-5</td>\n",
       "      <td>CAMP_SAN_01</td>\n",
       "      <td>P15</td>\n",
       "      <td>3000</td>\n",
       "      <td>122.0</td>\n",
       "      <td>500 Cashback</td>\n",
       "      <td>2500</td>\n",
       "      <td>272</td>\n",
       "      <td>Atliq_Home_Essential_8_Product_Combo</td>\n",
       "      <td>Combo1</td>\n",
       "      <td>Sankranti</td>\n",
       "      <td>10/1/2024</td>\n",
       "      <td>16-01-2024</td>\n",
       "      <td>366000.0</td>\n",
       "      <td>680000</td>\n",
       "    </tr>\n",
       "  </tbody>\n",
       "</table>\n",
       "</div>"
      ],
      "text/plain": [
       "  event_id store_id  campaign_id product_code  base_price(before_promo)  \\\n",
       "0   8481be  STCHE-1  CAMP_DIW_01          P04                       290   \n",
       "1   20618e  STCHE-3  CAMP_SAN_01          P04                       370   \n",
       "2   f30579  STBLR-9  CAMP_DIW_01          P02                       860   \n",
       "3   4f570c  STBLR-7  CAMP_DIW_01          P05                        55   \n",
       "4   6d153f  STHYD-5  CAMP_SAN_01          P15                      3000   \n",
       "\n",
       "   quantity_sold(before_promo)    promo_type  base_price(after_promo)  \\\n",
       "0                        327.0       25% OFF                      217   \n",
       "1                        379.0         BOGOF                      185   \n",
       "2                        337.0       33% OFF                      576   \n",
       "3                        122.0       25% OFF                       41   \n",
       "4                        122.0  500 Cashback                     2500   \n",
       "\n",
       "   quantity_sold(after_promo)                          product_name  \\\n",
       "0                         287          Atliq_Farm_Chakki_Atta (1KG)   \n",
       "1                        1622          Atliq_Farm_Chakki_Atta (1KG)   \n",
       "2                         488          Atliq_Sonamasuri_Rice (10KG)   \n",
       "3                         107       Atliq_Scrub_Sponge_For_Dishwash   \n",
       "4                         272  Atliq_Home_Essential_8_Product_Combo   \n",
       "\n",
       "            category campaign_name  start_date    end_date  \\\n",
       "0  Grocery & Staples        Diwali  12/11/2023  18-11-2023   \n",
       "1  Grocery & Staples     Sankranti   10/1/2024  16-01-2024   \n",
       "2  Grocery & Staples        Diwali  12/11/2023  18-11-2023   \n",
       "3          Home Care        Diwali  12/11/2023  18-11-2023   \n",
       "4             Combo1     Sankranti   10/1/2024  16-01-2024   \n",
       "\n",
       "   revenue_before_promo  revenue_after_promo  \n",
       "0               94830.0                62279  \n",
       "1              140230.0               300070  \n",
       "2              289820.0               281088  \n",
       "3                6710.0                 4387  \n",
       "4              366000.0               680000  "
      ]
     },
     "execution_count": 770,
     "metadata": {},
     "output_type": "execute_result"
    }
   ],
   "source": [
    "df_new_2.head()"
   ]
  },
  {
   "cell_type": "code",
   "execution_count": 771,
   "id": "82dbd544-58c2-4378-802d-900493948dc7",
   "metadata": {},
   "outputs": [],
   "source": [
    "sankranti_ir = (\n",
    "    df_new_2[df_new_2[\"campaign_name\"] == \"Sankranti\"]\n",
    "    .groupby(\"product_name\")[[\"revenue_before_promo\", \"revenue_after_promo\"]]\n",
    "    .sum()\n",
    ")"
   ]
  },
  {
   "cell_type": "code",
   "execution_count": 772,
   "id": "15e886b2-dae6-4a9e-a12a-032d6629717f",
   "metadata": {},
   "outputs": [],
   "source": [
    "sankranti_ir[\"IR%\"] = ((sankranti_ir[\"revenue_after_promo\"] - sankranti_ir[\"revenue_before_promo\"]) / sankranti_ir[\"revenue_before_promo\"]) * 100"
   ]
  },
  {
   "cell_type": "code",
   "execution_count": 773,
   "id": "73a5b00b-88a7-4f70-8968-a90e070f57ad",
   "metadata": {},
   "outputs": [
    {
     "data": {
      "text/html": [
       "<div>\n",
       "<style scoped>\n",
       "    .dataframe tbody tr th:only-of-type {\n",
       "        vertical-align: middle;\n",
       "    }\n",
       "\n",
       "    .dataframe tbody tr th {\n",
       "        vertical-align: top;\n",
       "    }\n",
       "\n",
       "    .dataframe thead th {\n",
       "        text-align: right;\n",
       "    }\n",
       "</style>\n",
       "<table border=\"1\" class=\"dataframe\">\n",
       "  <thead>\n",
       "    <tr style=\"text-align: right;\">\n",
       "      <th></th>\n",
       "      <th>revenue_before_promo</th>\n",
       "      <th>revenue_after_promo</th>\n",
       "      <th>IR%</th>\n",
       "    </tr>\n",
       "    <tr>\n",
       "      <th>product_name</th>\n",
       "      <th></th>\n",
       "      <th></th>\n",
       "      <th></th>\n",
       "    </tr>\n",
       "  </thead>\n",
       "  <tbody>\n",
       "    <tr>\n",
       "      <th>Atliq_Body_Milk_Nourishing_Lotion (120ML)</th>\n",
       "      <td>239040.0</td>\n",
       "      <td>146462</td>\n",
       "      <td>-38.729083</td>\n",
       "    </tr>\n",
       "    <tr>\n",
       "      <th>Atliq_Cream_Beauty_Bathing_Soap (125GM)</th>\n",
       "      <td>75400.0</td>\n",
       "      <td>42328</td>\n",
       "      <td>-43.862069</td>\n",
       "    </tr>\n",
       "    <tr>\n",
       "      <th>Atliq_Curtains</th>\n",
       "      <td>583500.0</td>\n",
       "      <td>1065450</td>\n",
       "      <td>82.596401</td>\n",
       "    </tr>\n",
       "    <tr>\n",
       "      <th>Atliq_Doodh_Kesar_Body_Lotion (200ML)</th>\n",
       "      <td>373350.0</td>\n",
       "      <td>258970</td>\n",
       "      <td>-30.636132</td>\n",
       "    </tr>\n",
       "    <tr>\n",
       "      <th>Atliq_Double_Bedsheet_set</th>\n",
       "      <td>2485910.0</td>\n",
       "      <td>4649330</td>\n",
       "      <td>87.027286</td>\n",
       "    </tr>\n",
       "    <tr>\n",
       "      <th>Atliq_Farm_Chakki_Atta (1KG)</th>\n",
       "      <td>6813550.0</td>\n",
       "      <td>12779800</td>\n",
       "      <td>87.564485</td>\n",
       "    </tr>\n",
       "    <tr>\n",
       "      <th>Atliq_Fusion_Container_Set_of_3</th>\n",
       "      <td>561080.0</td>\n",
       "      <td>342722</td>\n",
       "      <td>-38.917445</td>\n",
       "    </tr>\n",
       "    <tr>\n",
       "      <th>Atliq_High_Glo_15W_LED_Bulb</th>\n",
       "      <td>1740550.0</td>\n",
       "      <td>3303125</td>\n",
       "      <td>89.774784</td>\n",
       "    </tr>\n",
       "    <tr>\n",
       "      <th>Atliq_Home_Essential_8_Product_Combo</th>\n",
       "      <td>16185000.0</td>\n",
       "      <td>31027500</td>\n",
       "      <td>91.705283</td>\n",
       "    </tr>\n",
       "    <tr>\n",
       "      <th>Atliq_Lime_Cool_Bathing_Bar (125GM)</th>\n",
       "      <td>154132.0</td>\n",
       "      <td>104594</td>\n",
       "      <td>-32.139984</td>\n",
       "    </tr>\n",
       "    <tr>\n",
       "      <th>Atliq_Masoor_Dal (1KG)</th>\n",
       "      <td>2108376.0</td>\n",
       "      <td>2011235</td>\n",
       "      <td>-4.607385</td>\n",
       "    </tr>\n",
       "    <tr>\n",
       "      <th>Atliq_Scrub_Sponge_For_Dishwash</th>\n",
       "      <td>59675.0</td>\n",
       "      <td>35875</td>\n",
       "      <td>-39.882698</td>\n",
       "    </tr>\n",
       "    <tr>\n",
       "      <th>Atliq_Sonamasuri_Rice (10KG)</th>\n",
       "      <td>18374760.0</td>\n",
       "      <td>17262720</td>\n",
       "      <td>-6.051997</td>\n",
       "    </tr>\n",
       "    <tr>\n",
       "      <th>Atliq_Suflower_Oil (1L)</th>\n",
       "      <td>3189600.0</td>\n",
       "      <td>6118500</td>\n",
       "      <td>91.826561</td>\n",
       "    </tr>\n",
       "    <tr>\n",
       "      <th>Atliq_waterproof_Immersion_Rod</th>\n",
       "      <td>4542060.0</td>\n",
       "      <td>8534850</td>\n",
       "      <td>87.907029</td>\n",
       "    </tr>\n",
       "  </tbody>\n",
       "</table>\n",
       "</div>"
      ],
      "text/plain": [
       "                                           revenue_before_promo  \\\n",
       "product_name                                                      \n",
       "Atliq_Body_Milk_Nourishing_Lotion (120ML)              239040.0   \n",
       "Atliq_Cream_Beauty_Bathing_Soap (125GM)                 75400.0   \n",
       "Atliq_Curtains                                         583500.0   \n",
       "Atliq_Doodh_Kesar_Body_Lotion (200ML)                  373350.0   \n",
       "Atliq_Double_Bedsheet_set                             2485910.0   \n",
       "Atliq_Farm_Chakki_Atta (1KG)                          6813550.0   \n",
       "Atliq_Fusion_Container_Set_of_3                        561080.0   \n",
       "Atliq_High_Glo_15W_LED_Bulb                           1740550.0   \n",
       "Atliq_Home_Essential_8_Product_Combo                 16185000.0   \n",
       "Atliq_Lime_Cool_Bathing_Bar (125GM)                    154132.0   \n",
       "Atliq_Masoor_Dal (1KG)                                2108376.0   \n",
       "Atliq_Scrub_Sponge_For_Dishwash                         59675.0   \n",
       "Atliq_Sonamasuri_Rice (10KG)                         18374760.0   \n",
       "Atliq_Suflower_Oil (1L)                               3189600.0   \n",
       "Atliq_waterproof_Immersion_Rod                        4542060.0   \n",
       "\n",
       "                                           revenue_after_promo        IR%  \n",
       "product_name                                                               \n",
       "Atliq_Body_Milk_Nourishing_Lotion (120ML)               146462 -38.729083  \n",
       "Atliq_Cream_Beauty_Bathing_Soap (125GM)                  42328 -43.862069  \n",
       "Atliq_Curtains                                         1065450  82.596401  \n",
       "Atliq_Doodh_Kesar_Body_Lotion (200ML)                   258970 -30.636132  \n",
       "Atliq_Double_Bedsheet_set                              4649330  87.027286  \n",
       "Atliq_Farm_Chakki_Atta (1KG)                          12779800  87.564485  \n",
       "Atliq_Fusion_Container_Set_of_3                         342722 -38.917445  \n",
       "Atliq_High_Glo_15W_LED_Bulb                            3303125  89.774784  \n",
       "Atliq_Home_Essential_8_Product_Combo                  31027500  91.705283  \n",
       "Atliq_Lime_Cool_Bathing_Bar (125GM)                     104594 -32.139984  \n",
       "Atliq_Masoor_Dal (1KG)                                 2011235  -4.607385  \n",
       "Atliq_Scrub_Sponge_For_Dishwash                          35875 -39.882698  \n",
       "Atliq_Sonamasuri_Rice (10KG)                          17262720  -6.051997  \n",
       "Atliq_Suflower_Oil (1L)                                6118500  91.826561  \n",
       "Atliq_waterproof_Immersion_Rod                         8534850  87.907029  "
      ]
     },
     "execution_count": 773,
     "metadata": {},
     "output_type": "execute_result"
    }
   ],
   "source": [
    "sankranti_ir"
   ]
  },
  {
   "cell_type": "code",
   "execution_count": 774,
   "id": "1d17586c-dd60-4608-9e6c-07097e2045c1",
   "metadata": {},
   "outputs": [],
   "source": [
    "top_product = sankranti_ir[\"IR%\"].idxmax()\n",
    "top_ir = sankranti_ir[\"IR%\"].max()"
   ]
  },
  {
   "cell_type": "code",
   "execution_count": 775,
   "id": "9dc0c9b2-ea32-4e06-bfdb-a9d2711496e0",
   "metadata": {},
   "outputs": [
    {
     "data": {
      "text/plain": [
       "('Atliq_Suflower_Oil (1L)', 91.826561324304)"
      ]
     },
     "execution_count": 775,
     "metadata": {},
     "output_type": "execute_result"
    }
   ],
   "source": [
    "top_product, top_ir"
   ]
  },
  {
   "cell_type": "markdown",
   "id": "62ada9db-1868-402f-b442-c3c4c51fc7cb",
   "metadata": {},
   "source": [
    "## Atliq_Suflower_Oil (1L) recorded the highest Incremental Revenue Percentage (IR%) during the Sankranti campaign with IR% as 91.82"
   ]
  },
  {
   "cell_type": "code",
   "execution_count": null,
   "id": "72e14506-8f1f-4899-b5f8-516c406f9ead",
   "metadata": {},
   "outputs": [],
   "source": []
  },
  {
   "cell_type": "markdown",
   "id": "14975a7c-19ac-4c80-81a3-bd03a32a279a",
   "metadata": {},
   "source": [
    "## 9. Which store in Visakhapatnam recorded the lowest Incremental Sold Units Percentage (ISU%) during the Diwali campaign? What is the ISU% for that store?"
   ]
  },
  {
   "cell_type": "code",
   "execution_count": 776,
   "id": "5101db24-dfcf-4a5b-aea6-a0728cc7e1f9",
   "metadata": {},
   "outputs": [],
   "source": [
    "df_new_2 = pd.merge(df_new_2,df_cities, on=\"store_id\")"
   ]
  },
  {
   "cell_type": "code",
   "execution_count": 777,
   "id": "e61e2be0-6a7e-4c74-b767-a6402da76538",
   "metadata": {},
   "outputs": [
    {
     "data": {
      "text/html": [
       "<div>\n",
       "<style scoped>\n",
       "    .dataframe tbody tr th:only-of-type {\n",
       "        vertical-align: middle;\n",
       "    }\n",
       "\n",
       "    .dataframe tbody tr th {\n",
       "        vertical-align: top;\n",
       "    }\n",
       "\n",
       "    .dataframe thead th {\n",
       "        text-align: right;\n",
       "    }\n",
       "</style>\n",
       "<table border=\"1\" class=\"dataframe\">\n",
       "  <thead>\n",
       "    <tr style=\"text-align: right;\">\n",
       "      <th></th>\n",
       "      <th>event_id</th>\n",
       "      <th>store_id</th>\n",
       "      <th>campaign_id</th>\n",
       "      <th>product_code</th>\n",
       "      <th>base_price(before_promo)</th>\n",
       "      <th>quantity_sold(before_promo)</th>\n",
       "      <th>promo_type</th>\n",
       "      <th>base_price(after_promo)</th>\n",
       "      <th>quantity_sold(after_promo)</th>\n",
       "      <th>product_name</th>\n",
       "      <th>category</th>\n",
       "      <th>campaign_name</th>\n",
       "      <th>start_date</th>\n",
       "      <th>end_date</th>\n",
       "      <th>revenue_before_promo</th>\n",
       "      <th>revenue_after_promo</th>\n",
       "      <th>city</th>\n",
       "    </tr>\n",
       "  </thead>\n",
       "  <tbody>\n",
       "    <tr>\n",
       "      <th>0</th>\n",
       "      <td>8481be</td>\n",
       "      <td>STCHE-1</td>\n",
       "      <td>CAMP_DIW_01</td>\n",
       "      <td>P04</td>\n",
       "      <td>290</td>\n",
       "      <td>327.0</td>\n",
       "      <td>25% OFF</td>\n",
       "      <td>217</td>\n",
       "      <td>287</td>\n",
       "      <td>Atliq_Farm_Chakki_Atta (1KG)</td>\n",
       "      <td>Grocery &amp; Staples</td>\n",
       "      <td>Diwali</td>\n",
       "      <td>12/11/2023</td>\n",
       "      <td>18-11-2023</td>\n",
       "      <td>94830.0</td>\n",
       "      <td>62279</td>\n",
       "      <td>Chennai</td>\n",
       "    </tr>\n",
       "    <tr>\n",
       "      <th>1</th>\n",
       "      <td>20618e</td>\n",
       "      <td>STCHE-3</td>\n",
       "      <td>CAMP_SAN_01</td>\n",
       "      <td>P04</td>\n",
       "      <td>370</td>\n",
       "      <td>379.0</td>\n",
       "      <td>BOGOF</td>\n",
       "      <td>185</td>\n",
       "      <td>1622</td>\n",
       "      <td>Atliq_Farm_Chakki_Atta (1KG)</td>\n",
       "      <td>Grocery &amp; Staples</td>\n",
       "      <td>Sankranti</td>\n",
       "      <td>10/1/2024</td>\n",
       "      <td>16-01-2024</td>\n",
       "      <td>140230.0</td>\n",
       "      <td>300070</td>\n",
       "      <td>Chennai</td>\n",
       "    </tr>\n",
       "    <tr>\n",
       "      <th>2</th>\n",
       "      <td>f30579</td>\n",
       "      <td>STBLR-9</td>\n",
       "      <td>CAMP_DIW_01</td>\n",
       "      <td>P02</td>\n",
       "      <td>860</td>\n",
       "      <td>337.0</td>\n",
       "      <td>33% OFF</td>\n",
       "      <td>576</td>\n",
       "      <td>488</td>\n",
       "      <td>Atliq_Sonamasuri_Rice (10KG)</td>\n",
       "      <td>Grocery &amp; Staples</td>\n",
       "      <td>Diwali</td>\n",
       "      <td>12/11/2023</td>\n",
       "      <td>18-11-2023</td>\n",
       "      <td>289820.0</td>\n",
       "      <td>281088</td>\n",
       "      <td>Bengaluru</td>\n",
       "    </tr>\n",
       "    <tr>\n",
       "      <th>3</th>\n",
       "      <td>4f570c</td>\n",
       "      <td>STBLR-7</td>\n",
       "      <td>CAMP_DIW_01</td>\n",
       "      <td>P05</td>\n",
       "      <td>55</td>\n",
       "      <td>122.0</td>\n",
       "      <td>25% OFF</td>\n",
       "      <td>41</td>\n",
       "      <td>107</td>\n",
       "      <td>Atliq_Scrub_Sponge_For_Dishwash</td>\n",
       "      <td>Home Care</td>\n",
       "      <td>Diwali</td>\n",
       "      <td>12/11/2023</td>\n",
       "      <td>18-11-2023</td>\n",
       "      <td>6710.0</td>\n",
       "      <td>4387</td>\n",
       "      <td>Bengaluru</td>\n",
       "    </tr>\n",
       "    <tr>\n",
       "      <th>4</th>\n",
       "      <td>6d153f</td>\n",
       "      <td>STHYD-5</td>\n",
       "      <td>CAMP_SAN_01</td>\n",
       "      <td>P15</td>\n",
       "      <td>3000</td>\n",
       "      <td>122.0</td>\n",
       "      <td>500 Cashback</td>\n",
       "      <td>2500</td>\n",
       "      <td>272</td>\n",
       "      <td>Atliq_Home_Essential_8_Product_Combo</td>\n",
       "      <td>Combo1</td>\n",
       "      <td>Sankranti</td>\n",
       "      <td>10/1/2024</td>\n",
       "      <td>16-01-2024</td>\n",
       "      <td>366000.0</td>\n",
       "      <td>680000</td>\n",
       "      <td>Hyderabad</td>\n",
       "    </tr>\n",
       "  </tbody>\n",
       "</table>\n",
       "</div>"
      ],
      "text/plain": [
       "  event_id store_id  campaign_id product_code  base_price(before_promo)  \\\n",
       "0   8481be  STCHE-1  CAMP_DIW_01          P04                       290   \n",
       "1   20618e  STCHE-3  CAMP_SAN_01          P04                       370   \n",
       "2   f30579  STBLR-9  CAMP_DIW_01          P02                       860   \n",
       "3   4f570c  STBLR-7  CAMP_DIW_01          P05                        55   \n",
       "4   6d153f  STHYD-5  CAMP_SAN_01          P15                      3000   \n",
       "\n",
       "   quantity_sold(before_promo)    promo_type  base_price(after_promo)  \\\n",
       "0                        327.0       25% OFF                      217   \n",
       "1                        379.0         BOGOF                      185   \n",
       "2                        337.0       33% OFF                      576   \n",
       "3                        122.0       25% OFF                       41   \n",
       "4                        122.0  500 Cashback                     2500   \n",
       "\n",
       "   quantity_sold(after_promo)                          product_name  \\\n",
       "0                         287          Atliq_Farm_Chakki_Atta (1KG)   \n",
       "1                        1622          Atliq_Farm_Chakki_Atta (1KG)   \n",
       "2                         488          Atliq_Sonamasuri_Rice (10KG)   \n",
       "3                         107       Atliq_Scrub_Sponge_For_Dishwash   \n",
       "4                         272  Atliq_Home_Essential_8_Product_Combo   \n",
       "\n",
       "            category campaign_name  start_date    end_date  \\\n",
       "0  Grocery & Staples        Diwali  12/11/2023  18-11-2023   \n",
       "1  Grocery & Staples     Sankranti   10/1/2024  16-01-2024   \n",
       "2  Grocery & Staples        Diwali  12/11/2023  18-11-2023   \n",
       "3          Home Care        Diwali  12/11/2023  18-11-2023   \n",
       "4             Combo1     Sankranti   10/1/2024  16-01-2024   \n",
       "\n",
       "   revenue_before_promo  revenue_after_promo       city  \n",
       "0               94830.0                62279    Chennai  \n",
       "1              140230.0               300070    Chennai  \n",
       "2              289820.0               281088  Bengaluru  \n",
       "3                6710.0                 4387  Bengaluru  \n",
       "4              366000.0               680000  Hyderabad  "
      ]
     },
     "execution_count": 777,
     "metadata": {},
     "output_type": "execute_result"
    }
   ],
   "source": [
    "df_new_2.head()"
   ]
  },
  {
   "cell_type": "code",
   "execution_count": 778,
   "id": "f148db76-1c85-4463-8520-6e1efedf0ea3",
   "metadata": {},
   "outputs": [],
   "source": [
    "diwali_visak_isu = (\n",
    "    df_new_2[(df_new_2[\"campaign_name\"] == \"Diwali\") & (df_new_2[\"city\"]==\"Visakhapatnam\")]\n",
    "    .groupby(\"store_id\")[[\"quantity_sold(before_promo)\", \"quantity_sold(after_promo)\"]]\n",
    "    .sum()\n",
    ")"
   ]
  },
  {
   "cell_type": "code",
   "execution_count": 779,
   "id": "8623a37a-19c7-4e15-aec8-202ff3d03229",
   "metadata": {},
   "outputs": [
    {
     "data": {
      "text/html": [
       "<div>\n",
       "<style scoped>\n",
       "    .dataframe tbody tr th:only-of-type {\n",
       "        vertical-align: middle;\n",
       "    }\n",
       "\n",
       "    .dataframe tbody tr th {\n",
       "        vertical-align: top;\n",
       "    }\n",
       "\n",
       "    .dataframe thead th {\n",
       "        text-align: right;\n",
       "    }\n",
       "</style>\n",
       "<table border=\"1\" class=\"dataframe\">\n",
       "  <thead>\n",
       "    <tr style=\"text-align: right;\">\n",
       "      <th></th>\n",
       "      <th>quantity_sold(before_promo)</th>\n",
       "      <th>quantity_sold(after_promo)</th>\n",
       "    </tr>\n",
       "    <tr>\n",
       "      <th>store_id</th>\n",
       "      <th></th>\n",
       "      <th></th>\n",
       "    </tr>\n",
       "  </thead>\n",
       "  <tbody>\n",
       "    <tr>\n",
       "      <th>STVSK-0</th>\n",
       "      <td>1768.0</td>\n",
       "      <td>3005</td>\n",
       "    </tr>\n",
       "    <tr>\n",
       "      <th>STVSK-1</th>\n",
       "      <td>1903.0</td>\n",
       "      <td>3078</td>\n",
       "    </tr>\n",
       "    <tr>\n",
       "      <th>STVSK-2</th>\n",
       "      <td>1701.0</td>\n",
       "      <td>2860</td>\n",
       "    </tr>\n",
       "    <tr>\n",
       "      <th>STVSK-3</th>\n",
       "      <td>1780.0</td>\n",
       "      <td>2656</td>\n",
       "    </tr>\n",
       "    <tr>\n",
       "      <th>STVSK-4</th>\n",
       "      <td>1926.0</td>\n",
       "      <td>2908</td>\n",
       "    </tr>\n",
       "  </tbody>\n",
       "</table>\n",
       "</div>"
      ],
      "text/plain": [
       "          quantity_sold(before_promo)  quantity_sold(after_promo)\n",
       "store_id                                                         \n",
       "STVSK-0                        1768.0                        3005\n",
       "STVSK-1                        1903.0                        3078\n",
       "STVSK-2                        1701.0                        2860\n",
       "STVSK-3                        1780.0                        2656\n",
       "STVSK-4                        1926.0                        2908"
      ]
     },
     "execution_count": 779,
     "metadata": {},
     "output_type": "execute_result"
    }
   ],
   "source": [
    "diwali_visak_isu"
   ]
  },
  {
   "cell_type": "code",
   "execution_count": 780,
   "id": "56d3e637-846d-4235-97b6-29a07a420764",
   "metadata": {},
   "outputs": [],
   "source": [
    "diwali_visak_isu[\"ISU%\"] = (diwali_visak_isu[\"quantity_sold(after_promo)\"] - diwali_visak_isu[\"quantity_sold(before_promo)\"])/diwali_visak_isu[\"quantity_sold(before_promo)\"] "
   ]
  },
  {
   "cell_type": "code",
   "execution_count": 781,
   "id": "d84e96ac-268e-4b10-ab73-aebf564c044a",
   "metadata": {},
   "outputs": [
    {
     "data": {
      "text/html": [
       "<div>\n",
       "<style scoped>\n",
       "    .dataframe tbody tr th:only-of-type {\n",
       "        vertical-align: middle;\n",
       "    }\n",
       "\n",
       "    .dataframe tbody tr th {\n",
       "        vertical-align: top;\n",
       "    }\n",
       "\n",
       "    .dataframe thead th {\n",
       "        text-align: right;\n",
       "    }\n",
       "</style>\n",
       "<table border=\"1\" class=\"dataframe\">\n",
       "  <thead>\n",
       "    <tr style=\"text-align: right;\">\n",
       "      <th></th>\n",
       "      <th>quantity_sold(before_promo)</th>\n",
       "      <th>quantity_sold(after_promo)</th>\n",
       "      <th>ISU%</th>\n",
       "    </tr>\n",
       "    <tr>\n",
       "      <th>store_id</th>\n",
       "      <th></th>\n",
       "      <th></th>\n",
       "      <th></th>\n",
       "    </tr>\n",
       "  </thead>\n",
       "  <tbody>\n",
       "    <tr>\n",
       "      <th>STVSK-0</th>\n",
       "      <td>1768.0</td>\n",
       "      <td>3005</td>\n",
       "      <td>0.699661</td>\n",
       "    </tr>\n",
       "    <tr>\n",
       "      <th>STVSK-1</th>\n",
       "      <td>1903.0</td>\n",
       "      <td>3078</td>\n",
       "      <td>0.617446</td>\n",
       "    </tr>\n",
       "    <tr>\n",
       "      <th>STVSK-2</th>\n",
       "      <td>1701.0</td>\n",
       "      <td>2860</td>\n",
       "      <td>0.681364</td>\n",
       "    </tr>\n",
       "    <tr>\n",
       "      <th>STVSK-3</th>\n",
       "      <td>1780.0</td>\n",
       "      <td>2656</td>\n",
       "      <td>0.492135</td>\n",
       "    </tr>\n",
       "    <tr>\n",
       "      <th>STVSK-4</th>\n",
       "      <td>1926.0</td>\n",
       "      <td>2908</td>\n",
       "      <td>0.509865</td>\n",
       "    </tr>\n",
       "  </tbody>\n",
       "</table>\n",
       "</div>"
      ],
      "text/plain": [
       "          quantity_sold(before_promo)  quantity_sold(after_promo)      ISU%\n",
       "store_id                                                                   \n",
       "STVSK-0                        1768.0                        3005  0.699661\n",
       "STVSK-1                        1903.0                        3078  0.617446\n",
       "STVSK-2                        1701.0                        2860  0.681364\n",
       "STVSK-3                        1780.0                        2656  0.492135\n",
       "STVSK-4                        1926.0                        2908  0.509865"
      ]
     },
     "execution_count": 781,
     "metadata": {},
     "output_type": "execute_result"
    }
   ],
   "source": [
    "diwali_visak_isu"
   ]
  },
  {
   "cell_type": "code",
   "execution_count": 782,
   "id": "ef1eb116-1054-4040-a1be-d06b2c7fe971",
   "metadata": {},
   "outputs": [],
   "source": [
    "diwali_visak_isu_min_store = diwali_visak_isu[\"ISU%\"].idxmin()\n",
    "diwali_visak_isu_min = diwali_visak_isu[\"ISU%\"].min()\n"
   ]
  },
  {
   "cell_type": "code",
   "execution_count": 783,
   "id": "beb0176d-6985-48d2-bad5-298c6e0f179e",
   "metadata": {},
   "outputs": [
    {
     "data": {
      "text/plain": [
       "('STVSK-3', 0.49213483146067416)"
      ]
     },
     "execution_count": 783,
     "metadata": {},
     "output_type": "execute_result"
    }
   ],
   "source": [
    "diwali_visak_isu_min_store, diwali_visak_isu_min"
   ]
  },
  {
   "cell_type": "markdown",
   "id": "86997ebb-99ac-4f45-bf8d-054955e71f97",
   "metadata": {},
   "source": [
    "## Store STVSK-3 recorded lowest ISU% of 49.21"
   ]
  },
  {
   "cell_type": "code",
   "execution_count": null,
   "id": "61772a26-a1f0-489d-9ea2-84677bb683f0",
   "metadata": {},
   "outputs": [],
   "source": []
  },
  {
   "cell_type": "markdown",
   "id": "b2da9667-dd82-400a-b5b2-a059701a50bc",
   "metadata": {},
   "source": [
    "## 10. Which promo type had both a negative Incremental Revenue Percentage (IR%) and Incremental Sold Units Percentage (ISU%) during the Sankranti campaign?"
   ]
  },
  {
   "cell_type": "code",
   "execution_count": 784,
   "id": "99d809e0-f0f9-461d-909b-832ceb23c459",
   "metadata": {},
   "outputs": [
    {
     "data": {
      "text/html": [
       "<div>\n",
       "<style scoped>\n",
       "    .dataframe tbody tr th:only-of-type {\n",
       "        vertical-align: middle;\n",
       "    }\n",
       "\n",
       "    .dataframe tbody tr th {\n",
       "        vertical-align: top;\n",
       "    }\n",
       "\n",
       "    .dataframe thead th {\n",
       "        text-align: right;\n",
       "    }\n",
       "</style>\n",
       "<table border=\"1\" class=\"dataframe\">\n",
       "  <thead>\n",
       "    <tr style=\"text-align: right;\">\n",
       "      <th></th>\n",
       "      <th>event_id</th>\n",
       "      <th>store_id</th>\n",
       "      <th>campaign_id</th>\n",
       "      <th>product_code</th>\n",
       "      <th>base_price(before_promo)</th>\n",
       "      <th>quantity_sold(before_promo)</th>\n",
       "      <th>promo_type</th>\n",
       "      <th>base_price(after_promo)</th>\n",
       "      <th>quantity_sold(after_promo)</th>\n",
       "      <th>product_name</th>\n",
       "      <th>category</th>\n",
       "      <th>campaign_name</th>\n",
       "      <th>start_date</th>\n",
       "      <th>end_date</th>\n",
       "      <th>revenue_before_promo</th>\n",
       "      <th>revenue_after_promo</th>\n",
       "      <th>city</th>\n",
       "    </tr>\n",
       "  </thead>\n",
       "  <tbody>\n",
       "    <tr>\n",
       "      <th>0</th>\n",
       "      <td>8481be</td>\n",
       "      <td>STCHE-1</td>\n",
       "      <td>CAMP_DIW_01</td>\n",
       "      <td>P04</td>\n",
       "      <td>290</td>\n",
       "      <td>327.0</td>\n",
       "      <td>25% OFF</td>\n",
       "      <td>217</td>\n",
       "      <td>287</td>\n",
       "      <td>Atliq_Farm_Chakki_Atta (1KG)</td>\n",
       "      <td>Grocery &amp; Staples</td>\n",
       "      <td>Diwali</td>\n",
       "      <td>12/11/2023</td>\n",
       "      <td>18-11-2023</td>\n",
       "      <td>94830.0</td>\n",
       "      <td>62279</td>\n",
       "      <td>Chennai</td>\n",
       "    </tr>\n",
       "    <tr>\n",
       "      <th>1</th>\n",
       "      <td>20618e</td>\n",
       "      <td>STCHE-3</td>\n",
       "      <td>CAMP_SAN_01</td>\n",
       "      <td>P04</td>\n",
       "      <td>370</td>\n",
       "      <td>379.0</td>\n",
       "      <td>BOGOF</td>\n",
       "      <td>185</td>\n",
       "      <td>1622</td>\n",
       "      <td>Atliq_Farm_Chakki_Atta (1KG)</td>\n",
       "      <td>Grocery &amp; Staples</td>\n",
       "      <td>Sankranti</td>\n",
       "      <td>10/1/2024</td>\n",
       "      <td>16-01-2024</td>\n",
       "      <td>140230.0</td>\n",
       "      <td>300070</td>\n",
       "      <td>Chennai</td>\n",
       "    </tr>\n",
       "    <tr>\n",
       "      <th>2</th>\n",
       "      <td>f30579</td>\n",
       "      <td>STBLR-9</td>\n",
       "      <td>CAMP_DIW_01</td>\n",
       "      <td>P02</td>\n",
       "      <td>860</td>\n",
       "      <td>337.0</td>\n",
       "      <td>33% OFF</td>\n",
       "      <td>576</td>\n",
       "      <td>488</td>\n",
       "      <td>Atliq_Sonamasuri_Rice (10KG)</td>\n",
       "      <td>Grocery &amp; Staples</td>\n",
       "      <td>Diwali</td>\n",
       "      <td>12/11/2023</td>\n",
       "      <td>18-11-2023</td>\n",
       "      <td>289820.0</td>\n",
       "      <td>281088</td>\n",
       "      <td>Bengaluru</td>\n",
       "    </tr>\n",
       "    <tr>\n",
       "      <th>3</th>\n",
       "      <td>4f570c</td>\n",
       "      <td>STBLR-7</td>\n",
       "      <td>CAMP_DIW_01</td>\n",
       "      <td>P05</td>\n",
       "      <td>55</td>\n",
       "      <td>122.0</td>\n",
       "      <td>25% OFF</td>\n",
       "      <td>41</td>\n",
       "      <td>107</td>\n",
       "      <td>Atliq_Scrub_Sponge_For_Dishwash</td>\n",
       "      <td>Home Care</td>\n",
       "      <td>Diwali</td>\n",
       "      <td>12/11/2023</td>\n",
       "      <td>18-11-2023</td>\n",
       "      <td>6710.0</td>\n",
       "      <td>4387</td>\n",
       "      <td>Bengaluru</td>\n",
       "    </tr>\n",
       "    <tr>\n",
       "      <th>4</th>\n",
       "      <td>6d153f</td>\n",
       "      <td>STHYD-5</td>\n",
       "      <td>CAMP_SAN_01</td>\n",
       "      <td>P15</td>\n",
       "      <td>3000</td>\n",
       "      <td>122.0</td>\n",
       "      <td>500 Cashback</td>\n",
       "      <td>2500</td>\n",
       "      <td>272</td>\n",
       "      <td>Atliq_Home_Essential_8_Product_Combo</td>\n",
       "      <td>Combo1</td>\n",
       "      <td>Sankranti</td>\n",
       "      <td>10/1/2024</td>\n",
       "      <td>16-01-2024</td>\n",
       "      <td>366000.0</td>\n",
       "      <td>680000</td>\n",
       "      <td>Hyderabad</td>\n",
       "    </tr>\n",
       "  </tbody>\n",
       "</table>\n",
       "</div>"
      ],
      "text/plain": [
       "  event_id store_id  campaign_id product_code  base_price(before_promo)  \\\n",
       "0   8481be  STCHE-1  CAMP_DIW_01          P04                       290   \n",
       "1   20618e  STCHE-3  CAMP_SAN_01          P04                       370   \n",
       "2   f30579  STBLR-9  CAMP_DIW_01          P02                       860   \n",
       "3   4f570c  STBLR-7  CAMP_DIW_01          P05                        55   \n",
       "4   6d153f  STHYD-5  CAMP_SAN_01          P15                      3000   \n",
       "\n",
       "   quantity_sold(before_promo)    promo_type  base_price(after_promo)  \\\n",
       "0                        327.0       25% OFF                      217   \n",
       "1                        379.0         BOGOF                      185   \n",
       "2                        337.0       33% OFF                      576   \n",
       "3                        122.0       25% OFF                       41   \n",
       "4                        122.0  500 Cashback                     2500   \n",
       "\n",
       "   quantity_sold(after_promo)                          product_name  \\\n",
       "0                         287          Atliq_Farm_Chakki_Atta (1KG)   \n",
       "1                        1622          Atliq_Farm_Chakki_Atta (1KG)   \n",
       "2                         488          Atliq_Sonamasuri_Rice (10KG)   \n",
       "3                         107       Atliq_Scrub_Sponge_For_Dishwash   \n",
       "4                         272  Atliq_Home_Essential_8_Product_Combo   \n",
       "\n",
       "            category campaign_name  start_date    end_date  \\\n",
       "0  Grocery & Staples        Diwali  12/11/2023  18-11-2023   \n",
       "1  Grocery & Staples     Sankranti   10/1/2024  16-01-2024   \n",
       "2  Grocery & Staples        Diwali  12/11/2023  18-11-2023   \n",
       "3          Home Care        Diwali  12/11/2023  18-11-2023   \n",
       "4             Combo1     Sankranti   10/1/2024  16-01-2024   \n",
       "\n",
       "   revenue_before_promo  revenue_after_promo       city  \n",
       "0               94830.0                62279    Chennai  \n",
       "1              140230.0               300070    Chennai  \n",
       "2              289820.0               281088  Bengaluru  \n",
       "3                6710.0                 4387  Bengaluru  \n",
       "4              366000.0               680000  Hyderabad  "
      ]
     },
     "execution_count": 784,
     "metadata": {},
     "output_type": "execute_result"
    }
   ],
   "source": [
    "df_new_2.head()"
   ]
  },
  {
   "cell_type": "code",
   "execution_count": 785,
   "id": "ca108b14-d698-477a-958b-e84a163039f5",
   "metadata": {},
   "outputs": [],
   "source": [
    "promo_ir_isu_sankranti = df_new_2[df_new_2[\"campaign_name\"]==\"Sankranti\"].groupby(\"promo_type\")[[\"revenue_before_promo\",\"revenue_after_promo\",\"quantity_sold(before_promo)\",\"quantity_sold(after_promo)\"]].sum()"
   ]
  },
  {
   "cell_type": "code",
   "execution_count": 786,
   "id": "c16ca79d-9071-491a-954b-978cc918e791",
   "metadata": {},
   "outputs": [],
   "source": [
    "promo_ir_isu_sankranti[\"IR%\"] = 100*((promo_ir_isu_sankranti[\"revenue_after_promo\"] - promo_ir_isu_sankranti[\"revenue_before_promo\"])\n",
    "                                     /promo_ir_isu_sankranti[\"revenue_before_promo\"])\n",
    "promo_ir_isu_sankranti[\"ISU%\"] = 100*((promo_ir_isu_sankranti[\"quantity_sold(after_promo)\"] - promo_ir_isu_sankranti[\"quantity_sold(before_promo)\"])\n",
    "                                     /promo_ir_isu_sankranti[\"quantity_sold(before_promo)\"])"
   ]
  },
  {
   "cell_type": "code",
   "execution_count": 787,
   "id": "0500249b-d987-44e1-86e2-e128203ff0bc",
   "metadata": {},
   "outputs": [
    {
     "data": {
      "text/html": [
       "<div>\n",
       "<style scoped>\n",
       "    .dataframe tbody tr th:only-of-type {\n",
       "        vertical-align: middle;\n",
       "    }\n",
       "\n",
       "    .dataframe tbody tr th {\n",
       "        vertical-align: top;\n",
       "    }\n",
       "\n",
       "    .dataframe thead th {\n",
       "        text-align: right;\n",
       "    }\n",
       "</style>\n",
       "<table border=\"1\" class=\"dataframe\">\n",
       "  <thead>\n",
       "    <tr style=\"text-align: right;\">\n",
       "      <th></th>\n",
       "      <th>revenue_before_promo</th>\n",
       "      <th>revenue_after_promo</th>\n",
       "      <th>quantity_sold(before_promo)</th>\n",
       "      <th>quantity_sold(after_promo)</th>\n",
       "      <th>IR%</th>\n",
       "      <th>ISU%</th>\n",
       "    </tr>\n",
       "    <tr>\n",
       "      <th>promo_type</th>\n",
       "      <th></th>\n",
       "      <th></th>\n",
       "      <th></th>\n",
       "      <th></th>\n",
       "      <th></th>\n",
       "      <th></th>\n",
       "    </tr>\n",
       "  </thead>\n",
       "  <tbody>\n",
       "    <tr>\n",
       "      <th>25% OFF</th>\n",
       "      <td>935195.0</td>\n",
       "      <td>567387</td>\n",
       "      <td>6601.0</td>\n",
       "      <td>5307</td>\n",
       "      <td>-39.329552</td>\n",
       "      <td>-19.603090</td>\n",
       "    </tr>\n",
       "    <tr>\n",
       "      <th>33% OFF</th>\n",
       "      <td>20483136.0</td>\n",
       "      <td>19273955</td>\n",
       "      <td>33624.0</td>\n",
       "      <td>47459</td>\n",
       "      <td>-5.903300</td>\n",
       "      <td>41.146205</td>\n",
       "    </tr>\n",
       "    <tr>\n",
       "      <th>50% OFF</th>\n",
       "      <td>527482.0</td>\n",
       "      <td>363564</td>\n",
       "      <td>4451.0</td>\n",
       "      <td>6100</td>\n",
       "      <td>-31.075563</td>\n",
       "      <td>37.047854</td>\n",
       "    </tr>\n",
       "    <tr>\n",
       "      <th>500 Cashback</th>\n",
       "      <td>16185000.0</td>\n",
       "      <td>31027500</td>\n",
       "      <td>5395.0</td>\n",
       "      <td>12411</td>\n",
       "      <td>91.705283</td>\n",
       "      <td>130.046339</td>\n",
       "    </tr>\n",
       "    <tr>\n",
       "      <th>BOGOF</th>\n",
       "      <td>19355170.0</td>\n",
       "      <td>36451055</td>\n",
       "      <td>47823.0</td>\n",
       "      <td>180792</td>\n",
       "      <td>88.327227</td>\n",
       "      <td>278.044037</td>\n",
       "    </tr>\n",
       "  </tbody>\n",
       "</table>\n",
       "</div>"
      ],
      "text/plain": [
       "              revenue_before_promo  revenue_after_promo  \\\n",
       "promo_type                                                \n",
       "25% OFF                   935195.0               567387   \n",
       "33% OFF                 20483136.0             19273955   \n",
       "50% OFF                   527482.0               363564   \n",
       "500 Cashback            16185000.0             31027500   \n",
       "BOGOF                   19355170.0             36451055   \n",
       "\n",
       "              quantity_sold(before_promo)  quantity_sold(after_promo)  \\\n",
       "promo_type                                                              \n",
       "25% OFF                            6601.0                        5307   \n",
       "33% OFF                           33624.0                       47459   \n",
       "50% OFF                            4451.0                        6100   \n",
       "500 Cashback                       5395.0                       12411   \n",
       "BOGOF                             47823.0                      180792   \n",
       "\n",
       "                    IR%        ISU%  \n",
       "promo_type                           \n",
       "25% OFF      -39.329552  -19.603090  \n",
       "33% OFF       -5.903300   41.146205  \n",
       "50% OFF      -31.075563   37.047854  \n",
       "500 Cashback  91.705283  130.046339  \n",
       "BOGOF         88.327227  278.044037  "
      ]
     },
     "execution_count": 787,
     "metadata": {},
     "output_type": "execute_result"
    }
   ],
   "source": [
    "promo_ir_isu_sankranti"
   ]
  },
  {
   "cell_type": "code",
   "execution_count": 795,
   "id": "b5886341-2ed9-43bd-9453-51c0e07f8cdb",
   "metadata": {},
   "outputs": [],
   "source": [
    "promo_rqd = promo_ir_isu_sankranti[(promo_ir_isu_sankranti[\"IR%\"] < 0) & (promo_ir_isu_sankranti[\"ISU%\"] < 0)]"
   ]
  },
  {
   "cell_type": "code",
   "execution_count": 796,
   "id": "1cad93dc-3eb9-4089-8e2e-c902dac3b144",
   "metadata": {},
   "outputs": [
    {
     "data": {
      "text/plain": [
       "(Index(['25% OFF'], dtype='object', name='promo_type'),\n",
       " promo_type\n",
       " 25% OFF   -39.329552\n",
       " Name: IR%, dtype: float64,\n",
       " promo_type\n",
       " 25% OFF   -19.60309\n",
       " Name: ISU%, dtype: float64)"
      ]
     },
     "execution_count": 796,
     "metadata": {},
     "output_type": "execute_result"
    }
   ],
   "source": [
    "promo_rqd.index, promo_rqd[\"IR%\"], promo_rqd[\"ISU%\"]"
   ]
  },
  {
   "cell_type": "markdown",
   "id": "d3ceffec-01c4-4e17-b3a6-3ff7ae3cf725",
   "metadata": {},
   "source": [
    "## '25% OFF' promo type had both a negative Incremental Revenue Percentage (IR%) and Incremental Sold Units Percentage (ISU%) during the Sankranti campaign"
   ]
  },
  {
   "cell_type": "code",
   "execution_count": null,
   "id": "dd3586a8-1d31-4602-ba12-3e5485bf5883",
   "metadata": {},
   "outputs": [],
   "source": []
  }
 ],
 "metadata": {
  "kernelspec": {
   "display_name": "Python 3 (ipykernel)",
   "language": "python",
   "name": "python3"
  },
  "language_info": {
   "codemirror_mode": {
    "name": "ipython",
    "version": 3
   },
   "file_extension": ".py",
   "mimetype": "text/x-python",
   "name": "python",
   "nbconvert_exporter": "python",
   "pygments_lexer": "ipython3",
   "version": "3.10.11"
  }
 },
 "nbformat": 4,
 "nbformat_minor": 5
}
