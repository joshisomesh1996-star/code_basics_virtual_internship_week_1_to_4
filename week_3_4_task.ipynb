{
 "cells": [
  {
   "cell_type": "markdown",
   "id": "07a7e7a8-b7c8-466c-a771-cf478c6e544f",
   "metadata": {},
   "source": [
    "<h1 style=\"color:red; text-align:center;\">CodeX Beverage Price Prediction</h2>"
   ]
  },
  {
   "cell_type": "code",
   "execution_count": 315,
   "id": "92b41547-d5f9-4da8-84ea-fd571196b87c",
   "metadata": {},
   "outputs": [],
   "source": [
    "import pandas as pd\n",
    "import numpy as np\n",
    "import matplotlib.pyplot as plt\n",
    "from scipy import stats\n",
    "import seaborn as sns"
   ]
  },
  {
   "cell_type": "markdown",
   "id": "0f38dbfe-a904-4d82-a9aa-7c4c6e865ca2",
   "metadata": {},
   "source": [
    "<h1 style=\"color:blue; text-align:center;\">Data Cleaning</h2>"
   ]
  },
  {
   "cell_type": "code",
   "execution_count": 316,
   "id": "fcc15fc3-f287-4b49-9c43-0ef1067c439d",
   "metadata": {},
   "outputs": [],
   "source": [
    "df = pd.read_csv(\"survey_results.csv\")"
   ]
  },
  {
   "cell_type": "code",
   "execution_count": 317,
   "id": "12ee2106-9cf7-4d42-a505-ff947f05eaa4",
   "metadata": {},
   "outputs": [
    {
     "data": {
      "text/html": [
       "<div>\n",
       "<style scoped>\n",
       "    .dataframe tbody tr th:only-of-type {\n",
       "        vertical-align: middle;\n",
       "    }\n",
       "\n",
       "    .dataframe tbody tr th {\n",
       "        vertical-align: top;\n",
       "    }\n",
       "\n",
       "    .dataframe thead th {\n",
       "        text-align: right;\n",
       "    }\n",
       "</style>\n",
       "<table border=\"1\" class=\"dataframe\">\n",
       "  <thead>\n",
       "    <tr style=\"text-align: right;\">\n",
       "      <th></th>\n",
       "      <th>respondent_id</th>\n",
       "      <th>age</th>\n",
       "      <th>gender</th>\n",
       "      <th>zone</th>\n",
       "      <th>occupation</th>\n",
       "      <th>income_levels</th>\n",
       "      <th>consume_frequency(weekly)</th>\n",
       "      <th>current_brand</th>\n",
       "      <th>preferable_consumption_size</th>\n",
       "      <th>awareness_of_other_brands</th>\n",
       "      <th>reasons_for_choosing_brands</th>\n",
       "      <th>flavor_preference</th>\n",
       "      <th>purchase_channel</th>\n",
       "      <th>packaging_preference</th>\n",
       "      <th>health_concerns</th>\n",
       "      <th>typical_consumption_situations</th>\n",
       "      <th>price_range</th>\n",
       "    </tr>\n",
       "  </thead>\n",
       "  <tbody>\n",
       "    <tr>\n",
       "      <th>0</th>\n",
       "      <td>R00001</td>\n",
       "      <td>30</td>\n",
       "      <td>M</td>\n",
       "      <td>Urban</td>\n",
       "      <td>Working Professional</td>\n",
       "      <td>&lt;10L</td>\n",
       "      <td>3-4 times</td>\n",
       "      <td>Newcomer</td>\n",
       "      <td>Medium (500 ml)</td>\n",
       "      <td>0 to 1</td>\n",
       "      <td>Price</td>\n",
       "      <td>Traditional</td>\n",
       "      <td>Online</td>\n",
       "      <td>Simple</td>\n",
       "      <td>Medium (Moderately health-conscious)</td>\n",
       "      <td>Active (eg. Sports, gym)</td>\n",
       "      <td>100-150</td>\n",
       "    </tr>\n",
       "    <tr>\n",
       "      <th>1</th>\n",
       "      <td>R00002</td>\n",
       "      <td>46</td>\n",
       "      <td>F</td>\n",
       "      <td>Metro</td>\n",
       "      <td>Working Professional</td>\n",
       "      <td>&gt; 35L</td>\n",
       "      <td>5-7 times</td>\n",
       "      <td>Established</td>\n",
       "      <td>Medium (500 ml)</td>\n",
       "      <td>2 to 4</td>\n",
       "      <td>Quality</td>\n",
       "      <td>Exotic</td>\n",
       "      <td>Retail Store</td>\n",
       "      <td>Premium</td>\n",
       "      <td>Medium (Moderately health-conscious)</td>\n",
       "      <td>Social (eg. Parties)</td>\n",
       "      <td>200-250</td>\n",
       "    </tr>\n",
       "    <tr>\n",
       "      <th>2</th>\n",
       "      <td>R00003</td>\n",
       "      <td>41</td>\n",
       "      <td>F</td>\n",
       "      <td>Rural</td>\n",
       "      <td>Working Professional</td>\n",
       "      <td>&gt; 35L</td>\n",
       "      <td>3-4 times</td>\n",
       "      <td>Newcomer</td>\n",
       "      <td>Medium (500 ml)</td>\n",
       "      <td>2 to 4</td>\n",
       "      <td>Availability</td>\n",
       "      <td>Traditional</td>\n",
       "      <td>Retail Store</td>\n",
       "      <td>Premium</td>\n",
       "      <td>Medium (Moderately health-conscious)</td>\n",
       "      <td>Active (eg. Sports, gym)</td>\n",
       "      <td>200-250</td>\n",
       "    </tr>\n",
       "    <tr>\n",
       "      <th>3</th>\n",
       "      <td>R00004</td>\n",
       "      <td>33</td>\n",
       "      <td>F</td>\n",
       "      <td>Urban</td>\n",
       "      <td>Working Professional</td>\n",
       "      <td>16L - 25L</td>\n",
       "      <td>5-7 times</td>\n",
       "      <td>Newcomer</td>\n",
       "      <td>Medium (500 ml)</td>\n",
       "      <td>0 to 1</td>\n",
       "      <td>Brand Reputation</td>\n",
       "      <td>Exotic</td>\n",
       "      <td>Online</td>\n",
       "      <td>Eco-Friendly</td>\n",
       "      <td>Low (Not very concerned)</td>\n",
       "      <td>Active (eg. Sports, gym)</td>\n",
       "      <td>150-200</td>\n",
       "    </tr>\n",
       "    <tr>\n",
       "      <th>4</th>\n",
       "      <td>R00005</td>\n",
       "      <td>23</td>\n",
       "      <td>M</td>\n",
       "      <td>Metro</td>\n",
       "      <td>Student</td>\n",
       "      <td>NaN</td>\n",
       "      <td>3-4 times</td>\n",
       "      <td>Established</td>\n",
       "      <td>Medium (500 ml)</td>\n",
       "      <td>0 to 1</td>\n",
       "      <td>Availability</td>\n",
       "      <td>Traditional</td>\n",
       "      <td>Online</td>\n",
       "      <td>Premium</td>\n",
       "      <td>Medium (Moderately health-conscious)</td>\n",
       "      <td>Active (eg. Sports, gym)</td>\n",
       "      <td>50-100</td>\n",
       "    </tr>\n",
       "  </tbody>\n",
       "</table>\n",
       "</div>"
      ],
      "text/plain": [
       "  respondent_id  age gender   zone            occupation income_levels  \\\n",
       "0        R00001   30      M  Urban  Working Professional          <10L   \n",
       "1        R00002   46      F  Metro  Working Professional         > 35L   \n",
       "2        R00003   41      F  Rural  Working Professional         > 35L   \n",
       "3        R00004   33      F  Urban  Working Professional     16L - 25L   \n",
       "4        R00005   23      M  Metro               Student           NaN   \n",
       "\n",
       "  consume_frequency(weekly) current_brand preferable_consumption_size  \\\n",
       "0                 3-4 times      Newcomer             Medium (500 ml)   \n",
       "1                 5-7 times   Established             Medium (500 ml)   \n",
       "2                 3-4 times      Newcomer             Medium (500 ml)   \n",
       "3                 5-7 times      Newcomer             Medium (500 ml)   \n",
       "4                 3-4 times   Established             Medium (500 ml)   \n",
       "\n",
       "  awareness_of_other_brands reasons_for_choosing_brands flavor_preference  \\\n",
       "0                    0 to 1                       Price       Traditional   \n",
       "1                    2 to 4                     Quality            Exotic   \n",
       "2                    2 to 4                Availability       Traditional   \n",
       "3                    0 to 1            Brand Reputation            Exotic   \n",
       "4                    0 to 1                Availability       Traditional   \n",
       "\n",
       "  purchase_channel packaging_preference                       health_concerns  \\\n",
       "0           Online               Simple  Medium (Moderately health-conscious)   \n",
       "1     Retail Store              Premium  Medium (Moderately health-conscious)   \n",
       "2     Retail Store              Premium  Medium (Moderately health-conscious)   \n",
       "3           Online         Eco-Friendly              Low (Not very concerned)   \n",
       "4           Online              Premium  Medium (Moderately health-conscious)   \n",
       "\n",
       "  typical_consumption_situations price_range  \n",
       "0       Active (eg. Sports, gym)     100-150  \n",
       "1           Social (eg. Parties)     200-250  \n",
       "2       Active (eg. Sports, gym)     200-250  \n",
       "3       Active (eg. Sports, gym)     150-200  \n",
       "4       Active (eg. Sports, gym)      50-100  "
      ]
     },
     "execution_count": 317,
     "metadata": {},
     "output_type": "execute_result"
    }
   ],
   "source": [
    "df.head()"
   ]
  },
  {
   "cell_type": "code",
   "execution_count": 318,
   "id": "8fc2f061-4875-41f1-935e-8e02cc526674",
   "metadata": {},
   "outputs": [
    {
     "data": {
      "text/plain": [
       "10"
      ]
     },
     "execution_count": 318,
     "metadata": {},
     "output_type": "execute_result"
    }
   ],
   "source": [
    "df.duplicated().sum()"
   ]
  },
  {
   "cell_type": "code",
   "execution_count": 319,
   "id": "297fb62e-ad6a-4af3-ab82-64825a1bc67c",
   "metadata": {},
   "outputs": [
    {
     "data": {
      "text/plain": [
       "(30010, 17)"
      ]
     },
     "execution_count": 319,
     "metadata": {},
     "output_type": "execute_result"
    }
   ],
   "source": [
    "df.shape"
   ]
  },
  {
   "cell_type": "code",
   "execution_count": 320,
   "id": "9314b1d4-c6e8-4810-a738-586e9167fc51",
   "metadata": {},
   "outputs": [
    {
     "name": "stdout",
     "output_type": "stream",
     "text": [
      "<class 'pandas.core.frame.DataFrame'>\n",
      "RangeIndex: 30010 entries, 0 to 30009\n",
      "Data columns (total 17 columns):\n",
      " #   Column                          Non-Null Count  Dtype \n",
      "---  ------                          --------------  ----- \n",
      " 0   respondent_id                   30010 non-null  object\n",
      " 1   age                             30010 non-null  int64 \n",
      " 2   gender                          30010 non-null  object\n",
      " 3   zone                            30010 non-null  object\n",
      " 4   occupation                      30010 non-null  object\n",
      " 5   income_levels                   21946 non-null  object\n",
      " 6   consume_frequency(weekly)       30002 non-null  object\n",
      " 7   current_brand                   30010 non-null  object\n",
      " 8   preferable_consumption_size     30010 non-null  object\n",
      " 9   awareness_of_other_brands       30010 non-null  object\n",
      " 10  reasons_for_choosing_brands     30010 non-null  object\n",
      " 11  flavor_preference               30010 non-null  object\n",
      " 12  purchase_channel                30000 non-null  object\n",
      " 13  packaging_preference            30010 non-null  object\n",
      " 14  health_concerns                 30010 non-null  object\n",
      " 15  typical_consumption_situations  30010 non-null  object\n",
      " 16  price_range                     30010 non-null  object\n",
      "dtypes: int64(1), object(16)\n",
      "memory usage: 3.9+ MB\n"
     ]
    }
   ],
   "source": [
    "df.info()"
   ]
  },
  {
   "cell_type": "markdown",
   "id": "2b4d89a6-dcdf-410f-ab89-ed4736e63632",
   "metadata": {},
   "source": [
    "<h4 style=\"color:blue;\">respondent_id should be unique so dropping duplicates based on it.</h2>"
   ]
  },
  {
   "cell_type": "code",
   "execution_count": 321,
   "id": "2656734c-0b57-44b6-b4b8-cf4340d3bf37",
   "metadata": {},
   "outputs": [],
   "source": [
    "df = df.drop_duplicates(subset=[\"respondent_id\"])"
   ]
  },
  {
   "cell_type": "code",
   "execution_count": 322,
   "id": "5a0c2df7-f359-4b7b-81ae-56cce0a6f752",
   "metadata": {},
   "outputs": [
    {
     "data": {
      "text/plain": [
       "(30000, 17)"
      ]
     },
     "execution_count": 322,
     "metadata": {},
     "output_type": "execute_result"
    }
   ],
   "source": [
    "df.shape"
   ]
  },
  {
   "cell_type": "code",
   "execution_count": 323,
   "id": "13e18bd2-4505-452d-b488-f94017b6a099",
   "metadata": {},
   "outputs": [
    {
     "data": {
      "text/html": [
       "<div>\n",
       "<style scoped>\n",
       "    .dataframe tbody tr th:only-of-type {\n",
       "        vertical-align: middle;\n",
       "    }\n",
       "\n",
       "    .dataframe tbody tr th {\n",
       "        vertical-align: top;\n",
       "    }\n",
       "\n",
       "    .dataframe thead th {\n",
       "        text-align: right;\n",
       "    }\n",
       "</style>\n",
       "<table border=\"1\" class=\"dataframe\">\n",
       "  <thead>\n",
       "    <tr style=\"text-align: right;\">\n",
       "      <th></th>\n",
       "      <th>age</th>\n",
       "    </tr>\n",
       "  </thead>\n",
       "  <tbody>\n",
       "    <tr>\n",
       "      <th>count</th>\n",
       "      <td>30000.000000</td>\n",
       "    </tr>\n",
       "    <tr>\n",
       "      <th>mean</th>\n",
       "      <td>33.048167</td>\n",
       "    </tr>\n",
       "    <tr>\n",
       "      <th>std</th>\n",
       "      <td>13.438904</td>\n",
       "    </tr>\n",
       "    <tr>\n",
       "      <th>min</th>\n",
       "      <td>18.000000</td>\n",
       "    </tr>\n",
       "    <tr>\n",
       "      <th>25%</th>\n",
       "      <td>23.000000</td>\n",
       "    </tr>\n",
       "    <tr>\n",
       "      <th>50%</th>\n",
       "      <td>31.000000</td>\n",
       "    </tr>\n",
       "    <tr>\n",
       "      <th>75%</th>\n",
       "      <td>40.000000</td>\n",
       "    </tr>\n",
       "    <tr>\n",
       "      <th>max</th>\n",
       "      <td>604.000000</td>\n",
       "    </tr>\n",
       "  </tbody>\n",
       "</table>\n",
       "</div>"
      ],
      "text/plain": [
       "                age\n",
       "count  30000.000000\n",
       "mean      33.048167\n",
       "std       13.438904\n",
       "min       18.000000\n",
       "25%       23.000000\n",
       "50%       31.000000\n",
       "75%       40.000000\n",
       "max      604.000000"
      ]
     },
     "execution_count": 323,
     "metadata": {},
     "output_type": "execute_result"
    }
   ],
   "source": [
    "df.describe()"
   ]
  },
  {
   "cell_type": "code",
   "execution_count": 324,
   "id": "712393a7-f7aa-447d-871d-537b00f218a7",
   "metadata": {
    "scrolled": true
   },
   "outputs": [
    {
     "data": {
      "image/png": "[encoded data removed]",
      "text/plain": [
       "<Figure size 500x500 with 1 Axes>"
      ]
     },
     "metadata": {},
     "output_type": "display_data"
    }
   ],
   "source": [
    "plt.figure(figsize=(5, 5))\n",
    "sns.boxplot(x=\"age\", data = df)\n",
    "plt.show()"
   ]
  },
  {
   "cell_type": "code",
   "execution_count": 325,
   "id": "df4cb8c2-2bc0-41dc-bf94-492487bfed15",
   "metadata": {},
   "outputs": [
    {
     "data": {
      "image/png": "[encoded data removed]",
      "text/plain": [
       "<Figure size 640x480 with 1 Axes>"
      ]
     },
     "metadata": {},
     "output_type": "display_data"
    }
   ],
   "source": [
    "sns.histplot(df[\"age\"], bins=30, kde=True)\n",
    "plt.show()"
   ]
  },
  {
   "cell_type": "code",
   "execution_count": 326,
   "id": "67725f8a-f7b3-46bc-b9ec-62921aed2509",
   "metadata": {},
   "outputs": [],
   "source": [
    "Q1 = df[\"age\"].quantile(0.25)\n",
    "Q3 = df[\"age\"].quantile(0.75)"
   ]
  },
  {
   "cell_type": "code",
   "execution_count": 327,
   "id": "7a58cd15-05c6-48c6-975a-1b159bb71095",
   "metadata": {},
   "outputs": [
    {
     "name": "stdout",
     "output_type": "stream",
     "text": [
      "23.0 40.0\n"
     ]
    }
   ],
   "source": [
    "print(Q1, Q3)"
   ]
  },
  {
   "cell_type": "code",
   "execution_count": 328,
   "id": "76f1388f-44b0-4d04-8c1b-98f69b7b0e89",
   "metadata": {},
   "outputs": [],
   "source": [
    "IQR = Q3 - Q1"
   ]
  },
  {
   "cell_type": "code",
   "execution_count": 329,
   "id": "af8adb73-364f-4a7d-82c4-f7c60bf5f6f9",
   "metadata": {},
   "outputs": [
    {
     "data": {
      "text/plain": [
       "17.0"
      ]
     },
     "execution_count": 329,
     "metadata": {},
     "output_type": "execute_result"
    }
   ],
   "source": [
    "IQR"
   ]
  },
  {
   "cell_type": "code",
   "execution_count": 330,
   "id": "305fef3a-79e7-453f-8e27-dfce30cf588a",
   "metadata": {},
   "outputs": [],
   "source": [
    "lower = Q1 - 1.5*IQR\n",
    "upper = Q3 + 1.5*IQR"
   ]
  },
  {
   "cell_type": "code",
   "execution_count": 331,
   "id": "f7c63801-1091-4cc2-a6e6-f1876e45d987",
   "metadata": {},
   "outputs": [],
   "source": [
    "outliers = df[(df[\"age\"] < lower) | (df[\"age\"] > upper)]"
   ]
  },
  {
   "cell_type": "code",
   "execution_count": 332,
   "id": "8d7dc39d-bcf0-4e84-a3fa-f5eeffea4592",
   "metadata": {},
   "outputs": [
    {
     "data": {
      "text/plain": [
       "(493, 17)"
      ]
     },
     "execution_count": 332,
     "metadata": {},
     "output_type": "execute_result"
    }
   ],
   "source": [
    "outliers.shape"
   ]
  },
  {
   "cell_type": "code",
   "execution_count": 333,
   "id": "cc296a3f-d6f5-4b64-8b82-7bf7a46c2779",
   "metadata": {},
   "outputs": [
    {
     "data": {
      "text/html": [
       "<div>\n",
       "<style scoped>\n",
       "    .dataframe tbody tr th:only-of-type {\n",
       "        vertical-align: middle;\n",
       "    }\n",
       "\n",
       "    .dataframe tbody tr th {\n",
       "        vertical-align: top;\n",
       "    }\n",
       "\n",
       "    .dataframe thead th {\n",
       "        text-align: right;\n",
       "    }\n",
       "</style>\n",
       "<table border=\"1\" class=\"dataframe\">\n",
       "  <thead>\n",
       "    <tr style=\"text-align: right;\">\n",
       "      <th></th>\n",
       "      <th>age</th>\n",
       "    </tr>\n",
       "  </thead>\n",
       "  <tbody>\n",
       "    <tr>\n",
       "      <th>count</th>\n",
       "      <td>493.000000</td>\n",
       "    </tr>\n",
       "    <tr>\n",
       "      <th>mean</th>\n",
       "      <td>73.450304</td>\n",
       "    </tr>\n",
       "    <tr>\n",
       "      <th>std</th>\n",
       "      <td>44.003511</td>\n",
       "    </tr>\n",
       "    <tr>\n",
       "      <th>min</th>\n",
       "      <td>66.000000</td>\n",
       "    </tr>\n",
       "    <tr>\n",
       "      <th>25%</th>\n",
       "      <td>67.000000</td>\n",
       "    </tr>\n",
       "    <tr>\n",
       "      <th>50%</th>\n",
       "      <td>68.000000</td>\n",
       "    </tr>\n",
       "    <tr>\n",
       "      <th>75%</th>\n",
       "      <td>69.000000</td>\n",
       "    </tr>\n",
       "    <tr>\n",
       "      <th>max</th>\n",
       "      <td>604.000000</td>\n",
       "    </tr>\n",
       "  </tbody>\n",
       "</table>\n",
       "</div>"
      ],
      "text/plain": [
       "              age\n",
       "count  493.000000\n",
       "mean    73.450304\n",
       "std     44.003511\n",
       "min     66.000000\n",
       "25%     67.000000\n",
       "50%     68.000000\n",
       "75%     69.000000\n",
       "max    604.000000"
      ]
     },
     "execution_count": 333,
     "metadata": {},
     "output_type": "execute_result"
    }
   ],
   "source": [
    "outliers.describe()"
   ]
  },
  {
   "cell_type": "code",
   "execution_count": 334,
   "id": "b6cbbcac-8a96-4fd2-ba72-ef644d8f63e6",
   "metadata": {},
   "outputs": [],
   "source": [
    "df = df[df[\"age\"] <= 100]"
   ]
  },
  {
   "cell_type": "code",
   "execution_count": 335,
   "id": "022eabf9-98d7-4f65-ad35-60efee9a710d",
   "metadata": {},
   "outputs": [
    {
     "data": {
      "image/png": "[encoded data removed]",
      "text/plain": [
       "<Figure size 500x500 with 1 Axes>"
      ]
     },
     "metadata": {},
     "output_type": "display_data"
    }
   ],
   "source": [
    "plt.figure(figsize=(5, 5))\n",
    "sns.boxplot(x=\"age\", data = df)\n",
    "plt.show()"
   ]
  },
  {
   "cell_type": "code",
   "execution_count": 336,
   "id": "4026a65d-989e-49cd-b9f7-63b8b2bd06b3",
   "metadata": {},
   "outputs": [
    {
     "data": {
      "image/png": "[encoded data removed]",
      "text/plain": [
       "<Figure size 640x480 with 1 Axes>"
      ]
     },
     "metadata": {},
     "output_type": "display_data"
    }
   ],
   "source": [
    "sns.histplot(df[\"age\"], bins=30, kde=True)\n",
    "plt.show()"
   ]
  },
  {
   "cell_type": "markdown",
   "id": "0152cde5-1efd-4fb9-9dbe-9fbc325e9bdf",
   "metadata": {},
   "source": [
    "<h4 style=\"color:blue;\">Cleaned the age column by removing unrealistic values above 100 while keeping valid ages, ensuring the data is accurate and representative.</h2>"
   ]
  },
  {
   "cell_type": "code",
   "execution_count": 337,
   "id": "570b9c5c-6a41-4ec7-ad91-c9f490a1d7b1",
   "metadata": {},
   "outputs": [
    {
     "name": "stdout",
     "output_type": "stream",
     "text": [
      "<class 'pandas.core.frame.DataFrame'>\n",
      "Index: 29991 entries, 0 to 30009\n",
      "Data columns (total 17 columns):\n",
      " #   Column                          Non-Null Count  Dtype \n",
      "---  ------                          --------------  ----- \n",
      " 0   respondent_id                   29991 non-null  object\n",
      " 1   age                             29991 non-null  int64 \n",
      " 2   gender                          29991 non-null  object\n",
      " 3   zone                            29991 non-null  object\n",
      " 4   occupation                      29991 non-null  object\n",
      " 5   income_levels                   21931 non-null  object\n",
      " 6   consume_frequency(weekly)       29983 non-null  object\n",
      " 7   current_brand                   29991 non-null  object\n",
      " 8   preferable_consumption_size     29991 non-null  object\n",
      " 9   awareness_of_other_brands       29991 non-null  object\n",
      " 10  reasons_for_choosing_brands     29991 non-null  object\n",
      " 11  flavor_preference               29991 non-null  object\n",
      " 12  purchase_channel                29981 non-null  object\n",
      " 13  packaging_preference            29991 non-null  object\n",
      " 14  health_concerns                 29991 non-null  object\n",
      " 15  typical_consumption_situations  29991 non-null  object\n",
      " 16  price_range                     29991 non-null  object\n",
      "dtypes: int64(1), object(16)\n",
      "memory usage: 4.1+ MB\n"
     ]
    }
   ],
   "source": [
    "df.info()"
   ]
  },
  {
   "cell_type": "code",
   "execution_count": 338,
   "id": "757d4d23-b725-4420-8382-ef198b09d77c",
   "metadata": {},
   "outputs": [
    {
     "data": {
      "text/html": [
       "<div>\n",
       "<style scoped>\n",
       "    .dataframe tbody tr th:only-of-type {\n",
       "        vertical-align: middle;\n",
       "    }\n",
       "\n",
       "    .dataframe tbody tr th {\n",
       "        vertical-align: top;\n",
       "    }\n",
       "\n",
       "    .dataframe thead th {\n",
       "        text-align: right;\n",
       "    }\n",
       "</style>\n",
       "<table border=\"1\" class=\"dataframe\">\n",
       "  <thead>\n",
       "    <tr style=\"text-align: right;\">\n",
       "      <th></th>\n",
       "      <th>respondent_id</th>\n",
       "      <th>age</th>\n",
       "      <th>gender</th>\n",
       "      <th>zone</th>\n",
       "      <th>occupation</th>\n",
       "      <th>income_levels</th>\n",
       "      <th>consume_frequency(weekly)</th>\n",
       "      <th>current_brand</th>\n",
       "      <th>preferable_consumption_size</th>\n",
       "      <th>awareness_of_other_brands</th>\n",
       "      <th>reasons_for_choosing_brands</th>\n",
       "      <th>flavor_preference</th>\n",
       "      <th>purchase_channel</th>\n",
       "      <th>packaging_preference</th>\n",
       "      <th>health_concerns</th>\n",
       "      <th>typical_consumption_situations</th>\n",
       "      <th>price_range</th>\n",
       "    </tr>\n",
       "  </thead>\n",
       "  <tbody>\n",
       "    <tr>\n",
       "      <th>0</th>\n",
       "      <td>R00001</td>\n",
       "      <td>30</td>\n",
       "      <td>M</td>\n",
       "      <td>Urban</td>\n",
       "      <td>Working Professional</td>\n",
       "      <td>&lt;10L</td>\n",
       "      <td>3-4 times</td>\n",
       "      <td>Newcomer</td>\n",
       "      <td>Medium (500 ml)</td>\n",
       "      <td>0 to 1</td>\n",
       "      <td>Price</td>\n",
       "      <td>Traditional</td>\n",
       "      <td>Online</td>\n",
       "      <td>Simple</td>\n",
       "      <td>Medium (Moderately health-conscious)</td>\n",
       "      <td>Active (eg. Sports, gym)</td>\n",
       "      <td>100-150</td>\n",
       "    </tr>\n",
       "    <tr>\n",
       "      <th>1</th>\n",
       "      <td>R00002</td>\n",
       "      <td>46</td>\n",
       "      <td>F</td>\n",
       "      <td>Metro</td>\n",
       "      <td>Working Professional</td>\n",
       "      <td>&gt; 35L</td>\n",
       "      <td>5-7 times</td>\n",
       "      <td>Established</td>\n",
       "      <td>Medium (500 ml)</td>\n",
       "      <td>2 to 4</td>\n",
       "      <td>Quality</td>\n",
       "      <td>Exotic</td>\n",
       "      <td>Retail Store</td>\n",
       "      <td>Premium</td>\n",
       "      <td>Medium (Moderately health-conscious)</td>\n",
       "      <td>Social (eg. Parties)</td>\n",
       "      <td>200-250</td>\n",
       "    </tr>\n",
       "    <tr>\n",
       "      <th>2</th>\n",
       "      <td>R00003</td>\n",
       "      <td>41</td>\n",
       "      <td>F</td>\n",
       "      <td>Rural</td>\n",
       "      <td>Working Professional</td>\n",
       "      <td>&gt; 35L</td>\n",
       "      <td>3-4 times</td>\n",
       "      <td>Newcomer</td>\n",
       "      <td>Medium (500 ml)</td>\n",
       "      <td>2 to 4</td>\n",
       "      <td>Availability</td>\n",
       "      <td>Traditional</td>\n",
       "      <td>Retail Store</td>\n",
       "      <td>Premium</td>\n",
       "      <td>Medium (Moderately health-conscious)</td>\n",
       "      <td>Active (eg. Sports, gym)</td>\n",
       "      <td>200-250</td>\n",
       "    </tr>\n",
       "    <tr>\n",
       "      <th>3</th>\n",
       "      <td>R00004</td>\n",
       "      <td>33</td>\n",
       "      <td>F</td>\n",
       "      <td>Urban</td>\n",
       "      <td>Working Professional</td>\n",
       "      <td>16L - 25L</td>\n",
       "      <td>5-7 times</td>\n",
       "      <td>Newcomer</td>\n",
       "      <td>Medium (500 ml)</td>\n",
       "      <td>0 to 1</td>\n",
       "      <td>Brand Reputation</td>\n",
       "      <td>Exotic</td>\n",
       "      <td>Online</td>\n",
       "      <td>Eco-Friendly</td>\n",
       "      <td>Low (Not very concerned)</td>\n",
       "      <td>Active (eg. Sports, gym)</td>\n",
       "      <td>150-200</td>\n",
       "    </tr>\n",
       "    <tr>\n",
       "      <th>4</th>\n",
       "      <td>R00005</td>\n",
       "      <td>23</td>\n",
       "      <td>M</td>\n",
       "      <td>Metro</td>\n",
       "      <td>Student</td>\n",
       "      <td>NaN</td>\n",
       "      <td>3-4 times</td>\n",
       "      <td>Established</td>\n",
       "      <td>Medium (500 ml)</td>\n",
       "      <td>0 to 1</td>\n",
       "      <td>Availability</td>\n",
       "      <td>Traditional</td>\n",
       "      <td>Online</td>\n",
       "      <td>Premium</td>\n",
       "      <td>Medium (Moderately health-conscious)</td>\n",
       "      <td>Active (eg. Sports, gym)</td>\n",
       "      <td>50-100</td>\n",
       "    </tr>\n",
       "  </tbody>\n",
       "</table>\n",
       "</div>"
      ],
      "text/plain": [
       "  respondent_id  age gender   zone            occupation income_levels  \\\n",
       "0        R00001   30      M  Urban  Working Professional          <10L   \n",
       "1        R00002   46      F  Metro  Working Professional         > 35L   \n",
       "2        R00003   41      F  Rural  Working Professional         > 35L   \n",
       "3        R00004   33      F  Urban  Working Professional     16L - 25L   \n",
       "4        R00005   23      M  Metro               Student           NaN   \n",
       "\n",
       "  consume_frequency(weekly) current_brand preferable_consumption_size  \\\n",
       "0                 3-4 times      Newcomer             Medium (500 ml)   \n",
       "1                 5-7 times   Established             Medium (500 ml)   \n",
       "2                 3-4 times      Newcomer             Medium (500 ml)   \n",
       "3                 5-7 times      Newcomer             Medium (500 ml)   \n",
       "4                 3-4 times   Established             Medium (500 ml)   \n",
       "\n",
       "  awareness_of_other_brands reasons_for_choosing_brands flavor_preference  \\\n",
       "0                    0 to 1                       Price       Traditional   \n",
       "1                    2 to 4                     Quality            Exotic   \n",
       "2                    2 to 4                Availability       Traditional   \n",
       "3                    0 to 1            Brand Reputation            Exotic   \n",
       "4                    0 to 1                Availability       Traditional   \n",
       "\n",
       "  purchase_channel packaging_preference                       health_concerns  \\\n",
       "0           Online               Simple  Medium (Moderately health-conscious)   \n",
       "1     Retail Store              Premium  Medium (Moderately health-conscious)   \n",
       "2     Retail Store              Premium  Medium (Moderately health-conscious)   \n",
       "3           Online         Eco-Friendly              Low (Not very concerned)   \n",
       "4           Online              Premium  Medium (Moderately health-conscious)   \n",
       "\n",
       "  typical_consumption_situations price_range  \n",
       "0       Active (eg. Sports, gym)     100-150  \n",
       "1           Social (eg. Parties)     200-250  \n",
       "2       Active (eg. Sports, gym)     200-250  \n",
       "3       Active (eg. Sports, gym)     150-200  \n",
       "4       Active (eg. Sports, gym)      50-100  "
      ]
     },
     "execution_count": 338,
     "metadata": {},
     "output_type": "execute_result"
    }
   ],
   "source": [
    "df.head()"
   ]
  },
  {
   "cell_type": "code",
   "execution_count": 339,
   "id": "d2c3c585-3363-4da8-b599-f2bc4647a75f",
   "metadata": {},
   "outputs": [
    {
     "data": {
      "text/plain": [
       "array(['Student'], dtype=object)"
      ]
     },
     "execution_count": 339,
     "metadata": {},
     "output_type": "execute_result"
    }
   ],
   "source": [
    "df[df[\"income_levels\"].isna()][\"occupation\"].unique()"
   ]
  },
  {
   "cell_type": "code",
   "execution_count": 340,
   "id": "e99386d5-42e6-4996-9a5e-8f14c66f7693",
   "metadata": {},
   "outputs": [],
   "source": [
    "df.loc[df[\"occupation\"]==\"Student\", \"income_levels\"] = df.loc[df[\"occupation\"]==\"Student\", \"income_levels\"].fillna(\"Not Reported\")"
   ]
  },
  {
   "cell_type": "code",
   "execution_count": 341,
   "id": "6e1c67da-f352-4d6f-9532-ac064224175c",
   "metadata": {},
   "outputs": [
    {
     "data": {
      "text/plain": [
       "array([], dtype=object)"
      ]
     },
     "execution_count": 341,
     "metadata": {},
     "output_type": "execute_result"
    }
   ],
   "source": [
    "df[df[\"income_levels\"].isna()][\"occupation\"].unique()"
   ]
  },
  {
   "cell_type": "code",
   "execution_count": 342,
   "id": "c6013912-f376-4882-bd2b-8244b5c0a212",
   "metadata": {},
   "outputs": [
    {
     "name": "stdout",
     "output_type": "stream",
     "text": [
      "<class 'pandas.core.frame.DataFrame'>\n",
      "Index: 29991 entries, 0 to 30009\n",
      "Data columns (total 17 columns):\n",
      " #   Column                          Non-Null Count  Dtype \n",
      "---  ------                          --------------  ----- \n",
      " 0   respondent_id                   29991 non-null  object\n",
      " 1   age                             29991 non-null  int64 \n",
      " 2   gender                          29991 non-null  object\n",
      " 3   zone                            29991 non-null  object\n",
      " 4   occupation                      29991 non-null  object\n",
      " 5   income_levels                   29991 non-null  object\n",
      " 6   consume_frequency(weekly)       29983 non-null  object\n",
      " 7   current_brand                   29991 non-null  object\n",
      " 8   preferable_consumption_size     29991 non-null  object\n",
      " 9   awareness_of_other_brands       29991 non-null  object\n",
      " 10  reasons_for_choosing_brands     29991 non-null  object\n",
      " 11  flavor_preference               29991 non-null  object\n",
      " 12  purchase_channel                29981 non-null  object\n",
      " 13  packaging_preference            29991 non-null  object\n",
      " 14  health_concerns                 29991 non-null  object\n",
      " 15  typical_consumption_situations  29991 non-null  object\n",
      " 16  price_range                     29991 non-null  object\n",
      "dtypes: int64(1), object(16)\n",
      "memory usage: 4.1+ MB\n"
     ]
    }
   ],
   "source": [
    "df.info()"
   ]
  },
  {
   "cell_type": "code",
   "execution_count": 343,
   "id": "687ae99e-fabe-4da1-8cdb-be577c0166e8",
   "metadata": {},
   "outputs": [
    {
     "data": {
      "image/png": "[encoded data removed]",
      "text/plain": [
       "<Figure size 400x400 with 1 Axes>"
      ]
     },
     "metadata": {},
     "output_type": "display_data"
    },
    {
     "data": {
      "image/png": "[encoded data removed]",
      "text/plain": [
       "<Figure size 400x400 with 1 Axes>"
      ]
     },
     "metadata": {},
     "output_type": "display_data"
    }
   ],
   "source": [
    "plt.figure(figsize=(4, 4))\n",
    "sns.countplot(x=\"consume_frequency(weekly)\", data=df)\n",
    "plt.xticks(rotation=45)   \n",
    "plt.title(\"Distribution of Consume Frequency (Weekly)\")\n",
    "plt.show()\n",
    "\n",
    "plt.figure(figsize=(4, 4))\n",
    "sns.countplot(x=\"purchase_channel\", data=df)\n",
    "plt.xticks(rotation=45)\n",
    "plt.title(\"Distribution of Purchase Channel\")\n",
    "plt.show()\n"
   ]
  },
  {
   "cell_type": "code",
   "execution_count": 344,
   "id": "ddbfda80-6162-4f88-ba9c-681ab6e41ce0",
   "metadata": {},
   "outputs": [
    {
     "name": "stdout",
     "output_type": "stream",
     "text": [
      "8 10\n"
     ]
    }
   ],
   "source": [
    "print(df[\"consume_frequency(weekly)\"].isnull().sum()\n",
    ",df[\"purchase_channel\"].isnull().sum())"
   ]
  },
  {
   "cell_type": "code",
   "execution_count": 345,
   "id": "25318e9f-1bb4-442b-9327-ac09f80ce1b4",
   "metadata": {},
   "outputs": [
    {
     "data": {
      "text/plain": [
       "'3-4 times'"
      ]
     },
     "execution_count": 345,
     "metadata": {},
     "output_type": "execute_result"
    }
   ],
   "source": [
    "df[\"consume_frequency(weekly)\"].mode()[0]"
   ]
  },
  {
   "cell_type": "code",
   "execution_count": 346,
   "id": "c472b437-fae7-4bc6-abec-bc59c8bbf67e",
   "metadata": {},
   "outputs": [
    {
     "name": "stderr",
     "output_type": "stream",
     "text": [
      "C:\\Users\\Lenovo\\AppData\\Local\\Temp\\ipykernel_11280\\654606503.py:1: FutureWarning: A value is trying to be set on a copy of a DataFrame or Series through chained assignment using an inplace method.\n",
      "The behavior will change in pandas 3.0. This inplace method will never work because the intermediate object on which we are setting values always behaves as a copy.\n",
      "\n",
      "For example, when doing 'df[col].method(value, inplace=True)', try using 'df.method({col: value}, inplace=True)' or df[col] = df[col].method(value) instead, to perform the operation inplace on the original object.\n",
      "\n",
      "\n",
      "  df[\"consume_frequency(weekly)\"].fillna(df[\"consume_frequency(weekly)\"].mode()[0], inplace=True)\n",
      "C:\\Users\\Lenovo\\AppData\\Local\\Temp\\ipykernel_11280\\654606503.py:2: FutureWarning: A value is trying to be set on a copy of a DataFrame or Series through chained assignment using an inplace method.\n",
      "The behavior will change in pandas 3.0. This inplace method will never work because the intermediate object on which we are setting values always behaves as a copy.\n",
      "\n",
      "For example, when doing 'df[col].method(value, inplace=True)', try using 'df.method({col: value}, inplace=True)' or df[col] = df[col].method(value) instead, to perform the operation inplace on the original object.\n",
      "\n",
      "\n",
      "  df[\"purchase_channel\"].fillna(df[\"purchase_channel\"].mode()[0], inplace=True)\n"
     ]
    }
   ],
   "source": [
    "df[\"consume_frequency(weekly)\"].fillna(df[\"consume_frequency(weekly)\"].mode()[0], inplace=True)\n",
    "df[\"purchase_channel\"].fillna(df[\"purchase_channel\"].mode()[0], inplace=True)"
   ]
  },
  {
   "cell_type": "code",
   "execution_count": 347,
   "id": "a25128de-bf2d-4f32-9acc-5bfbf0c5390b",
   "metadata": {},
   "outputs": [
    {
     "name": "stdout",
     "output_type": "stream",
     "text": [
      "<class 'pandas.core.frame.DataFrame'>\n",
      "Index: 29991 entries, 0 to 30009\n",
      "Data columns (total 17 columns):\n",
      " #   Column                          Non-Null Count  Dtype \n",
      "---  ------                          --------------  ----- \n",
      " 0   respondent_id                   29991 non-null  object\n",
      " 1   age                             29991 non-null  int64 \n",
      " 2   gender                          29991 non-null  object\n",
      " 3   zone                            29991 non-null  object\n",
      " 4   occupation                      29991 non-null  object\n",
      " 5   income_levels                   29991 non-null  object\n",
      " 6   consume_frequency(weekly)       29991 non-null  object\n",
      " 7   current_brand                   29991 non-null  object\n",
      " 8   preferable_consumption_size     29991 non-null  object\n",
      " 9   awareness_of_other_brands       29991 non-null  object\n",
      " 10  reasons_for_choosing_brands     29991 non-null  object\n",
      " 11  flavor_preference               29991 non-null  object\n",
      " 12  purchase_channel                29991 non-null  object\n",
      " 13  packaging_preference            29991 non-null  object\n",
      " 14  health_concerns                 29991 non-null  object\n",
      " 15  typical_consumption_situations  29991 non-null  object\n",
      " 16  price_range                     29991 non-null  object\n",
      "dtypes: int64(1), object(16)\n",
      "memory usage: 4.1+ MB\n"
     ]
    }
   ],
   "source": [
    "df.info()"
   ]
  },
  {
   "cell_type": "markdown",
   "id": "8fe67364-06f7-42c2-a8b2-e41532fe92f9",
   "metadata": {},
   "source": [
    "<h4 style=\"color:blue;\">Handled missing values in consume_frequency(weekly) and purchase_channel by filling them with their respective mode values (“3-4 times” and “Online”), since only a few records were missing..</h2>"
   ]
  },
  {
   "cell_type": "code",
   "execution_count": 348,
   "id": "fb6b3aec-1b07-4f8e-b276-c3b57c77a15d",
   "metadata": {},
   "outputs": [
    {
     "data": {
      "text/plain": [
       "array(['Urban', 'Metro', 'Rural', 'Semi-Urban', 'Metor', 'urbna'],\n",
       "      dtype=object)"
      ]
     },
     "execution_count": 348,
     "metadata": {},
     "output_type": "execute_result"
    }
   ],
   "source": [
    "df[\"zone\"].unique()"
   ]
  },
  {
   "cell_type": "code",
   "execution_count": 349,
   "id": "6ec1974b-0df3-4b88-b6c5-9ce3d3d85c43",
   "metadata": {},
   "outputs": [
    {
     "data": {
      "text/plain": [
       "4"
      ]
     },
     "execution_count": 349,
     "metadata": {},
     "output_type": "execute_result"
    }
   ],
   "source": [
    "df[df[\"zone\"]==\"Metor\"].shape[0]"
   ]
  },
  {
   "cell_type": "code",
   "execution_count": 350,
   "id": "d3785b48-6ca2-4ae4-9cc6-43741a66a703",
   "metadata": {},
   "outputs": [],
   "source": [
    "df.loc[df[\"zone\"] == \"Metor\", \"zone\"] = \"Metro\"\n",
    "df.loc[df[\"zone\"] == \"urbna\", \"zone\"] = \"Urban\""
   ]
  },
  {
   "cell_type": "code",
   "execution_count": 351,
   "id": "24cc1d5a-f025-4b66-984c-34c5e4b24106",
   "metadata": {},
   "outputs": [
    {
     "data": {
      "text/plain": [
       "array(['Urban', 'Metro', 'Rural', 'Semi-Urban'], dtype=object)"
      ]
     },
     "execution_count": 351,
     "metadata": {},
     "output_type": "execute_result"
    }
   ],
   "source": [
    "df[\"zone\"].unique()"
   ]
  },
  {
   "cell_type": "code",
   "execution_count": 352,
   "id": "9e6758d1-d075-48ad-9a7b-d3cfd129e6a7",
   "metadata": {},
   "outputs": [
    {
     "data": {
      "text/plain": [
       "array(['Newcomer', 'Established', 'newcomer', 'Establishd'], dtype=object)"
      ]
     },
     "execution_count": 352,
     "metadata": {},
     "output_type": "execute_result"
    }
   ],
   "source": [
    "df[\"current_brand\"].unique()"
   ]
  },
  {
   "cell_type": "code",
   "execution_count": 353,
   "id": "6802c291-58cd-4303-afc5-630abf420781",
   "metadata": {},
   "outputs": [],
   "source": [
    "df.loc[df[\"current_brand\"] == \"newcomer\", \"current_brand\"] = \"Newcomer\"\n",
    "df.loc[df[\"current_brand\"] == \"Establishd\", \"current_brand\"] = \"Established\""
   ]
  },
  {
   "cell_type": "code",
   "execution_count": 354,
   "id": "1902f50f-311c-4251-8d44-1fd8b14658b1",
   "metadata": {},
   "outputs": [
    {
     "data": {
      "text/plain": [
       "array(['Newcomer', 'Established'], dtype=object)"
      ]
     },
     "execution_count": 354,
     "metadata": {},
     "output_type": "execute_result"
    }
   ],
   "source": [
    "df[\"current_brand\"].unique()"
   ]
  },
  {
   "cell_type": "markdown",
   "id": "15cd2d78-31bb-4483-837f-96e714989913",
   "metadata": {},
   "source": [
    "<h4 style=\"color:blue;\">Corrected spelling inconsistencies in the zone and current_brand columns to ensure uniform categories across the dataset.</h2>"
   ]
  },
  {
   "cell_type": "markdown",
   "id": "1bacd3c0-8a61-49a3-a634-e2928f4c93c3",
   "metadata": {},
   "source": [
    "<h1 style=\"color:blue; text-align:center;\">Feature Engineering</h2>"
   ]
  },
  {
   "cell_type": "markdown",
   "id": "7cf4c497-a4f1-445d-822b-03e36cb0e31b",
   "metadata": {},
   "source": [
    "<h4 style=\"color:blue;\">Categorized Age into Age Groups</h2>"
   ]
  },
  {
   "cell_type": "code",
   "execution_count": 355,
   "id": "15b6646a-297f-49e4-91a0-42f546f23b89",
   "metadata": {},
   "outputs": [],
   "source": [
    "df['age_group'] = df['age'].apply(lambda x: '18-25' if 18 <= x <= 25 \n",
    "                                  else '26-35' if 26 <= x <= 35 \n",
    "                                  else '36-45' if 36 <= x <= 45 \n",
    "                                  else '46-55' if 46 <= x <= 55 \n",
    "                                  else '56-70' if 56 <= x <= 70 \n",
    "                                  else '70+')\n",
    "df.drop(columns=['age'], inplace=True)\n"
   ]
  },
  {
   "cell_type": "markdown",
   "id": "4d757d1b-6b22-4dfb-acb5-ea39487fd9fd",
   "metadata": {},
   "source": [
    "<h4 style=\"color:blue;\">Created `cf_ab_score` (Consume Frequency and Awareness Brand\n",
    "Score)</h2>"
   ]
  },
  {
   "cell_type": "code",
   "execution_count": 356,
   "id": "12583dfb-9b1e-43a4-bf8d-9a8e903d4c9d",
   "metadata": {},
   "outputs": [
    {
     "data": {
      "text/html": [
       "<div>\n",
       "<style scoped>\n",
       "    .dataframe tbody tr th:only-of-type {\n",
       "        vertical-align: middle;\n",
       "    }\n",
       "\n",
       "    .dataframe tbody tr th {\n",
       "        vertical-align: top;\n",
       "    }\n",
       "\n",
       "    .dataframe thead th {\n",
       "        text-align: right;\n",
       "    }\n",
       "</style>\n",
       "<table border=\"1\" class=\"dataframe\">\n",
       "  <thead>\n",
       "    <tr style=\"text-align: right;\">\n",
       "      <th></th>\n",
       "      <th>respondent_id</th>\n",
       "      <th>gender</th>\n",
       "      <th>zone</th>\n",
       "      <th>occupation</th>\n",
       "      <th>income_levels</th>\n",
       "      <th>consume_frequency(weekly)</th>\n",
       "      <th>current_brand</th>\n",
       "      <th>preferable_consumption_size</th>\n",
       "      <th>awareness_of_other_brands</th>\n",
       "      <th>reasons_for_choosing_brands</th>\n",
       "      <th>flavor_preference</th>\n",
       "      <th>purchase_channel</th>\n",
       "      <th>packaging_preference</th>\n",
       "      <th>health_concerns</th>\n",
       "      <th>typical_consumption_situations</th>\n",
       "      <th>price_range</th>\n",
       "      <th>age_group</th>\n",
       "    </tr>\n",
       "  </thead>\n",
       "  <tbody>\n",
       "    <tr>\n",
       "      <th>0</th>\n",
       "      <td>R00001</td>\n",
       "      <td>M</td>\n",
       "      <td>Urban</td>\n",
       "      <td>Working Professional</td>\n",
       "      <td>&lt;10L</td>\n",
       "      <td>3-4 times</td>\n",
       "      <td>Newcomer</td>\n",
       "      <td>Medium (500 ml)</td>\n",
       "      <td>0 to 1</td>\n",
       "      <td>Price</td>\n",
       "      <td>Traditional</td>\n",
       "      <td>Online</td>\n",
       "      <td>Simple</td>\n",
       "      <td>Medium (Moderately health-conscious)</td>\n",
       "      <td>Active (eg. Sports, gym)</td>\n",
       "      <td>100-150</td>\n",
       "      <td>26-35</td>\n",
       "    </tr>\n",
       "    <tr>\n",
       "      <th>1</th>\n",
       "      <td>R00002</td>\n",
       "      <td>F</td>\n",
       "      <td>Metro</td>\n",
       "      <td>Working Professional</td>\n",
       "      <td>&gt; 35L</td>\n",
       "      <td>5-7 times</td>\n",
       "      <td>Established</td>\n",
       "      <td>Medium (500 ml)</td>\n",
       "      <td>2 to 4</td>\n",
       "      <td>Quality</td>\n",
       "      <td>Exotic</td>\n",
       "      <td>Retail Store</td>\n",
       "      <td>Premium</td>\n",
       "      <td>Medium (Moderately health-conscious)</td>\n",
       "      <td>Social (eg. Parties)</td>\n",
       "      <td>200-250</td>\n",
       "      <td>46-55</td>\n",
       "    </tr>\n",
       "    <tr>\n",
       "      <th>2</th>\n",
       "      <td>R00003</td>\n",
       "      <td>F</td>\n",
       "      <td>Rural</td>\n",
       "      <td>Working Professional</td>\n",
       "      <td>&gt; 35L</td>\n",
       "      <td>3-4 times</td>\n",
       "      <td>Newcomer</td>\n",
       "      <td>Medium (500 ml)</td>\n",
       "      <td>2 to 4</td>\n",
       "      <td>Availability</td>\n",
       "      <td>Traditional</td>\n",
       "      <td>Retail Store</td>\n",
       "      <td>Premium</td>\n",
       "      <td>Medium (Moderately health-conscious)</td>\n",
       "      <td>Active (eg. Sports, gym)</td>\n",
       "      <td>200-250</td>\n",
       "      <td>36-45</td>\n",
       "    </tr>\n",
       "    <tr>\n",
       "      <th>3</th>\n",
       "      <td>R00004</td>\n",
       "      <td>F</td>\n",
       "      <td>Urban</td>\n",
       "      <td>Working Professional</td>\n",
       "      <td>16L - 25L</td>\n",
       "      <td>5-7 times</td>\n",
       "      <td>Newcomer</td>\n",
       "      <td>Medium (500 ml)</td>\n",
       "      <td>0 to 1</td>\n",
       "      <td>Brand Reputation</td>\n",
       "      <td>Exotic</td>\n",
       "      <td>Online</td>\n",
       "      <td>Eco-Friendly</td>\n",
       "      <td>Low (Not very concerned)</td>\n",
       "      <td>Active (eg. Sports, gym)</td>\n",
       "      <td>150-200</td>\n",
       "      <td>26-35</td>\n",
       "    </tr>\n",
       "    <tr>\n",
       "      <th>4</th>\n",
       "      <td>R00005</td>\n",
       "      <td>M</td>\n",
       "      <td>Metro</td>\n",
       "      <td>Student</td>\n",
       "      <td>Not Reported</td>\n",
       "      <td>3-4 times</td>\n",
       "      <td>Established</td>\n",
       "      <td>Medium (500 ml)</td>\n",
       "      <td>0 to 1</td>\n",
       "      <td>Availability</td>\n",
       "      <td>Traditional</td>\n",
       "      <td>Online</td>\n",
       "      <td>Premium</td>\n",
       "      <td>Medium (Moderately health-conscious)</td>\n",
       "      <td>Active (eg. Sports, gym)</td>\n",
       "      <td>50-100</td>\n",
       "      <td>18-25</td>\n",
       "    </tr>\n",
       "  </tbody>\n",
       "</table>\n",
       "</div>"
      ],
      "text/plain": [
       "  respondent_id gender   zone            occupation income_levels  \\\n",
       "0        R00001      M  Urban  Working Professional          <10L   \n",
       "1        R00002      F  Metro  Working Professional         > 35L   \n",
       "2        R00003      F  Rural  Working Professional         > 35L   \n",
       "3        R00004      F  Urban  Working Professional     16L - 25L   \n",
       "4        R00005      M  Metro               Student  Not Reported   \n",
       "\n",
       "  consume_frequency(weekly) current_brand preferable_consumption_size  \\\n",
       "0                 3-4 times      Newcomer             Medium (500 ml)   \n",
       "1                 5-7 times   Established             Medium (500 ml)   \n",
       "2                 3-4 times      Newcomer             Medium (500 ml)   \n",
       "3                 5-7 times      Newcomer             Medium (500 ml)   \n",
       "4                 3-4 times   Established             Medium (500 ml)   \n",
       "\n",
       "  awareness_of_other_brands reasons_for_choosing_brands flavor_preference  \\\n",
       "0                    0 to 1                       Price       Traditional   \n",
       "1                    2 to 4                     Quality            Exotic   \n",
       "2                    2 to 4                Availability       Traditional   \n",
       "3                    0 to 1            Brand Reputation            Exotic   \n",
       "4                    0 to 1                Availability       Traditional   \n",
       "\n",
       "  purchase_channel packaging_preference                       health_concerns  \\\n",
       "0           Online               Simple  Medium (Moderately health-conscious)   \n",
       "1     Retail Store              Premium  Medium (Moderately health-conscious)   \n",
       "2     Retail Store              Premium  Medium (Moderately health-conscious)   \n",
       "3           Online         Eco-Friendly              Low (Not very concerned)   \n",
       "4           Online              Premium  Medium (Moderately health-conscious)   \n",
       "\n",
       "  typical_consumption_situations price_range age_group  \n",
       "0       Active (eg. Sports, gym)     100-150     26-35  \n",
       "1           Social (eg. Parties)     200-250     46-55  \n",
       "2       Active (eg. Sports, gym)     200-250     36-45  \n",
       "3       Active (eg. Sports, gym)     150-200     26-35  \n",
       "4       Active (eg. Sports, gym)      50-100     18-25  "
      ]
     },
     "execution_count": 356,
     "metadata": {},
     "output_type": "execute_result"
    }
   ],
   "source": [
    "df.head()"
   ]
  },
  {
   "cell_type": "code",
   "execution_count": 357,
   "id": "209e1330-246f-477a-ad81-1cafbf9a7997",
   "metadata": {},
   "outputs": [],
   "source": [
    "consume_frequency_map = {\"0-2 times\" : 1 , \"3-4 times\" : 2 , \"5-7 times\" : 3}\n",
    "awareness_of_other_brands_map = {\"0 to 1\" : 1 , \"2 to 4\" : 2 , \"above 4\" : 3}"
   ]
  },
  {
   "cell_type": "code",
   "execution_count": 358,
   "id": "077c4684-ff1d-4a9f-8731-1ca22928e809",
   "metadata": {},
   "outputs": [],
   "source": [
    "df[\"cf_ab_score\"] = round(df[\"consume_frequency(weekly)\"].map(consume_frequency_map,)/(df[\"consume_frequency(weekly)\"].map(consume_frequency_map) + df[\"awareness_of_other_brands\"].map(awareness_of_other_brands_map)),2) "
   ]
  },
  {
   "cell_type": "markdown",
   "id": "9a5b5823-04dc-47ea-82a3-7e1a77340007",
   "metadata": {},
   "source": [
    "<h4 style=\"color:blue;\">Created Zone Affluence Score (ZAS)</h2>"
   ]
  },
  {
   "cell_type": "code",
   "execution_count": 359,
   "id": "e09e078e-afdf-4f64-bf7c-85fe04a58f3d",
   "metadata": {},
   "outputs": [
    {
     "data": {
      "text/html": [
       "<div>\n",
       "<style scoped>\n",
       "    .dataframe tbody tr th:only-of-type {\n",
       "        vertical-align: middle;\n",
       "    }\n",
       "\n",
       "    .dataframe tbody tr th {\n",
       "        vertical-align: top;\n",
       "    }\n",
       "\n",
       "    .dataframe thead th {\n",
       "        text-align: right;\n",
       "    }\n",
       "</style>\n",
       "<table border=\"1\" class=\"dataframe\">\n",
       "  <thead>\n",
       "    <tr style=\"text-align: right;\">\n",
       "      <th></th>\n",
       "      <th>respondent_id</th>\n",
       "      <th>gender</th>\n",
       "      <th>zone</th>\n",
       "      <th>occupation</th>\n",
       "      <th>income_levels</th>\n",
       "      <th>consume_frequency(weekly)</th>\n",
       "      <th>current_brand</th>\n",
       "      <th>preferable_consumption_size</th>\n",
       "      <th>awareness_of_other_brands</th>\n",
       "      <th>reasons_for_choosing_brands</th>\n",
       "      <th>flavor_preference</th>\n",
       "      <th>purchase_channel</th>\n",
       "      <th>packaging_preference</th>\n",
       "      <th>health_concerns</th>\n",
       "      <th>typical_consumption_situations</th>\n",
       "      <th>price_range</th>\n",
       "      <th>age_group</th>\n",
       "      <th>cf_ab_score</th>\n",
       "    </tr>\n",
       "  </thead>\n",
       "  <tbody>\n",
       "    <tr>\n",
       "      <th>0</th>\n",
       "      <td>R00001</td>\n",
       "      <td>M</td>\n",
       "      <td>Urban</td>\n",
       "      <td>Working Professional</td>\n",
       "      <td>&lt;10L</td>\n",
       "      <td>3-4 times</td>\n",
       "      <td>Newcomer</td>\n",
       "      <td>Medium (500 ml)</td>\n",
       "      <td>0 to 1</td>\n",
       "      <td>Price</td>\n",
       "      <td>Traditional</td>\n",
       "      <td>Online</td>\n",
       "      <td>Simple</td>\n",
       "      <td>Medium (Moderately health-conscious)</td>\n",
       "      <td>Active (eg. Sports, gym)</td>\n",
       "      <td>100-150</td>\n",
       "      <td>26-35</td>\n",
       "      <td>0.67</td>\n",
       "    </tr>\n",
       "    <tr>\n",
       "      <th>1</th>\n",
       "      <td>R00002</td>\n",
       "      <td>F</td>\n",
       "      <td>Metro</td>\n",
       "      <td>Working Professional</td>\n",
       "      <td>&gt; 35L</td>\n",
       "      <td>5-7 times</td>\n",
       "      <td>Established</td>\n",
       "      <td>Medium (500 ml)</td>\n",
       "      <td>2 to 4</td>\n",
       "      <td>Quality</td>\n",
       "      <td>Exotic</td>\n",
       "      <td>Retail Store</td>\n",
       "      <td>Premium</td>\n",
       "      <td>Medium (Moderately health-conscious)</td>\n",
       "      <td>Social (eg. Parties)</td>\n",
       "      <td>200-250</td>\n",
       "      <td>46-55</td>\n",
       "      <td>0.60</td>\n",
       "    </tr>\n",
       "    <tr>\n",
       "      <th>2</th>\n",
       "      <td>R00003</td>\n",
       "      <td>F</td>\n",
       "      <td>Rural</td>\n",
       "      <td>Working Professional</td>\n",
       "      <td>&gt; 35L</td>\n",
       "      <td>3-4 times</td>\n",
       "      <td>Newcomer</td>\n",
       "      <td>Medium (500 ml)</td>\n",
       "      <td>2 to 4</td>\n",
       "      <td>Availability</td>\n",
       "      <td>Traditional</td>\n",
       "      <td>Retail Store</td>\n",
       "      <td>Premium</td>\n",
       "      <td>Medium (Moderately health-conscious)</td>\n",
       "      <td>Active (eg. Sports, gym)</td>\n",
       "      <td>200-250</td>\n",
       "      <td>36-45</td>\n",
       "      <td>0.50</td>\n",
       "    </tr>\n",
       "    <tr>\n",
       "      <th>3</th>\n",
       "      <td>R00004</td>\n",
       "      <td>F</td>\n",
       "      <td>Urban</td>\n",
       "      <td>Working Professional</td>\n",
       "      <td>16L - 25L</td>\n",
       "      <td>5-7 times</td>\n",
       "      <td>Newcomer</td>\n",
       "      <td>Medium (500 ml)</td>\n",
       "      <td>0 to 1</td>\n",
       "      <td>Brand Reputation</td>\n",
       "      <td>Exotic</td>\n",
       "      <td>Online</td>\n",
       "      <td>Eco-Friendly</td>\n",
       "      <td>Low (Not very concerned)</td>\n",
       "      <td>Active (eg. Sports, gym)</td>\n",
       "      <td>150-200</td>\n",
       "      <td>26-35</td>\n",
       "      <td>0.75</td>\n",
       "    </tr>\n",
       "    <tr>\n",
       "      <th>4</th>\n",
       "      <td>R00005</td>\n",
       "      <td>M</td>\n",
       "      <td>Metro</td>\n",
       "      <td>Student</td>\n",
       "      <td>Not Reported</td>\n",
       "      <td>3-4 times</td>\n",
       "      <td>Established</td>\n",
       "      <td>Medium (500 ml)</td>\n",
       "      <td>0 to 1</td>\n",
       "      <td>Availability</td>\n",
       "      <td>Traditional</td>\n",
       "      <td>Online</td>\n",
       "      <td>Premium</td>\n",
       "      <td>Medium (Moderately health-conscious)</td>\n",
       "      <td>Active (eg. Sports, gym)</td>\n",
       "      <td>50-100</td>\n",
       "      <td>18-25</td>\n",
       "      <td>0.67</td>\n",
       "    </tr>\n",
       "  </tbody>\n",
       "</table>\n",
       "</div>"
      ],
      "text/plain": [
       "  respondent_id gender   zone            occupation income_levels  \\\n",
       "0        R00001      M  Urban  Working Professional          <10L   \n",
       "1        R00002      F  Metro  Working Professional         > 35L   \n",
       "2        R00003      F  Rural  Working Professional         > 35L   \n",
       "3        R00004      F  Urban  Working Professional     16L - 25L   \n",
       "4        R00005      M  Metro               Student  Not Reported   \n",
       "\n",
       "  consume_frequency(weekly) current_brand preferable_consumption_size  \\\n",
       "0                 3-4 times      Newcomer             Medium (500 ml)   \n",
       "1                 5-7 times   Established             Medium (500 ml)   \n",
       "2                 3-4 times      Newcomer             Medium (500 ml)   \n",
       "3                 5-7 times      Newcomer             Medium (500 ml)   \n",
       "4                 3-4 times   Established             Medium (500 ml)   \n",
       "\n",
       "  awareness_of_other_brands reasons_for_choosing_brands flavor_preference  \\\n",
       "0                    0 to 1                       Price       Traditional   \n",
       "1                    2 to 4                     Quality            Exotic   \n",
       "2                    2 to 4                Availability       Traditional   \n",
       "3                    0 to 1            Brand Reputation            Exotic   \n",
       "4                    0 to 1                Availability       Traditional   \n",
       "\n",
       "  purchase_channel packaging_preference                       health_concerns  \\\n",
       "0           Online               Simple  Medium (Moderately health-conscious)   \n",
       "1     Retail Store              Premium  Medium (Moderately health-conscious)   \n",
       "2     Retail Store              Premium  Medium (Moderately health-conscious)   \n",
       "3           Online         Eco-Friendly              Low (Not very concerned)   \n",
       "4           Online              Premium  Medium (Moderately health-conscious)   \n",
       "\n",
       "  typical_consumption_situations price_range age_group  cf_ab_score  \n",
       "0       Active (eg. Sports, gym)     100-150     26-35         0.67  \n",
       "1           Social (eg. Parties)     200-250     46-55         0.60  \n",
       "2       Active (eg. Sports, gym)     200-250     36-45         0.50  \n",
       "3       Active (eg. Sports, gym)     150-200     26-35         0.75  \n",
       "4       Active (eg. Sports, gym)      50-100     18-25         0.67  "
      ]
     },
     "execution_count": 359,
     "metadata": {},
     "output_type": "execute_result"
    }
   ],
   "source": [
    "df.head()"
   ]
  },
  {
   "cell_type": "code",
   "execution_count": 360,
   "id": "41d6b81c-ac5c-441d-9f08-034fb43ec618",
   "metadata": {},
   "outputs": [],
   "source": [
    "zone_map = {\"Urban\" :3, \"Metro\" : 4,  \"Rural\" : 1,  \"Semi-Urban\" : 2}"
   ]
  },
  {
   "cell_type": "code",
   "execution_count": 361,
   "id": "17d78eac-6b00-440a-a515-8d991708472e",
   "metadata": {},
   "outputs": [],
   "source": [
    "income_levels_map = {\"<10L\" : 1, \"10L - 15L\" :2, \"16L - 25L\" : 3, \"26L - 35L\" : 4, \"> 35L\" : 5, \"Not Reported\" : 0}"
   ]
  },
  {
   "cell_type": "code",
   "execution_count": 362,
   "id": "d427eb9f-cbd5-43eb-878b-3527778ad3de",
   "metadata": {},
   "outputs": [],
   "source": [
    "df[\"zas_score\"] = df[\"zone\"].map(zone_map) * df[\"income_levels\"].map(income_levels_map)"
   ]
  },
  {
   "cell_type": "markdown",
   "id": "fe7e7766-cec3-4ef5-8e95-fac086d9eebb",
   "metadata": {},
   "source": [
    "<h4 style=\"color:blue;\">Brand Switching Indicator (BSI) column</h2>"
   ]
  },
  {
   "cell_type": "code",
   "execution_count": 363,
   "id": "dccd45d5-d7c3-4afe-825b-b1f921d992a8",
   "metadata": {},
   "outputs": [
    {
     "data": {
      "text/html": [
       "<div>\n",
       "<style scoped>\n",
       "    .dataframe tbody tr th:only-of-type {\n",
       "        vertical-align: middle;\n",
       "    }\n",
       "\n",
       "    .dataframe tbody tr th {\n",
       "        vertical-align: top;\n",
       "    }\n",
       "\n",
       "    .dataframe thead th {\n",
       "        text-align: right;\n",
       "    }\n",
       "</style>\n",
       "<table border=\"1\" class=\"dataframe\">\n",
       "  <thead>\n",
       "    <tr style=\"text-align: right;\">\n",
       "      <th></th>\n",
       "      <th>respondent_id</th>\n",
       "      <th>gender</th>\n",
       "      <th>zone</th>\n",
       "      <th>occupation</th>\n",
       "      <th>income_levels</th>\n",
       "      <th>consume_frequency(weekly)</th>\n",
       "      <th>current_brand</th>\n",
       "      <th>preferable_consumption_size</th>\n",
       "      <th>awareness_of_other_brands</th>\n",
       "      <th>reasons_for_choosing_brands</th>\n",
       "      <th>flavor_preference</th>\n",
       "      <th>purchase_channel</th>\n",
       "      <th>packaging_preference</th>\n",
       "      <th>health_concerns</th>\n",
       "      <th>typical_consumption_situations</th>\n",
       "      <th>price_range</th>\n",
       "      <th>age_group</th>\n",
       "      <th>cf_ab_score</th>\n",
       "      <th>zas_score</th>\n",
       "    </tr>\n",
       "  </thead>\n",
       "  <tbody>\n",
       "    <tr>\n",
       "      <th>0</th>\n",
       "      <td>R00001</td>\n",
       "      <td>M</td>\n",
       "      <td>Urban</td>\n",
       "      <td>Working Professional</td>\n",
       "      <td>&lt;10L</td>\n",
       "      <td>3-4 times</td>\n",
       "      <td>Newcomer</td>\n",
       "      <td>Medium (500 ml)</td>\n",
       "      <td>0 to 1</td>\n",
       "      <td>Price</td>\n",
       "      <td>Traditional</td>\n",
       "      <td>Online</td>\n",
       "      <td>Simple</td>\n",
       "      <td>Medium (Moderately health-conscious)</td>\n",
       "      <td>Active (eg. Sports, gym)</td>\n",
       "      <td>100-150</td>\n",
       "      <td>26-35</td>\n",
       "      <td>0.67</td>\n",
       "      <td>3</td>\n",
       "    </tr>\n",
       "    <tr>\n",
       "      <th>1</th>\n",
       "      <td>R00002</td>\n",
       "      <td>F</td>\n",
       "      <td>Metro</td>\n",
       "      <td>Working Professional</td>\n",
       "      <td>&gt; 35L</td>\n",
       "      <td>5-7 times</td>\n",
       "      <td>Established</td>\n",
       "      <td>Medium (500 ml)</td>\n",
       "      <td>2 to 4</td>\n",
       "      <td>Quality</td>\n",
       "      <td>Exotic</td>\n",
       "      <td>Retail Store</td>\n",
       "      <td>Premium</td>\n",
       "      <td>Medium (Moderately health-conscious)</td>\n",
       "      <td>Social (eg. Parties)</td>\n",
       "      <td>200-250</td>\n",
       "      <td>46-55</td>\n",
       "      <td>0.60</td>\n",
       "      <td>20</td>\n",
       "    </tr>\n",
       "    <tr>\n",
       "      <th>2</th>\n",
       "      <td>R00003</td>\n",
       "      <td>F</td>\n",
       "      <td>Rural</td>\n",
       "      <td>Working Professional</td>\n",
       "      <td>&gt; 35L</td>\n",
       "      <td>3-4 times</td>\n",
       "      <td>Newcomer</td>\n",
       "      <td>Medium (500 ml)</td>\n",
       "      <td>2 to 4</td>\n",
       "      <td>Availability</td>\n",
       "      <td>Traditional</td>\n",
       "      <td>Retail Store</td>\n",
       "      <td>Premium</td>\n",
       "      <td>Medium (Moderately health-conscious)</td>\n",
       "      <td>Active (eg. Sports, gym)</td>\n",
       "      <td>200-250</td>\n",
       "      <td>36-45</td>\n",
       "      <td>0.50</td>\n",
       "      <td>5</td>\n",
       "    </tr>\n",
       "    <tr>\n",
       "      <th>3</th>\n",
       "      <td>R00004</td>\n",
       "      <td>F</td>\n",
       "      <td>Urban</td>\n",
       "      <td>Working Professional</td>\n",
       "      <td>16L - 25L</td>\n",
       "      <td>5-7 times</td>\n",
       "      <td>Newcomer</td>\n",
       "      <td>Medium (500 ml)</td>\n",
       "      <td>0 to 1</td>\n",
       "      <td>Brand Reputation</td>\n",
       "      <td>Exotic</td>\n",
       "      <td>Online</td>\n",
       "      <td>Eco-Friendly</td>\n",
       "      <td>Low (Not very concerned)</td>\n",
       "      <td>Active (eg. Sports, gym)</td>\n",
       "      <td>150-200</td>\n",
       "      <td>26-35</td>\n",
       "      <td>0.75</td>\n",
       "      <td>9</td>\n",
       "    </tr>\n",
       "    <tr>\n",
       "      <th>4</th>\n",
       "      <td>R00005</td>\n",
       "      <td>M</td>\n",
       "      <td>Metro</td>\n",
       "      <td>Student</td>\n",
       "      <td>Not Reported</td>\n",
       "      <td>3-4 times</td>\n",
       "      <td>Established</td>\n",
       "      <td>Medium (500 ml)</td>\n",
       "      <td>0 to 1</td>\n",
       "      <td>Availability</td>\n",
       "      <td>Traditional</td>\n",
       "      <td>Online</td>\n",
       "      <td>Premium</td>\n",
       "      <td>Medium (Moderately health-conscious)</td>\n",
       "      <td>Active (eg. Sports, gym)</td>\n",
       "      <td>50-100</td>\n",
       "      <td>18-25</td>\n",
       "      <td>0.67</td>\n",
       "      <td>0</td>\n",
       "    </tr>\n",
       "  </tbody>\n",
       "</table>\n",
       "</div>"
      ],
      "text/plain": [
       "  respondent_id gender   zone            occupation income_levels  \\\n",
       "0        R00001      M  Urban  Working Professional          <10L   \n",
       "1        R00002      F  Metro  Working Professional         > 35L   \n",
       "2        R00003      F  Rural  Working Professional         > 35L   \n",
       "3        R00004      F  Urban  Working Professional     16L - 25L   \n",
       "4        R00005      M  Metro               Student  Not Reported   \n",
       "\n",
       "  consume_frequency(weekly) current_brand preferable_consumption_size  \\\n",
       "0                 3-4 times      Newcomer             Medium (500 ml)   \n",
       "1                 5-7 times   Established             Medium (500 ml)   \n",
       "2                 3-4 times      Newcomer             Medium (500 ml)   \n",
       "3                 5-7 times      Newcomer             Medium (500 ml)   \n",
       "4                 3-4 times   Established             Medium (500 ml)   \n",
       "\n",
       "  awareness_of_other_brands reasons_for_choosing_brands flavor_preference  \\\n",
       "0                    0 to 1                       Price       Traditional   \n",
       "1                    2 to 4                     Quality            Exotic   \n",
       "2                    2 to 4                Availability       Traditional   \n",
       "3                    0 to 1            Brand Reputation            Exotic   \n",
       "4                    0 to 1                Availability       Traditional   \n",
       "\n",
       "  purchase_channel packaging_preference                       health_concerns  \\\n",
       "0           Online               Simple  Medium (Moderately health-conscious)   \n",
       "1     Retail Store              Premium  Medium (Moderately health-conscious)   \n",
       "2     Retail Store              Premium  Medium (Moderately health-conscious)   \n",
       "3           Online         Eco-Friendly              Low (Not very concerned)   \n",
       "4           Online              Premium  Medium (Moderately health-conscious)   \n",
       "\n",
       "  typical_consumption_situations price_range age_group  cf_ab_score  zas_score  \n",
       "0       Active (eg. Sports, gym)     100-150     26-35         0.67          3  \n",
       "1           Social (eg. Parties)     200-250     46-55         0.60         20  \n",
       "2       Active (eg. Sports, gym)     200-250     36-45         0.50          5  \n",
       "3       Active (eg. Sports, gym)     150-200     26-35         0.75          9  \n",
       "4       Active (eg. Sports, gym)      50-100     18-25         0.67          0  "
      ]
     },
     "execution_count": 363,
     "metadata": {},
     "output_type": "execute_result"
    }
   ],
   "source": [
    "df.head()"
   ]
  },
  {
   "cell_type": "code",
   "execution_count": 364,
   "id": "e946de24-2d1b-4068-8019-f976f16a7c00",
   "metadata": {},
   "outputs": [
    {
     "name": "stdout",
     "output_type": "stream",
     "text": [
      "<class 'pandas.core.frame.DataFrame'>\n",
      "Index: 29991 entries, 0 to 30009\n",
      "Data columns (total 19 columns):\n",
      " #   Column                          Non-Null Count  Dtype  \n",
      "---  ------                          --------------  -----  \n",
      " 0   respondent_id                   29991 non-null  object \n",
      " 1   gender                          29991 non-null  object \n",
      " 2   zone                            29991 non-null  object \n",
      " 3   occupation                      29991 non-null  object \n",
      " 4   income_levels                   29991 non-null  object \n",
      " 5   consume_frequency(weekly)       29991 non-null  object \n",
      " 6   current_brand                   29991 non-null  object \n",
      " 7   preferable_consumption_size     29991 non-null  object \n",
      " 8   awareness_of_other_brands       29991 non-null  object \n",
      " 9   reasons_for_choosing_brands     29991 non-null  object \n",
      " 10  flavor_preference               29991 non-null  object \n",
      " 11  purchase_channel                29991 non-null  object \n",
      " 12  packaging_preference            29991 non-null  object \n",
      " 13  health_concerns                 29991 non-null  object \n",
      " 14  typical_consumption_situations  29991 non-null  object \n",
      " 15  price_range                     29991 non-null  object \n",
      " 16  age_group                       29991 non-null  object \n",
      " 17  cf_ab_score                     29991 non-null  float64\n",
      " 18  zas_score                       29991 non-null  int64  \n",
      "dtypes: float64(1), int64(1), object(17)\n",
      "memory usage: 4.6+ MB\n"
     ]
    }
   ],
   "source": [
    "df.info()"
   ]
  },
  {
   "cell_type": "code",
   "execution_count": 365,
   "id": "805e7eb8-ff46-49d7-a41b-2c187463fa60",
   "metadata": {},
   "outputs": [],
   "source": [
    "df[\"bsi\"] = (df[\"current_brand\"].apply(lambda x: False if x == \"Established\"\n",
    "                                      else True) & df[\"reasons_for_choosing_brands\"].apply(lambda x: True if x==\"Price\"\n",
    "                                      else True if x== \"Quality\"\n",
    "                                     else False))"
   ]
  },
  {
   "cell_type": "code",
   "execution_count": 366,
   "id": "978992e8-1ff1-4484-bdd6-85a303677a50",
   "metadata": {},
   "outputs": [
    {
     "data": {
      "text/html": [
       "<div>\n",
       "<style scoped>\n",
       "    .dataframe tbody tr th:only-of-type {\n",
       "        vertical-align: middle;\n",
       "    }\n",
       "\n",
       "    .dataframe tbody tr th {\n",
       "        vertical-align: top;\n",
       "    }\n",
       "\n",
       "    .dataframe thead th {\n",
       "        text-align: right;\n",
       "    }\n",
       "</style>\n",
       "<table border=\"1\" class=\"dataframe\">\n",
       "  <thead>\n",
       "    <tr style=\"text-align: right;\">\n",
       "      <th></th>\n",
       "      <th>respondent_id</th>\n",
       "      <th>gender</th>\n",
       "      <th>zone</th>\n",
       "      <th>occupation</th>\n",
       "      <th>income_levels</th>\n",
       "      <th>consume_frequency(weekly)</th>\n",
       "      <th>current_brand</th>\n",
       "      <th>preferable_consumption_size</th>\n",
       "      <th>awareness_of_other_brands</th>\n",
       "      <th>reasons_for_choosing_brands</th>\n",
       "      <th>flavor_preference</th>\n",
       "      <th>purchase_channel</th>\n",
       "      <th>packaging_preference</th>\n",
       "      <th>health_concerns</th>\n",
       "      <th>typical_consumption_situations</th>\n",
       "      <th>price_range</th>\n",
       "      <th>age_group</th>\n",
       "      <th>cf_ab_score</th>\n",
       "      <th>zas_score</th>\n",
       "      <th>bsi</th>\n",
       "    </tr>\n",
       "  </thead>\n",
       "  <tbody>\n",
       "    <tr>\n",
       "      <th>0</th>\n",
       "      <td>R00001</td>\n",
       "      <td>M</td>\n",
       "      <td>Urban</td>\n",
       "      <td>Working Professional</td>\n",
       "      <td>&lt;10L</td>\n",
       "      <td>3-4 times</td>\n",
       "      <td>Newcomer</td>\n",
       "      <td>Medium (500 ml)</td>\n",
       "      <td>0 to 1</td>\n",
       "      <td>Price</td>\n",
       "      <td>Traditional</td>\n",
       "      <td>Online</td>\n",
       "      <td>Simple</td>\n",
       "      <td>Medium (Moderately health-conscious)</td>\n",
       "      <td>Active (eg. Sports, gym)</td>\n",
       "      <td>100-150</td>\n",
       "      <td>26-35</td>\n",
       "      <td>0.67</td>\n",
       "      <td>3</td>\n",
       "      <td>True</td>\n",
       "    </tr>\n",
       "    <tr>\n",
       "      <th>1</th>\n",
       "      <td>R00002</td>\n",
       "      <td>F</td>\n",
       "      <td>Metro</td>\n",
       "      <td>Working Professional</td>\n",
       "      <td>&gt; 35L</td>\n",
       "      <td>5-7 times</td>\n",
       "      <td>Established</td>\n",
       "      <td>Medium (500 ml)</td>\n",
       "      <td>2 to 4</td>\n",
       "      <td>Quality</td>\n",
       "      <td>Exotic</td>\n",
       "      <td>Retail Store</td>\n",
       "      <td>Premium</td>\n",
       "      <td>Medium (Moderately health-conscious)</td>\n",
       "      <td>Social (eg. Parties)</td>\n",
       "      <td>200-250</td>\n",
       "      <td>46-55</td>\n",
       "      <td>0.60</td>\n",
       "      <td>20</td>\n",
       "      <td>False</td>\n",
       "    </tr>\n",
       "    <tr>\n",
       "      <th>2</th>\n",
       "      <td>R00003</td>\n",
       "      <td>F</td>\n",
       "      <td>Rural</td>\n",
       "      <td>Working Professional</td>\n",
       "      <td>&gt; 35L</td>\n",
       "      <td>3-4 times</td>\n",
       "      <td>Newcomer</td>\n",
       "      <td>Medium (500 ml)</td>\n",
       "      <td>2 to 4</td>\n",
       "      <td>Availability</td>\n",
       "      <td>Traditional</td>\n",
       "      <td>Retail Store</td>\n",
       "      <td>Premium</td>\n",
       "      <td>Medium (Moderately health-conscious)</td>\n",
       "      <td>Active (eg. Sports, gym)</td>\n",
       "      <td>200-250</td>\n",
       "      <td>36-45</td>\n",
       "      <td>0.50</td>\n",
       "      <td>5</td>\n",
       "      <td>False</td>\n",
       "    </tr>\n",
       "    <tr>\n",
       "      <th>3</th>\n",
       "      <td>R00004</td>\n",
       "      <td>F</td>\n",
       "      <td>Urban</td>\n",
       "      <td>Working Professional</td>\n",
       "      <td>16L - 25L</td>\n",
       "      <td>5-7 times</td>\n",
       "      <td>Newcomer</td>\n",
       "      <td>Medium (500 ml)</td>\n",
       "      <td>0 to 1</td>\n",
       "      <td>Brand Reputation</td>\n",
       "      <td>Exotic</td>\n",
       "      <td>Online</td>\n",
       "      <td>Eco-Friendly</td>\n",
       "      <td>Low (Not very concerned)</td>\n",
       "      <td>Active (eg. Sports, gym)</td>\n",
       "      <td>150-200</td>\n",
       "      <td>26-35</td>\n",
       "      <td>0.75</td>\n",
       "      <td>9</td>\n",
       "      <td>False</td>\n",
       "    </tr>\n",
       "    <tr>\n",
       "      <th>4</th>\n",
       "      <td>R00005</td>\n",
       "      <td>M</td>\n",
       "      <td>Metro</td>\n",
       "      <td>Student</td>\n",
       "      <td>Not Reported</td>\n",
       "      <td>3-4 times</td>\n",
       "      <td>Established</td>\n",
       "      <td>Medium (500 ml)</td>\n",
       "      <td>0 to 1</td>\n",
       "      <td>Availability</td>\n",
       "      <td>Traditional</td>\n",
       "      <td>Online</td>\n",
       "      <td>Premium</td>\n",
       "      <td>Medium (Moderately health-conscious)</td>\n",
       "      <td>Active (eg. Sports, gym)</td>\n",
       "      <td>50-100</td>\n",
       "      <td>18-25</td>\n",
       "      <td>0.67</td>\n",
       "      <td>0</td>\n",
       "      <td>False</td>\n",
       "    </tr>\n",
       "  </tbody>\n",
       "</table>\n",
       "</div>"
      ],
      "text/plain": [
       "  respondent_id gender   zone            occupation income_levels  \\\n",
       "0        R00001      M  Urban  Working Professional          <10L   \n",
       "1        R00002      F  Metro  Working Professional         > 35L   \n",
       "2        R00003      F  Rural  Working Professional         > 35L   \n",
       "3        R00004      F  Urban  Working Professional     16L - 25L   \n",
       "4        R00005      M  Metro               Student  Not Reported   \n",
       "\n",
       "  consume_frequency(weekly) current_brand preferable_consumption_size  \\\n",
       "0                 3-4 times      Newcomer             Medium (500 ml)   \n",
       "1                 5-7 times   Established             Medium (500 ml)   \n",
       "2                 3-4 times      Newcomer             Medium (500 ml)   \n",
       "3                 5-7 times      Newcomer             Medium (500 ml)   \n",
       "4                 3-4 times   Established             Medium (500 ml)   \n",
       "\n",
       "  awareness_of_other_brands reasons_for_choosing_brands flavor_preference  \\\n",
       "0                    0 to 1                       Price       Traditional   \n",
       "1                    2 to 4                     Quality            Exotic   \n",
       "2                    2 to 4                Availability       Traditional   \n",
       "3                    0 to 1            Brand Reputation            Exotic   \n",
       "4                    0 to 1                Availability       Traditional   \n",
       "\n",
       "  purchase_channel packaging_preference                       health_concerns  \\\n",
       "0           Online               Simple  Medium (Moderately health-conscious)   \n",
       "1     Retail Store              Premium  Medium (Moderately health-conscious)   \n",
       "2     Retail Store              Premium  Medium (Moderately health-conscious)   \n",
       "3           Online         Eco-Friendly              Low (Not very concerned)   \n",
       "4           Online              Premium  Medium (Moderately health-conscious)   \n",
       "\n",
       "  typical_consumption_situations price_range age_group  cf_ab_score  \\\n",
       "0       Active (eg. Sports, gym)     100-150     26-35         0.67   \n",
       "1           Social (eg. Parties)     200-250     46-55         0.60   \n",
       "2       Active (eg. Sports, gym)     200-250     36-45         0.50   \n",
       "3       Active (eg. Sports, gym)     150-200     26-35         0.75   \n",
       "4       Active (eg. Sports, gym)      50-100     18-25         0.67   \n",
       "\n",
       "   zas_score    bsi  \n",
       "0          3   True  \n",
       "1         20  False  \n",
       "2          5  False  \n",
       "3          9  False  \n",
       "4          0  False  "
      ]
     },
     "execution_count": 366,
     "metadata": {},
     "output_type": "execute_result"
    }
   ],
   "source": [
    "df.head()"
   ]
  },
  {
   "cell_type": "code",
   "execution_count": 367,
   "id": "f98c2cc3-d07c-4857-8a57-b18274a9ac3d",
   "metadata": {},
   "outputs": [
    {
     "data": {
      "text/plain": [
       "14"
      ]
     },
     "execution_count": 367,
     "metadata": {},
     "output_type": "execute_result"
    }
   ],
   "source": [
    "df[\"zas_score\"].nunique()"
   ]
  },
  {
   "cell_type": "code",
   "execution_count": 368,
   "id": "e126d05a-330a-45ab-bbf5-e66292ae2507",
   "metadata": {},
   "outputs": [
    {
     "data": {
      "text/html": [
       "<div>\n",
       "<style scoped>\n",
       "    .dataframe tbody tr th:only-of-type {\n",
       "        vertical-align: middle;\n",
       "    }\n",
       "\n",
       "    .dataframe tbody tr th {\n",
       "        vertical-align: top;\n",
       "    }\n",
       "\n",
       "    .dataframe thead th {\n",
       "        text-align: right;\n",
       "    }\n",
       "</style>\n",
       "<table border=\"1\" class=\"dataframe\">\n",
       "  <thead>\n",
       "    <tr style=\"text-align: right;\">\n",
       "      <th>occupation</th>\n",
       "      <th>Entrepreneur</th>\n",
       "      <th>Retired</th>\n",
       "      <th>Student</th>\n",
       "      <th>Working Professional</th>\n",
       "    </tr>\n",
       "    <tr>\n",
       "      <th>age_group</th>\n",
       "      <th></th>\n",
       "      <th></th>\n",
       "      <th></th>\n",
       "      <th></th>\n",
       "    </tr>\n",
       "  </thead>\n",
       "  <tbody>\n",
       "    <tr>\n",
       "      <th>18-25</th>\n",
       "      <td>535</td>\n",
       "      <td>0</td>\n",
       "      <td>7328</td>\n",
       "      <td>2605</td>\n",
       "    </tr>\n",
       "    <tr>\n",
       "      <th>26-35</th>\n",
       "      <td>1826</td>\n",
       "      <td>0</td>\n",
       "      <td>697</td>\n",
       "      <td>6570</td>\n",
       "    </tr>\n",
       "    <tr>\n",
       "      <th>36-45</th>\n",
       "      <td>1619</td>\n",
       "      <td>0</td>\n",
       "      <td>0</td>\n",
       "      <td>4353</td>\n",
       "    </tr>\n",
       "    <tr>\n",
       "      <th>46-55</th>\n",
       "      <td>799</td>\n",
       "      <td>0</td>\n",
       "      <td>0</td>\n",
       "      <td>2167</td>\n",
       "    </tr>\n",
       "    <tr>\n",
       "      <th>56-70</th>\n",
       "      <td>221</td>\n",
       "      <td>1130</td>\n",
       "      <td>35</td>\n",
       "      <td>106</td>\n",
       "    </tr>\n",
       "  </tbody>\n",
       "</table>\n",
       "</div>"
      ],
      "text/plain": [
       "occupation  Entrepreneur  Retired  Student  Working Professional\n",
       "age_group                                                       \n",
       "18-25                535        0     7328                  2605\n",
       "26-35               1826        0      697                  6570\n",
       "36-45               1619        0        0                  4353\n",
       "46-55                799        0        0                  2167\n",
       "56-70                221     1130       35                   106"
      ]
     },
     "execution_count": 368,
     "metadata": {},
     "output_type": "execute_result"
    }
   ],
   "source": [
    "pd.crosstab(df[\"age_group\"], df[\"occupation\"])"
   ]
  },
  {
   "cell_type": "code",
   "execution_count": 369,
   "id": "69c6ef8f-71e0-4ce0-9e2e-b458ca93c724",
   "metadata": {},
   "outputs": [
    {
     "data": {
      "text/html": [
       "<div>\n",
       "<style scoped>\n",
       "    .dataframe tbody tr th:only-of-type {\n",
       "        vertical-align: middle;\n",
       "    }\n",
       "\n",
       "    .dataframe tbody tr th {\n",
       "        vertical-align: top;\n",
       "    }\n",
       "\n",
       "    .dataframe thead th {\n",
       "        text-align: right;\n",
       "    }\n",
       "</style>\n",
       "<table border=\"1\" class=\"dataframe\">\n",
       "  <thead>\n",
       "    <tr style=\"text-align: right;\">\n",
       "      <th>income_levels</th>\n",
       "      <th>10L - 15L</th>\n",
       "      <th>16L - 25L</th>\n",
       "      <th>26L - 35L</th>\n",
       "      <th>&lt;10L</th>\n",
       "      <th>&gt; 35L</th>\n",
       "      <th>Not Reported</th>\n",
       "    </tr>\n",
       "    <tr>\n",
       "      <th>occupation</th>\n",
       "      <th></th>\n",
       "      <th></th>\n",
       "      <th></th>\n",
       "      <th></th>\n",
       "      <th></th>\n",
       "      <th></th>\n",
       "    </tr>\n",
       "  </thead>\n",
       "  <tbody>\n",
       "    <tr>\n",
       "      <th>Entrepreneur</th>\n",
       "      <td>1246</td>\n",
       "      <td>1392</td>\n",
       "      <td>1076</td>\n",
       "      <td>710</td>\n",
       "      <td>576</td>\n",
       "      <td>0</td>\n",
       "    </tr>\n",
       "    <tr>\n",
       "      <th>Retired</th>\n",
       "      <td>221</td>\n",
       "      <td>119</td>\n",
       "      <td>0</td>\n",
       "      <td>790</td>\n",
       "      <td>0</td>\n",
       "      <td>0</td>\n",
       "    </tr>\n",
       "    <tr>\n",
       "      <th>Student</th>\n",
       "      <td>0</td>\n",
       "      <td>0</td>\n",
       "      <td>0</td>\n",
       "      <td>0</td>\n",
       "      <td>0</td>\n",
       "      <td>8060</td>\n",
       "    </tr>\n",
       "    <tr>\n",
       "      <th>Working Professional</th>\n",
       "      <td>3784</td>\n",
       "      <td>4386</td>\n",
       "      <td>2796</td>\n",
       "      <td>3161</td>\n",
       "      <td>1674</td>\n",
       "      <td>0</td>\n",
       "    </tr>\n",
       "  </tbody>\n",
       "</table>\n",
       "</div>"
      ],
      "text/plain": [
       "income_levels         10L - 15L  16L - 25L  26L - 35L  <10L  > 35L  \\\n",
       "occupation                                                           \n",
       "Entrepreneur               1246       1392       1076   710    576   \n",
       "Retired                     221        119          0   790      0   \n",
       "Student                       0          0          0     0      0   \n",
       "Working Professional       3784       4386       2796  3161   1674   \n",
       "\n",
       "income_levels         Not Reported  \n",
       "occupation                          \n",
       "Entrepreneur                     0  \n",
       "Retired                          0  \n",
       "Student                       8060  \n",
       "Working Professional             0  "
      ]
     },
     "execution_count": 369,
     "metadata": {},
     "output_type": "execute_result"
    }
   ],
   "source": [
    "pd.crosstab(df[\"occupation\"], df[\"income_levels\"])"
   ]
  },
  {
   "cell_type": "code",
   "execution_count": 370,
   "id": "8dbab2b2-58ec-401c-bb63-a025e5fb18f9",
   "metadata": {},
   "outputs": [
    {
     "data": {
      "text/html": [
       "<div>\n",
       "<style scoped>\n",
       "    .dataframe tbody tr th:only-of-type {\n",
       "        vertical-align: middle;\n",
       "    }\n",
       "\n",
       "    .dataframe tbody tr th {\n",
       "        vertical-align: top;\n",
       "    }\n",
       "\n",
       "    .dataframe thead th {\n",
       "        text-align: right;\n",
       "    }\n",
       "</style>\n",
       "<table border=\"1\" class=\"dataframe\">\n",
       "  <thead>\n",
       "    <tr style=\"text-align: right;\">\n",
       "      <th>consume_frequency(weekly)</th>\n",
       "      <th>0-2 times</th>\n",
       "      <th>3-4 times</th>\n",
       "      <th>5-7 times</th>\n",
       "    </tr>\n",
       "    <tr>\n",
       "      <th>income_levels</th>\n",
       "      <th></th>\n",
       "      <th></th>\n",
       "      <th></th>\n",
       "    </tr>\n",
       "  </thead>\n",
       "  <tbody>\n",
       "    <tr>\n",
       "      <th>10L - 15L</th>\n",
       "      <td>1475</td>\n",
       "      <td>2123</td>\n",
       "      <td>1653</td>\n",
       "    </tr>\n",
       "    <tr>\n",
       "      <th>16L - 25L</th>\n",
       "      <td>1668</td>\n",
       "      <td>2343</td>\n",
       "      <td>1886</td>\n",
       "    </tr>\n",
       "    <tr>\n",
       "      <th>26L - 35L</th>\n",
       "      <td>800</td>\n",
       "      <td>1437</td>\n",
       "      <td>1635</td>\n",
       "    </tr>\n",
       "    <tr>\n",
       "      <th>&lt;10L</th>\n",
       "      <td>1474</td>\n",
       "      <td>1815</td>\n",
       "      <td>1372</td>\n",
       "    </tr>\n",
       "    <tr>\n",
       "      <th>&gt; 35L</th>\n",
       "      <td>568</td>\n",
       "      <td>885</td>\n",
       "      <td>797</td>\n",
       "    </tr>\n",
       "    <tr>\n",
       "      <th>Not Reported</th>\n",
       "      <td>2438</td>\n",
       "      <td>3191</td>\n",
       "      <td>2431</td>\n",
       "    </tr>\n",
       "  </tbody>\n",
       "</table>\n",
       "</div>"
      ],
      "text/plain": [
       "consume_frequency(weekly)  0-2 times  3-4 times  5-7 times\n",
       "income_levels                                             \n",
       "10L - 15L                       1475       2123       1653\n",
       "16L - 25L                       1668       2343       1886\n",
       "26L - 35L                        800       1437       1635\n",
       "<10L                            1474       1815       1372\n",
       "> 35L                            568        885        797\n",
       "Not Reported                    2438       3191       2431"
      ]
     },
     "execution_count": 370,
     "metadata": {},
     "output_type": "execute_result"
    }
   ],
   "source": [
    "pd.crosstab(df[\"income_levels\"], df[\"consume_frequency(weekly)\"])"
   ]
  },
  {
   "cell_type": "code",
   "execution_count": 371,
   "id": "af6e3ebc-404d-4969-b824-6cc35bfc4bfc",
   "metadata": {},
   "outputs": [
    {
     "data": {
      "text/html": [
       "<div>\n",
       "<style scoped>\n",
       "    .dataframe tbody tr th:only-of-type {\n",
       "        vertical-align: middle;\n",
       "    }\n",
       "\n",
       "    .dataframe tbody tr th {\n",
       "        vertical-align: top;\n",
       "    }\n",
       "\n",
       "    .dataframe thead th {\n",
       "        text-align: right;\n",
       "    }\n",
       "</style>\n",
       "<table border=\"1\" class=\"dataframe\">\n",
       "  <thead>\n",
       "    <tr style=\"text-align: right;\">\n",
       "      <th>purchase_channel</th>\n",
       "      <th>Online</th>\n",
       "      <th>Retail Store</th>\n",
       "    </tr>\n",
       "    <tr>\n",
       "      <th>income_levels</th>\n",
       "      <th></th>\n",
       "      <th></th>\n",
       "    </tr>\n",
       "  </thead>\n",
       "  <tbody>\n",
       "    <tr>\n",
       "      <th>10L - 15L</th>\n",
       "      <td>2694</td>\n",
       "      <td>2557</td>\n",
       "    </tr>\n",
       "    <tr>\n",
       "      <th>16L - 25L</th>\n",
       "      <td>2949</td>\n",
       "      <td>2948</td>\n",
       "    </tr>\n",
       "    <tr>\n",
       "      <th>26L - 35L</th>\n",
       "      <td>2359</td>\n",
       "      <td>1513</td>\n",
       "    </tr>\n",
       "    <tr>\n",
       "      <th>&lt;10L</th>\n",
       "      <td>2398</td>\n",
       "      <td>2263</td>\n",
       "    </tr>\n",
       "    <tr>\n",
       "      <th>&gt; 35L</th>\n",
       "      <td>1265</td>\n",
       "      <td>985</td>\n",
       "    </tr>\n",
       "    <tr>\n",
       "      <th>Not Reported</th>\n",
       "      <td>4907</td>\n",
       "      <td>3153</td>\n",
       "    </tr>\n",
       "  </tbody>\n",
       "</table>\n",
       "</div>"
      ],
      "text/plain": [
       "purchase_channel  Online  Retail Store\n",
       "income_levels                         \n",
       "10L - 15L           2694          2557\n",
       "16L - 25L           2949          2948\n",
       "26L - 35L           2359          1513\n",
       "<10L                2398          2263\n",
       "> 35L               1265           985\n",
       "Not Reported        4907          3153"
      ]
     },
     "execution_count": 371,
     "metadata": {},
     "output_type": "execute_result"
    }
   ],
   "source": [
    "pd.crosstab(df[\"income_levels\"], df[\"purchase_channel\"])"
   ]
  },
  {
   "cell_type": "markdown",
   "id": "b103661e-abd3-4bea-abee-3d98b6048804",
   "metadata": {},
   "source": [
    "<h4 style=\"color:blue;\">Removed logical outliers</h2>"
   ]
  },
  {
   "cell_type": "code",
   "execution_count": 372,
   "id": "8e7412ac-9c3c-4e4d-839b-64844cef59ea",
   "metadata": {},
   "outputs": [],
   "source": [
    "df = df.loc[~((df[\"age_group\"] == \"56-70\") & (df[\"occupation\"] == \"Student\"))]"
   ]
  },
  {
   "cell_type": "code",
   "execution_count": 373,
   "id": "cd1b75c0-db62-4feb-a08b-1ca6a9c2426e",
   "metadata": {},
   "outputs": [
    {
     "data": {
      "text/html": [
       "<div>\n",
       "<style scoped>\n",
       "    .dataframe tbody tr th:only-of-type {\n",
       "        vertical-align: middle;\n",
       "    }\n",
       "\n",
       "    .dataframe tbody tr th {\n",
       "        vertical-align: top;\n",
       "    }\n",
       "\n",
       "    .dataframe thead th {\n",
       "        text-align: right;\n",
       "    }\n",
       "</style>\n",
       "<table border=\"1\" class=\"dataframe\">\n",
       "  <thead>\n",
       "    <tr style=\"text-align: right;\">\n",
       "      <th></th>\n",
       "      <th>respondent_id</th>\n",
       "      <th>gender</th>\n",
       "      <th>zone</th>\n",
       "      <th>occupation</th>\n",
       "      <th>income_levels</th>\n",
       "      <th>consume_frequency(weekly)</th>\n",
       "      <th>current_brand</th>\n",
       "      <th>preferable_consumption_size</th>\n",
       "      <th>awareness_of_other_brands</th>\n",
       "      <th>reasons_for_choosing_brands</th>\n",
       "      <th>flavor_preference</th>\n",
       "      <th>purchase_channel</th>\n",
       "      <th>packaging_preference</th>\n",
       "      <th>health_concerns</th>\n",
       "      <th>typical_consumption_situations</th>\n",
       "      <th>price_range</th>\n",
       "      <th>age_group</th>\n",
       "      <th>cf_ab_score</th>\n",
       "      <th>zas_score</th>\n",
       "      <th>bsi</th>\n",
       "    </tr>\n",
       "  </thead>\n",
       "  <tbody>\n",
       "    <tr>\n",
       "      <th>0</th>\n",
       "      <td>R00001</td>\n",
       "      <td>M</td>\n",
       "      <td>Urban</td>\n",
       "      <td>Working Professional</td>\n",
       "      <td>&lt;10L</td>\n",
       "      <td>3-4 times</td>\n",
       "      <td>Newcomer</td>\n",
       "      <td>Medium (500 ml)</td>\n",
       "      <td>0 to 1</td>\n",
       "      <td>Price</td>\n",
       "      <td>Traditional</td>\n",
       "      <td>Online</td>\n",
       "      <td>Simple</td>\n",
       "      <td>Medium (Moderately health-conscious)</td>\n",
       "      <td>Active (eg. Sports, gym)</td>\n",
       "      <td>100-150</td>\n",
       "      <td>26-35</td>\n",
       "      <td>0.67</td>\n",
       "      <td>3</td>\n",
       "      <td>True</td>\n",
       "    </tr>\n",
       "    <tr>\n",
       "      <th>1</th>\n",
       "      <td>R00002</td>\n",
       "      <td>F</td>\n",
       "      <td>Metro</td>\n",
       "      <td>Working Professional</td>\n",
       "      <td>&gt; 35L</td>\n",
       "      <td>5-7 times</td>\n",
       "      <td>Established</td>\n",
       "      <td>Medium (500 ml)</td>\n",
       "      <td>2 to 4</td>\n",
       "      <td>Quality</td>\n",
       "      <td>Exotic</td>\n",
       "      <td>Retail Store</td>\n",
       "      <td>Premium</td>\n",
       "      <td>Medium (Moderately health-conscious)</td>\n",
       "      <td>Social (eg. Parties)</td>\n",
       "      <td>200-250</td>\n",
       "      <td>46-55</td>\n",
       "      <td>0.60</td>\n",
       "      <td>20</td>\n",
       "      <td>False</td>\n",
       "    </tr>\n",
       "    <tr>\n",
       "      <th>2</th>\n",
       "      <td>R00003</td>\n",
       "      <td>F</td>\n",
       "      <td>Rural</td>\n",
       "      <td>Working Professional</td>\n",
       "      <td>&gt; 35L</td>\n",
       "      <td>3-4 times</td>\n",
       "      <td>Newcomer</td>\n",
       "      <td>Medium (500 ml)</td>\n",
       "      <td>2 to 4</td>\n",
       "      <td>Availability</td>\n",
       "      <td>Traditional</td>\n",
       "      <td>Retail Store</td>\n",
       "      <td>Premium</td>\n",
       "      <td>Medium (Moderately health-conscious)</td>\n",
       "      <td>Active (eg. Sports, gym)</td>\n",
       "      <td>200-250</td>\n",
       "      <td>36-45</td>\n",
       "      <td>0.50</td>\n",
       "      <td>5</td>\n",
       "      <td>False</td>\n",
       "    </tr>\n",
       "    <tr>\n",
       "      <th>3</th>\n",
       "      <td>R00004</td>\n",
       "      <td>F</td>\n",
       "      <td>Urban</td>\n",
       "      <td>Working Professional</td>\n",
       "      <td>16L - 25L</td>\n",
       "      <td>5-7 times</td>\n",
       "      <td>Newcomer</td>\n",
       "      <td>Medium (500 ml)</td>\n",
       "      <td>0 to 1</td>\n",
       "      <td>Brand Reputation</td>\n",
       "      <td>Exotic</td>\n",
       "      <td>Online</td>\n",
       "      <td>Eco-Friendly</td>\n",
       "      <td>Low (Not very concerned)</td>\n",
       "      <td>Active (eg. Sports, gym)</td>\n",
       "      <td>150-200</td>\n",
       "      <td>26-35</td>\n",
       "      <td>0.75</td>\n",
       "      <td>9</td>\n",
       "      <td>False</td>\n",
       "    </tr>\n",
       "    <tr>\n",
       "      <th>4</th>\n",
       "      <td>R00005</td>\n",
       "      <td>M</td>\n",
       "      <td>Metro</td>\n",
       "      <td>Student</td>\n",
       "      <td>Not Reported</td>\n",
       "      <td>3-4 times</td>\n",
       "      <td>Established</td>\n",
       "      <td>Medium (500 ml)</td>\n",
       "      <td>0 to 1</td>\n",
       "      <td>Availability</td>\n",
       "      <td>Traditional</td>\n",
       "      <td>Online</td>\n",
       "      <td>Premium</td>\n",
       "      <td>Medium (Moderately health-conscious)</td>\n",
       "      <td>Active (eg. Sports, gym)</td>\n",
       "      <td>50-100</td>\n",
       "      <td>18-25</td>\n",
       "      <td>0.67</td>\n",
       "      <td>0</td>\n",
       "      <td>False</td>\n",
       "    </tr>\n",
       "  </tbody>\n",
       "</table>\n",
       "</div>"
      ],
      "text/plain": [
       "  respondent_id gender   zone            occupation income_levels  \\\n",
       "0        R00001      M  Urban  Working Professional          <10L   \n",
       "1        R00002      F  Metro  Working Professional         > 35L   \n",
       "2        R00003      F  Rural  Working Professional         > 35L   \n",
       "3        R00004      F  Urban  Working Professional     16L - 25L   \n",
       "4        R00005      M  Metro               Student  Not Reported   \n",
       "\n",
       "  consume_frequency(weekly) current_brand preferable_consumption_size  \\\n",
       "0                 3-4 times      Newcomer             Medium (500 ml)   \n",
       "1                 5-7 times   Established             Medium (500 ml)   \n",
       "2                 3-4 times      Newcomer             Medium (500 ml)   \n",
       "3                 5-7 times      Newcomer             Medium (500 ml)   \n",
       "4                 3-4 times   Established             Medium (500 ml)   \n",
       "\n",
       "  awareness_of_other_brands reasons_for_choosing_brands flavor_preference  \\\n",
       "0                    0 to 1                       Price       Traditional   \n",
       "1                    2 to 4                     Quality            Exotic   \n",
       "2                    2 to 4                Availability       Traditional   \n",
       "3                    0 to 1            Brand Reputation            Exotic   \n",
       "4                    0 to 1                Availability       Traditional   \n",
       "\n",
       "  purchase_channel packaging_preference                       health_concerns  \\\n",
       "0           Online               Simple  Medium (Moderately health-conscious)   \n",
       "1     Retail Store              Premium  Medium (Moderately health-conscious)   \n",
       "2     Retail Store              Premium  Medium (Moderately health-conscious)   \n",
       "3           Online         Eco-Friendly              Low (Not very concerned)   \n",
       "4           Online              Premium  Medium (Moderately health-conscious)   \n",
       "\n",
       "  typical_consumption_situations price_range age_group  cf_ab_score  \\\n",
       "0       Active (eg. Sports, gym)     100-150     26-35         0.67   \n",
       "1           Social (eg. Parties)     200-250     46-55         0.60   \n",
       "2       Active (eg. Sports, gym)     200-250     36-45         0.50   \n",
       "3       Active (eg. Sports, gym)     150-200     26-35         0.75   \n",
       "4       Active (eg. Sports, gym)      50-100     18-25         0.67   \n",
       "\n",
       "   zas_score    bsi  \n",
       "0          3   True  \n",
       "1         20  False  \n",
       "2          5  False  \n",
       "3          9  False  \n",
       "4          0  False  "
      ]
     },
     "execution_count": 373,
     "metadata": {},
     "output_type": "execute_result"
    }
   ],
   "source": [
    "df.head()"
   ]
  },
  {
   "cell_type": "code",
   "execution_count": 374,
   "id": "83c050bb-a477-41eb-ba07-910fecb8b513",
   "metadata": {},
   "outputs": [
    {
     "data": {
      "text/plain": [
       "0.75"
      ]
     },
     "execution_count": 374,
     "metadata": {},
     "output_type": "execute_result"
    }
   ],
   "source": [
    "df[\"cf_ab_score\"].max()"
   ]
  },
  {
   "cell_type": "code",
   "execution_count": 375,
   "id": "4bbe05d1-1842-4b7c-ba2b-d98187396956",
   "metadata": {},
   "outputs": [
    {
     "data": {
      "text/plain": [
       "14"
      ]
     },
     "execution_count": 375,
     "metadata": {},
     "output_type": "execute_result"
    }
   ],
   "source": [
    "df[\"zas_score\"].nunique()"
   ]
  },
  {
   "cell_type": "code",
   "execution_count": 376,
   "id": "440d5221-40e4-45b1-9b95-a5a964bb5407",
   "metadata": {},
   "outputs": [
    {
     "data": {
      "text/plain": [
       "(29956, 20)"
      ]
     },
     "execution_count": 376,
     "metadata": {},
     "output_type": "execute_result"
    }
   ],
   "source": [
    "df.shape"
   ]
  },
  {
   "cell_type": "code",
   "execution_count": 377,
   "id": "a6583113-aecd-473c-9fe2-c11fb7b0d9e2",
   "metadata": {},
   "outputs": [
    {
     "data": {
      "text/plain": [
       "(20796, 20)"
      ]
     },
     "execution_count": 377,
     "metadata": {},
     "output_type": "execute_result"
    }
   ],
   "source": [
    "df[df[\"bsi\"]==0].shape"
   ]
  },
  {
   "cell_type": "markdown",
   "id": "de81f148-066e-405a-8b8d-3f3023e6bd1f",
   "metadata": {},
   "source": [
    "<h1 style=\"color:blue; text-align:center;\">Predictive Modelling</h2>"
   ]
  },
  {
   "cell_type": "code",
   "execution_count": 378,
   "id": "bd447156-102d-4512-a036-41fef939f748",
   "metadata": {},
   "outputs": [],
   "source": [
    "from sklearn.model_selection import train_test_split\n",
    "from sklearn.metrics import accuracy_score, confusion_matrix, classification_report\n",
    "from sklearn.naive_bayes import GaussianNB\n",
    "from sklearn.linear_model import LogisticRegression\n",
    "from sklearn.svm import SVC\n",
    "from sklearn.ensemble import RandomForestClassifier\n",
    "from xgboost import XGBClassifier\n",
    "from lightgbm import LGBMClassifier"
   ]
  },
  {
   "cell_type": "code",
   "execution_count": 379,
   "id": "b90030f1-9e8d-4157-b85c-2d7988aed0f2",
   "metadata": {},
   "outputs": [],
   "source": [
    "from sklearn.preprocessing import LabelEncoder"
   ]
  },
  {
   "cell_type": "markdown",
   "id": "4e175dfd-7579-44b3-ba70-8094a4cf05ad",
   "metadata": {},
   "source": [
    "<h4 style=\"color:blue;\">Preparing Feature Matrix and Target Variable</h2>"
   ]
  },
  {
   "cell_type": "code",
   "execution_count": 380,
   "id": "a7507a0f-fdb8-4f33-9fa9-fe91082d2dda",
   "metadata": {},
   "outputs": [],
   "source": [
    "y = df[\"price_range\"]\n",
    "X = df.drop(columns=[\"price_range\", \"respondent_id\"])"
   ]
  },
  {
   "cell_type": "code",
   "execution_count": 381,
   "id": "332e90ee-2975-4f50-99bf-fda0ccf02582",
   "metadata": {},
   "outputs": [
    {
     "data": {
      "text/html": [
       "<div>\n",
       "<style scoped>\n",
       "    .dataframe tbody tr th:only-of-type {\n",
       "        vertical-align: middle;\n",
       "    }\n",
       "\n",
       "    .dataframe tbody tr th {\n",
       "        vertical-align: top;\n",
       "    }\n",
       "\n",
       "    .dataframe thead th {\n",
       "        text-align: right;\n",
       "    }\n",
       "</style>\n",
       "<table border=\"1\" class=\"dataframe\">\n",
       "  <thead>\n",
       "    <tr style=\"text-align: right;\">\n",
       "      <th></th>\n",
       "      <th>gender</th>\n",
       "      <th>zone</th>\n",
       "      <th>occupation</th>\n",
       "      <th>income_levels</th>\n",
       "      <th>consume_frequency(weekly)</th>\n",
       "      <th>current_brand</th>\n",
       "      <th>preferable_consumption_size</th>\n",
       "      <th>awareness_of_other_brands</th>\n",
       "      <th>reasons_for_choosing_brands</th>\n",
       "      <th>flavor_preference</th>\n",
       "      <th>purchase_channel</th>\n",
       "      <th>packaging_preference</th>\n",
       "      <th>health_concerns</th>\n",
       "      <th>typical_consumption_situations</th>\n",
       "      <th>age_group</th>\n",
       "      <th>cf_ab_score</th>\n",
       "      <th>zas_score</th>\n",
       "      <th>bsi</th>\n",
       "    </tr>\n",
       "  </thead>\n",
       "  <tbody>\n",
       "    <tr>\n",
       "      <th>0</th>\n",
       "      <td>M</td>\n",
       "      <td>Urban</td>\n",
       "      <td>Working Professional</td>\n",
       "      <td>&lt;10L</td>\n",
       "      <td>3-4 times</td>\n",
       "      <td>Newcomer</td>\n",
       "      <td>Medium (500 ml)</td>\n",
       "      <td>0 to 1</td>\n",
       "      <td>Price</td>\n",
       "      <td>Traditional</td>\n",
       "      <td>Online</td>\n",
       "      <td>Simple</td>\n",
       "      <td>Medium (Moderately health-conscious)</td>\n",
       "      <td>Active (eg. Sports, gym)</td>\n",
       "      <td>26-35</td>\n",
       "      <td>0.67</td>\n",
       "      <td>3</td>\n",
       "      <td>True</td>\n",
       "    </tr>\n",
       "    <tr>\n",
       "      <th>1</th>\n",
       "      <td>F</td>\n",
       "      <td>Metro</td>\n",
       "      <td>Working Professional</td>\n",
       "      <td>&gt; 35L</td>\n",
       "      <td>5-7 times</td>\n",
       "      <td>Established</td>\n",
       "      <td>Medium (500 ml)</td>\n",
       "      <td>2 to 4</td>\n",
       "      <td>Quality</td>\n",
       "      <td>Exotic</td>\n",
       "      <td>Retail Store</td>\n",
       "      <td>Premium</td>\n",
       "      <td>Medium (Moderately health-conscious)</td>\n",
       "      <td>Social (eg. Parties)</td>\n",
       "      <td>46-55</td>\n",
       "      <td>0.60</td>\n",
       "      <td>20</td>\n",
       "      <td>False</td>\n",
       "    </tr>\n",
       "    <tr>\n",
       "      <th>2</th>\n",
       "      <td>F</td>\n",
       "      <td>Rural</td>\n",
       "      <td>Working Professional</td>\n",
       "      <td>&gt; 35L</td>\n",
       "      <td>3-4 times</td>\n",
       "      <td>Newcomer</td>\n",
       "      <td>Medium (500 ml)</td>\n",
       "      <td>2 to 4</td>\n",
       "      <td>Availability</td>\n",
       "      <td>Traditional</td>\n",
       "      <td>Retail Store</td>\n",
       "      <td>Premium</td>\n",
       "      <td>Medium (Moderately health-conscious)</td>\n",
       "      <td>Active (eg. Sports, gym)</td>\n",
       "      <td>36-45</td>\n",
       "      <td>0.50</td>\n",
       "      <td>5</td>\n",
       "      <td>False</td>\n",
       "    </tr>\n",
       "    <tr>\n",
       "      <th>3</th>\n",
       "      <td>F</td>\n",
       "      <td>Urban</td>\n",
       "      <td>Working Professional</td>\n",
       "      <td>16L - 25L</td>\n",
       "      <td>5-7 times</td>\n",
       "      <td>Newcomer</td>\n",
       "      <td>Medium (500 ml)</td>\n",
       "      <td>0 to 1</td>\n",
       "      <td>Brand Reputation</td>\n",
       "      <td>Exotic</td>\n",
       "      <td>Online</td>\n",
       "      <td>Eco-Friendly</td>\n",
       "      <td>Low (Not very concerned)</td>\n",
       "      <td>Active (eg. Sports, gym)</td>\n",
       "      <td>26-35</td>\n",
       "      <td>0.75</td>\n",
       "      <td>9</td>\n",
       "      <td>False</td>\n",
       "    </tr>\n",
       "    <tr>\n",
       "      <th>4</th>\n",
       "      <td>M</td>\n",
       "      <td>Metro</td>\n",
       "      <td>Student</td>\n",
       "      <td>Not Reported</td>\n",
       "      <td>3-4 times</td>\n",
       "      <td>Established</td>\n",
       "      <td>Medium (500 ml)</td>\n",
       "      <td>0 to 1</td>\n",
       "      <td>Availability</td>\n",
       "      <td>Traditional</td>\n",
       "      <td>Online</td>\n",
       "      <td>Premium</td>\n",
       "      <td>Medium (Moderately health-conscious)</td>\n",
       "      <td>Active (eg. Sports, gym)</td>\n",
       "      <td>18-25</td>\n",
       "      <td>0.67</td>\n",
       "      <td>0</td>\n",
       "      <td>False</td>\n",
       "    </tr>\n",
       "  </tbody>\n",
       "</table>\n",
       "</div>"
      ],
      "text/plain": [
       "  gender   zone            occupation income_levels consume_frequency(weekly)  \\\n",
       "0      M  Urban  Working Professional          <10L                 3-4 times   \n",
       "1      F  Metro  Working Professional         > 35L                 5-7 times   \n",
       "2      F  Rural  Working Professional         > 35L                 3-4 times   \n",
       "3      F  Urban  Working Professional     16L - 25L                 5-7 times   \n",
       "4      M  Metro               Student  Not Reported                 3-4 times   \n",
       "\n",
       "  current_brand preferable_consumption_size awareness_of_other_brands  \\\n",
       "0      Newcomer             Medium (500 ml)                    0 to 1   \n",
       "1   Established             Medium (500 ml)                    2 to 4   \n",
       "2      Newcomer             Medium (500 ml)                    2 to 4   \n",
       "3      Newcomer             Medium (500 ml)                    0 to 1   \n",
       "4   Established             Medium (500 ml)                    0 to 1   \n",
       "\n",
       "  reasons_for_choosing_brands flavor_preference purchase_channel  \\\n",
       "0                       Price       Traditional           Online   \n",
       "1                     Quality            Exotic     Retail Store   \n",
       "2                Availability       Traditional     Retail Store   \n",
       "3            Brand Reputation            Exotic           Online   \n",
       "4                Availability       Traditional           Online   \n",
       "\n",
       "  packaging_preference                       health_concerns  \\\n",
       "0               Simple  Medium (Moderately health-conscious)   \n",
       "1              Premium  Medium (Moderately health-conscious)   \n",
       "2              Premium  Medium (Moderately health-conscious)   \n",
       "3         Eco-Friendly              Low (Not very concerned)   \n",
       "4              Premium  Medium (Moderately health-conscious)   \n",
       "\n",
       "  typical_consumption_situations age_group  cf_ab_score  zas_score    bsi  \n",
       "0       Active (eg. Sports, gym)     26-35         0.67          3   True  \n",
       "1           Social (eg. Parties)     46-55         0.60         20  False  \n",
       "2       Active (eg. Sports, gym)     36-45         0.50          5  False  \n",
       "3       Active (eg. Sports, gym)     26-35         0.75          9  False  \n",
       "4       Active (eg. Sports, gym)     18-25         0.67          0  False  "
      ]
     },
     "execution_count": 381,
     "metadata": {},
     "output_type": "execute_result"
    }
   ],
   "source": [
    "X.head()"
   ]
  },
  {
   "cell_type": "code",
   "execution_count": 382,
   "id": "5a920688-a1a6-4938-a230-eb15339c85a5",
   "metadata": {},
   "outputs": [
    {
     "data": {
      "text/plain": [
       "0    100-150\n",
       "1    200-250\n",
       "2    200-250\n",
       "3    150-200\n",
       "4     50-100\n",
       "Name: price_range, dtype: object"
      ]
     },
     "execution_count": 382,
     "metadata": {},
     "output_type": "execute_result"
    }
   ],
   "source": [
    "y.head()"
   ]
  },
  {
   "cell_type": "markdown",
   "id": "38d0e6d6-d56d-4cac-8f48-fe0ccdee94a1",
   "metadata": {},
   "source": [
    "<h4 style=\"color:blue;\">Train Data and Test Data split </h2>"
   ]
  },
  {
   "cell_type": "code",
   "execution_count": 383,
   "id": "3e6a83d4-3bf1-495d-8111-968d0e1ddb15",
   "metadata": {},
   "outputs": [],
   "source": [
    "X_train, X_test, y_train, y_test = train_test_split(\n",
    "    X, y, test_size=0.25, random_state=42,\n",
    ")"
   ]
  },
  {
   "cell_type": "code",
   "execution_count": 384,
   "id": "578cb01d-39f1-4fd2-8f3d-eda6be06758d",
   "metadata": {},
   "outputs": [
    {
     "name": "stdout",
     "output_type": "stream",
     "text": [
      "<class 'pandas.core.frame.DataFrame'>\n",
      "Index: 22467 entries, 8391 to 23691\n",
      "Data columns (total 18 columns):\n",
      " #   Column                          Non-Null Count  Dtype  \n",
      "---  ------                          --------------  -----  \n",
      " 0   gender                          22467 non-null  object \n",
      " 1   zone                            22467 non-null  object \n",
      " 2   occupation                      22467 non-null  object \n",
      " 3   income_levels                   22467 non-null  object \n",
      " 4   consume_frequency(weekly)       22467 non-null  object \n",
      " 5   current_brand                   22467 non-null  object \n",
      " 6   preferable_consumption_size     22467 non-null  object \n",
      " 7   awareness_of_other_brands       22467 non-null  object \n",
      " 8   reasons_for_choosing_brands     22467 non-null  object \n",
      " 9   flavor_preference               22467 non-null  object \n",
      " 10  purchase_channel                22467 non-null  object \n",
      " 11  packaging_preference            22467 non-null  object \n",
      " 12  health_concerns                 22467 non-null  object \n",
      " 13  typical_consumption_situations  22467 non-null  object \n",
      " 14  age_group                       22467 non-null  object \n",
      " 15  cf_ab_score                     22467 non-null  float64\n",
      " 16  zas_score                       22467 non-null  int64  \n",
      " 17  bsi                             22467 non-null  bool   \n",
      "dtypes: bool(1), float64(1), int64(1), object(15)\n",
      "memory usage: 3.1+ MB\n"
     ]
    }
   ],
   "source": [
    "X_train.info()"
   ]
  },
  {
   "cell_type": "code",
   "execution_count": 385,
   "id": "e5ea7a02-9092-4fbb-8b30-3ee90a750b84",
   "metadata": {},
   "outputs": [],
   "source": [
    "categorical_cols = [col for col in X_train.columns if X_train[col].dtype == \"object\"]"
   ]
  },
  {
   "cell_type": "code",
   "execution_count": 386,
   "id": "7319d774-4888-4862-9782-38735617af0e",
   "metadata": {},
   "outputs": [],
   "source": [
    "numerical_cols = [col for col in X_train.columns if X_train[col].dtype != \"object\"]"
   ]
  },
  {
   "cell_type": "code",
   "execution_count": 387,
   "id": "e12c9f79-3fa7-4946-ab57-93bfd119df91",
   "metadata": {},
   "outputs": [
    {
     "name": "stdout",
     "output_type": "stream",
     "text": [
      "cf_ab_score\n",
      "zas_score\n",
      "bsi\n"
     ]
    }
   ],
   "source": [
    "for col in numerical_cols:\n",
    "    print(col)"
   ]
  },
  {
   "cell_type": "code",
   "execution_count": 388,
   "id": "5017c538-00ea-4177-8bb3-cde602ffa4df",
   "metadata": {},
   "outputs": [
    {
     "name": "stdout",
     "output_type": "stream",
     "text": [
      "gender  :  ['F' 'M']\n",
      "zone  :  ['Semi-Urban' 'Urban' 'Metro' 'Rural']\n",
      "occupation  :  ['Working Professional' 'Student' 'Entrepreneur' 'Retired']\n",
      "income_levels  :  ['10L - 15L' '16L - 25L' 'Not Reported' '<10L' '> 35L' '26L - 35L']\n",
      "consume_frequency(weekly)  :  ['0-2 times' '5-7 times' '3-4 times']\n",
      "current_brand  :  ['Newcomer' 'Established']\n",
      "preferable_consumption_size  :  ['Small (250 ml)' 'Medium (500 ml)' 'Large (1 L)']\n",
      "awareness_of_other_brands  :  ['above 4' '2 to 4' '0 to 1']\n",
      "reasons_for_choosing_brands  :  ['Availability' 'Quality' 'Price' 'Brand Reputation']\n",
      "flavor_preference  :  ['Traditional' 'Exotic']\n",
      "purchase_channel  :  ['Online' 'Retail Store']\n",
      "packaging_preference  :  ['Simple' 'Premium' 'Eco-Friendly']\n",
      "health_concerns  :  ['Low (Not very concerned)' 'Medium (Moderately health-conscious)'\n",
      " 'High (Very health-conscious)']\n",
      "typical_consumption_situations  :  ['Social (eg. Parties)' 'Active (eg. Sports, gym)' 'Casual (eg. At home)']\n",
      "age_group  :  ['18-25' '26-35' '36-45' '56-70' '46-55']\n"
     ]
    }
   ],
   "source": [
    "for col in categorical_cols:\n",
    "    print(col,\" : \",X_train[col].unique())"
   ]
  },
  {
   "cell_type": "code",
   "execution_count": null,
   "id": "82337ffa-442d-4a95-8465-0c617c630c6c",
   "metadata": {},
   "outputs": [],
   "source": []
  },
  {
   "cell_type": "markdown",
   "id": "1980ca0a-2948-4edb-8d1c-fcae7a20b4f7",
   "metadata": {},
   "source": [
    "<h4 style=\"color:blue;\">Label encoding to relevant columns</h2>"
   ]
  },
  {
   "cell_type": "code",
   "execution_count": 389,
   "id": "adb7373c-a8ab-4658-b853-c43b5dab247f",
   "metadata": {},
   "outputs": [],
   "source": [
    "ordinal_cols = [\"age_group\", \"income_levels\", \"health_concerns\", \n",
    "                \"consume_frequency(weekly)\", \"preferable_consumption_size\"]"
   ]
  },
  {
   "cell_type": "code",
   "execution_count": 390,
   "id": "34299160-296a-463e-a8d3-63e3343d87d4",
   "metadata": {},
   "outputs": [],
   "source": [
    "le_dict = {}"
   ]
  },
  {
   "cell_type": "code",
   "execution_count": 391,
   "id": "c540b988-ae06-4dae-9fd3-e45ab3b2fb97",
   "metadata": {},
   "outputs": [],
   "source": [
    "for col in ordinal_cols:\n",
    "    le = LabelEncoder()\n",
    "    X_train[col] = le.fit_transform(X_train[col])\n",
    "    X_test[col] = le.transform(X_test[col])\n",
    "    le_dict[col] = le"
   ]
  },
  {
   "cell_type": "code",
   "execution_count": 392,
   "id": "e85ad091-c3e9-4dba-8e19-ba6cf7fd2a6c",
   "metadata": {},
   "outputs": [
    {
     "data": {
      "text/html": [
       "<div>\n",
       "<style scoped>\n",
       "    .dataframe tbody tr th:only-of-type {\n",
       "        vertical-align: middle;\n",
       "    }\n",
       "\n",
       "    .dataframe tbody tr th {\n",
       "        vertical-align: top;\n",
       "    }\n",
       "\n",
       "    .dataframe thead th {\n",
       "        text-align: right;\n",
       "    }\n",
       "</style>\n",
       "<table border=\"1\" class=\"dataframe\">\n",
       "  <thead>\n",
       "    <tr style=\"text-align: right;\">\n",
       "      <th></th>\n",
       "      <th>gender</th>\n",
       "      <th>zone</th>\n",
       "      <th>occupation</th>\n",
       "      <th>income_levels</th>\n",
       "      <th>consume_frequency(weekly)</th>\n",
       "      <th>current_brand</th>\n",
       "      <th>preferable_consumption_size</th>\n",
       "      <th>awareness_of_other_brands</th>\n",
       "      <th>reasons_for_choosing_brands</th>\n",
       "      <th>flavor_preference</th>\n",
       "      <th>purchase_channel</th>\n",
       "      <th>packaging_preference</th>\n",
       "      <th>health_concerns</th>\n",
       "      <th>typical_consumption_situations</th>\n",
       "      <th>age_group</th>\n",
       "      <th>cf_ab_score</th>\n",
       "      <th>zas_score</th>\n",
       "      <th>bsi</th>\n",
       "    </tr>\n",
       "  </thead>\n",
       "  <tbody>\n",
       "    <tr>\n",
       "      <th>8391</th>\n",
       "      <td>F</td>\n",
       "      <td>Semi-Urban</td>\n",
       "      <td>Working Professional</td>\n",
       "      <td>0</td>\n",
       "      <td>0</td>\n",
       "      <td>Newcomer</td>\n",
       "      <td>2</td>\n",
       "      <td>above 4</td>\n",
       "      <td>Availability</td>\n",
       "      <td>Traditional</td>\n",
       "      <td>Online</td>\n",
       "      <td>Simple</td>\n",
       "      <td>1</td>\n",
       "      <td>Social (eg. Parties)</td>\n",
       "      <td>0</td>\n",
       "      <td>0.25</td>\n",
       "      <td>4</td>\n",
       "      <td>False</td>\n",
       "    </tr>\n",
       "    <tr>\n",
       "      <th>26395</th>\n",
       "      <td>F</td>\n",
       "      <td>Urban</td>\n",
       "      <td>Working Professional</td>\n",
       "      <td>1</td>\n",
       "      <td>2</td>\n",
       "      <td>Established</td>\n",
       "      <td>1</td>\n",
       "      <td>2 to 4</td>\n",
       "      <td>Quality</td>\n",
       "      <td>Traditional</td>\n",
       "      <td>Online</td>\n",
       "      <td>Premium</td>\n",
       "      <td>2</td>\n",
       "      <td>Social (eg. Parties)</td>\n",
       "      <td>0</td>\n",
       "      <td>0.60</td>\n",
       "      <td>9</td>\n",
       "      <td>False</td>\n",
       "    </tr>\n",
       "    <tr>\n",
       "      <th>11276</th>\n",
       "      <td>F</td>\n",
       "      <td>Urban</td>\n",
       "      <td>Student</td>\n",
       "      <td>5</td>\n",
       "      <td>1</td>\n",
       "      <td>Newcomer</td>\n",
       "      <td>2</td>\n",
       "      <td>2 to 4</td>\n",
       "      <td>Price</td>\n",
       "      <td>Traditional</td>\n",
       "      <td>Online</td>\n",
       "      <td>Simple</td>\n",
       "      <td>2</td>\n",
       "      <td>Active (eg. Sports, gym)</td>\n",
       "      <td>0</td>\n",
       "      <td>0.50</td>\n",
       "      <td>0</td>\n",
       "      <td>True</td>\n",
       "    </tr>\n",
       "    <tr>\n",
       "      <th>9110</th>\n",
       "      <td>M</td>\n",
       "      <td>Metro</td>\n",
       "      <td>Working Professional</td>\n",
       "      <td>1</td>\n",
       "      <td>1</td>\n",
       "      <td>Established</td>\n",
       "      <td>0</td>\n",
       "      <td>2 to 4</td>\n",
       "      <td>Quality</td>\n",
       "      <td>Traditional</td>\n",
       "      <td>Online</td>\n",
       "      <td>Premium</td>\n",
       "      <td>1</td>\n",
       "      <td>Active (eg. Sports, gym)</td>\n",
       "      <td>1</td>\n",
       "      <td>0.50</td>\n",
       "      <td>12</td>\n",
       "      <td>False</td>\n",
       "    </tr>\n",
       "    <tr>\n",
       "      <th>3373</th>\n",
       "      <td>M</td>\n",
       "      <td>Metro</td>\n",
       "      <td>Entrepreneur</td>\n",
       "      <td>1</td>\n",
       "      <td>0</td>\n",
       "      <td>Established</td>\n",
       "      <td>0</td>\n",
       "      <td>above 4</td>\n",
       "      <td>Brand Reputation</td>\n",
       "      <td>Traditional</td>\n",
       "      <td>Online</td>\n",
       "      <td>Eco-Friendly</td>\n",
       "      <td>2</td>\n",
       "      <td>Casual (eg. At home)</td>\n",
       "      <td>1</td>\n",
       "      <td>0.25</td>\n",
       "      <td>12</td>\n",
       "      <td>False</td>\n",
       "    </tr>\n",
       "  </tbody>\n",
       "</table>\n",
       "</div>"
      ],
      "text/plain": [
       "      gender        zone            occupation  income_levels  \\\n",
       "8391       F  Semi-Urban  Working Professional              0   \n",
       "26395      F       Urban  Working Professional              1   \n",
       "11276      F       Urban               Student              5   \n",
       "9110       M       Metro  Working Professional              1   \n",
       "3373       M       Metro          Entrepreneur              1   \n",
       "\n",
       "       consume_frequency(weekly) current_brand  preferable_consumption_size  \\\n",
       "8391                           0      Newcomer                            2   \n",
       "26395                          2   Established                            1   \n",
       "11276                          1      Newcomer                            2   \n",
       "9110                           1   Established                            0   \n",
       "3373                           0   Established                            0   \n",
       "\n",
       "      awareness_of_other_brands reasons_for_choosing_brands flavor_preference  \\\n",
       "8391                    above 4                Availability       Traditional   \n",
       "26395                    2 to 4                     Quality       Traditional   \n",
       "11276                    2 to 4                       Price       Traditional   \n",
       "9110                     2 to 4                     Quality       Traditional   \n",
       "3373                    above 4            Brand Reputation       Traditional   \n",
       "\n",
       "      purchase_channel packaging_preference  health_concerns  \\\n",
       "8391            Online               Simple                1   \n",
       "26395           Online              Premium                2   \n",
       "11276           Online               Simple                2   \n",
       "9110            Online              Premium                1   \n",
       "3373            Online         Eco-Friendly                2   \n",
       "\n",
       "      typical_consumption_situations  age_group  cf_ab_score  zas_score    bsi  \n",
       "8391            Social (eg. Parties)          0         0.25          4  False  \n",
       "26395           Social (eg. Parties)          0         0.60          9  False  \n",
       "11276       Active (eg. Sports, gym)          0         0.50          0   True  \n",
       "9110        Active (eg. Sports, gym)          1         0.50         12  False  \n",
       "3373            Casual (eg. At home)          1         0.25         12  False  "
      ]
     },
     "execution_count": 392,
     "metadata": {},
     "output_type": "execute_result"
    }
   ],
   "source": [
    "X_train.head()"
   ]
  },
  {
   "cell_type": "code",
   "execution_count": 393,
   "id": "29391390-d763-4de4-b340-35c5e9994d37",
   "metadata": {},
   "outputs": [
    {
     "name": "stdout",
     "output_type": "stream",
     "text": [
      "<class 'pandas.core.frame.DataFrame'>\n",
      "Index: 22467 entries, 8391 to 23691\n",
      "Data columns (total 18 columns):\n",
      " #   Column                          Non-Null Count  Dtype  \n",
      "---  ------                          --------------  -----  \n",
      " 0   gender                          22467 non-null  object \n",
      " 1   zone                            22467 non-null  object \n",
      " 2   occupation                      22467 non-null  object \n",
      " 3   income_levels                   22467 non-null  int32  \n",
      " 4   consume_frequency(weekly)       22467 non-null  int32  \n",
      " 5   current_brand                   22467 non-null  object \n",
      " 6   preferable_consumption_size     22467 non-null  int32  \n",
      " 7   awareness_of_other_brands       22467 non-null  object \n",
      " 8   reasons_for_choosing_brands     22467 non-null  object \n",
      " 9   flavor_preference               22467 non-null  object \n",
      " 10  purchase_channel                22467 non-null  object \n",
      " 11  packaging_preference            22467 non-null  object \n",
      " 12  health_concerns                 22467 non-null  int32  \n",
      " 13  typical_consumption_situations  22467 non-null  object \n",
      " 14  age_group                       22467 non-null  int32  \n",
      " 15  cf_ab_score                     22467 non-null  float64\n",
      " 16  zas_score                       22467 non-null  int64  \n",
      " 17  bsi                             22467 non-null  bool   \n",
      "dtypes: bool(1), float64(1), int32(5), int64(1), object(10)\n",
      "memory usage: 2.7+ MB\n"
     ]
    }
   ],
   "source": [
    "X_train.info()"
   ]
  },
  {
   "cell_type": "markdown",
   "id": "853bfffe-4ca9-40b7-ab6a-7057f209a7dc",
   "metadata": {},
   "source": [
    "<h4 style=\"color:blue;\">One hot encoding to relevant columns</h2>"
   ]
  },
  {
   "cell_type": "code",
   "execution_count": 394,
   "id": "b63d68ec-9c1c-408a-ba2f-669df391694d",
   "metadata": {},
   "outputs": [],
   "source": [
    "X_train = pd.get_dummies(X_train,  drop_first=True)\n",
    "X_test  = pd.get_dummies(X_test,  drop_first=True)"
   ]
  },
  {
   "cell_type": "code",
   "execution_count": 395,
   "id": "992ae716-79d8-4c48-bd92-0dcca97659b6",
   "metadata": {},
   "outputs": [
    {
     "data": {
      "text/plain": [
       "8391      50-100\n",
       "26395    200-250\n",
       "11276    100-150\n",
       "9110     150-200\n",
       "3373     150-200\n",
       "Name: price_range, dtype: object"
      ]
     },
     "execution_count": 395,
     "metadata": {},
     "output_type": "execute_result"
    }
   ],
   "source": [
    "y_train.head()"
   ]
  },
  {
   "cell_type": "code",
   "execution_count": 396,
   "id": "499b4980-8487-4e41-9057-a3f656c5bd9f",
   "metadata": {},
   "outputs": [],
   "source": [
    "le = LabelEncoder()\n",
    "y_train = le.fit_transform(y_train)\n",
    "y_test = le.transform(y_test)\n",
    "le_dict[\"price_range\"] = le"
   ]
  },
  {
   "cell_type": "code",
   "execution_count": 397,
   "id": "0f798410-4e13-4a1d-800c-234ede291588",
   "metadata": {},
   "outputs": [
    {
     "data": {
      "text/plain": [
       "array([3, 2, 0, 1, 1])"
      ]
     },
     "execution_count": 397,
     "metadata": {},
     "output_type": "execute_result"
    }
   ],
   "source": [
    "y_train[:5]"
   ]
  },
  {
   "cell_type": "markdown",
   "id": "8d77243d-96f0-4508-bc33-d2da33db89d0",
   "metadata": {},
   "source": [
    "<h4 style=\"color:blue;\">Gaussian Naive Bayes Model, Accuracy: 0.58</h2>"
   ]
  },
  {
   "cell_type": "code",
   "execution_count": 398,
   "id": "82a9e0fa-4123-40f9-9e92-1cf9308c0606",
   "metadata": {},
   "outputs": [],
   "source": [
    "model_gnb = GaussianNB()"
   ]
  },
  {
   "cell_type": "code",
   "execution_count": 399,
   "id": "9bfefe3a-b923-412c-be48-d9c7a730cfb0",
   "metadata": {},
   "outputs": [
    {
     "name": "stdout",
     "output_type": "stream",
     "text": [
      "Accuracy: 0.5636266524235546\n"
     ]
    },
    {
     "data": {
      "image/png": "[encoded data removed]",
      "text/plain": [
       "<Figure size 600x400 with 2 Axes>"
      ]
     },
     "metadata": {},
     "output_type": "display_data"
    }
   ],
   "source": [
    "model_gnb.fit(X_train, y_train)\n",
    "y_predict = model_gnb.predict(X_test)\n",
    "print(\"Accuracy:\", accuracy_score(y_test, y_predict))\n",
    "cm = confusion_matrix(y_test, y_predict)\n",
    "plt.figure(figsize=(6,4))\n",
    "sns.heatmap(cm, annot=True, fmt='d', cmap='Blues', xticklabels=le.classes_, yticklabels=le.classes_)\n",
    "plt.xlabel(\"Predicted\")\n",
    "plt.ylabel(\"Actual\")\n",
    "plt.title(\"Confusion Matrix - GaussianNB\")\n",
    "plt.show()"
   ]
  },
  {
   "cell_type": "code",
   "execution_count": 400,
   "id": "2dcf5026-6694-4ea7-abf3-0a1ef45c4245",
   "metadata": {},
   "outputs": [
    {
     "name": "stdout",
     "output_type": "stream",
     "text": [
      "              precision    recall  f1-score   support\n",
      "\n",
      "           0       0.48      0.29      0.36      1930\n",
      "           1       0.56      0.31      0.40      2223\n",
      "           2       0.66      0.88      0.75      2430\n",
      "           3       0.45      0.91      0.60       906\n",
      "\n",
      "    accuracy                           0.56      7489\n",
      "   macro avg       0.54      0.60      0.53      7489\n",
      "weighted avg       0.56      0.56      0.53      7489\n",
      "\n"
     ]
    }
   ],
   "source": [
    "print(classification_report(y_test, y_predict))"
   ]
  },
  {
   "cell_type": "markdown",
   "id": "abb281e3-ded2-4126-9bf4-e3668cad6cbe",
   "metadata": {},
   "source": [
    "<h4 style=\"color:blue;\">Logistic Regression Model, Accuracy: 0.80</h2>"
   ]
  },
  {
   "cell_type": "code",
   "execution_count": 401,
   "id": "985d4a33-8598-46ef-b90a-69f0f7c41396",
   "metadata": {},
   "outputs": [],
   "source": [
    "model_lr = LogisticRegression()"
   ]
  },
  {
   "cell_type": "code",
   "execution_count": 402,
   "id": "352c81af-5371-4e73-bd42-2dbd70e56aba",
   "metadata": {},
   "outputs": [
    {
     "name": "stdout",
     "output_type": "stream",
     "text": [
      "Accuracy: 0.7985044732274001\n"
     ]
    },
    {
     "name": "stderr",
     "output_type": "stream",
     "text": [
      "C:\\Users\\Lenovo\\AppData\\Local\\Programs\\Python\\Python310\\lib\\site-packages\\sklearn\\linear_model\\_logistic.py:470: ConvergenceWarning: lbfgs failed to converge after 100 iteration(s) (status=1):\n",
      "STOP: TOTAL NO. OF ITERATIONS REACHED LIMIT\n",
      "\n",
      "Increase the number of iterations to improve the convergence (max_iter=100).\n",
      "You might also want to scale the data as shown in:\n",
      "    https://scikit-learn.org/stable/modules/preprocessing.html\n",
      "Please also refer to the documentation for alternative solver options:\n",
      "    https://scikit-learn.org/stable/modules/linear_model.html#logistic-regression\n",
      "  n_iter_i = _check_optimize_result(\n"
     ]
    },
    {
     "data": {
      "image/png": "[encoded data removed]",
      "text/plain": [
       "<Figure size 600x400 with 2 Axes>"
      ]
     },
     "metadata": {},
     "output_type": "display_data"
    }
   ],
   "source": [
    "model_lr.fit(X_train, y_train)\n",
    "y_predict = model_lr.predict(X_test)\n",
    "print(\"Accuracy:\", accuracy_score(y_test, y_predict))\n",
    "cm = confusion_matrix(y_test, y_predict)\n",
    "plt.figure(figsize=(6,4))\n",
    "sns.heatmap(cm, annot=True, fmt='d', cmap='Blues', xticklabels=le.classes_, yticklabels=le.classes_)\n",
    "plt.xlabel(\"Predicted\")\n",
    "plt.ylabel(\"Actual\")\n",
    "plt.title(\"Confusion Matrix - Logistic Regression\")\n",
    "plt.show()"
   ]
  },
  {
   "cell_type": "code",
   "execution_count": 403,
   "id": "d802ea29-182a-48db-8a78-438d788bf4f2",
   "metadata": {},
   "outputs": [
    {
     "name": "stdout",
     "output_type": "stream",
     "text": [
      "              precision    recall  f1-score   support\n",
      "\n",
      "           0       0.72      0.76      0.74      1930\n",
      "           1       0.75      0.77      0.76      2223\n",
      "           2       0.91      0.89      0.90      2430\n",
      "           3       0.81      0.71      0.76       906\n",
      "\n",
      "    accuracy                           0.80      7489\n",
      "   macro avg       0.80      0.78      0.79      7489\n",
      "weighted avg       0.80      0.80      0.80      7489\n",
      "\n"
     ]
    }
   ],
   "source": [
    "print(classification_report(y_test, y_predict))"
   ]
  },
  {
   "cell_type": "markdown",
   "id": "f095ff35-93f7-49b8-9815-860a27bc784a",
   "metadata": {},
   "source": [
    "<h4 style=\"color:blue;\">Support Vector Classifier, Accuracy: 0.82</h2>"
   ]
  },
  {
   "cell_type": "code",
   "execution_count": 404,
   "id": "fa7523fd-9356-4613-872e-a59b60fa26df",
   "metadata": {},
   "outputs": [],
   "source": [
    "model_svc = SVC()"
   ]
  },
  {
   "cell_type": "code",
   "execution_count": 405,
   "id": "2bb4594e-77fd-4b6b-abad-c1e7074159ac",
   "metadata": {},
   "outputs": [
    {
     "name": "stdout",
     "output_type": "stream",
     "text": [
      "Accuracy: 0.823607958338897\n"
     ]
    },
    {
     "data": {
      "image/png": "[encoded data removed]",
      "text/plain": [
       "<Figure size 600x400 with 2 Axes>"
      ]
     },
     "metadata": {},
     "output_type": "display_data"
    }
   ],
   "source": [
    "model_svc.fit(X_train, y_train)\n",
    "y_predict = model_svc.predict(X_test)\n",
    "print(\"Accuracy:\", accuracy_score(y_test, y_predict))\n",
    "cm = confusion_matrix(y_test, y_predict)\n",
    "plt.figure(figsize=(6,4))\n",
    "sns.heatmap(cm, annot=True, fmt='d', cmap='Blues', xticklabels=le.classes_, yticklabels=le.classes_)\n",
    "plt.xlabel(\"Predicted\")\n",
    "plt.ylabel(\"Actual\")\n",
    "plt.title(\"Confusion Matrix - Support Vector Classifier\")\n",
    "plt.show()"
   ]
  },
  {
   "cell_type": "code",
   "execution_count": 406,
   "id": "24a3f189-b5ed-4904-9c4d-187c35e8d389",
   "metadata": {},
   "outputs": [
    {
     "name": "stdout",
     "output_type": "stream",
     "text": [
      "              precision    recall  f1-score   support\n",
      "\n",
      "           0       0.76      0.79      0.78      1930\n",
      "           1       0.78      0.80      0.79      2223\n",
      "           2       0.91      0.91      0.91      2430\n",
      "           3       0.83      0.73      0.78       906\n",
      "\n",
      "    accuracy                           0.82      7489\n",
      "   macro avg       0.82      0.81      0.81      7489\n",
      "weighted avg       0.82      0.82      0.82      7489\n",
      "\n"
     ]
    }
   ],
   "source": [
    "print(classification_report(y_test, y_predict))"
   ]
  },
  {
   "cell_type": "markdown",
   "id": "8cedafa4-4243-4276-9e7a-00b5b570ac5a",
   "metadata": {},
   "source": [
    "<h4 style=\"color:blue;\">Random Forest Classifier, Accuracy: 0.89</h2>"
   ]
  },
  {
   "cell_type": "code",
   "execution_count": 407,
   "id": "8011463f-ecfb-4c4e-aa2c-6f11c6e605d3",
   "metadata": {},
   "outputs": [],
   "source": [
    "model_rf = RandomForestClassifier()"
   ]
  },
  {
   "cell_type": "code",
   "execution_count": 408,
   "id": "ab1f4970-5ffe-45d5-aae8-57541265d368",
   "metadata": {},
   "outputs": [
    {
     "name": "stdout",
     "output_type": "stream",
     "text": [
      "Accuracy: 0.8955801842702631\n"
     ]
    },
    {
     "data": {
      "image/png": "[encoded data removed]",
      "text/plain": [
       "<Figure size 600x400 with 2 Axes>"
      ]
     },
     "metadata": {},
     "output_type": "display_data"
    }
   ],
   "source": [
    "model_rf.fit(X_train, y_train)\n",
    "y_predict = model_rf.predict(X_test)\n",
    "print(\"Accuracy:\", accuracy_score(y_test, y_predict))\n",
    "cm = confusion_matrix(y_test, y_predict)\n",
    "plt.figure(figsize=(6,4))\n",
    "sns.heatmap(cm, annot=True, fmt='d', cmap='Blues', xticklabels=le.classes_, yticklabels=le.classes_)\n",
    "plt.xlabel(\"Predicted\")\n",
    "plt.ylabel(\"Actual\")\n",
    "plt.title(\"Confusion Matrix - Random Forest\")\n",
    "plt.show()"
   ]
  },
  {
   "cell_type": "code",
   "execution_count": 409,
   "id": "07e8b06f-d39e-4b55-88af-3a1877f288d3",
   "metadata": {},
   "outputs": [
    {
     "name": "stdout",
     "output_type": "stream",
     "text": [
      "              precision    recall  f1-score   support\n",
      "\n",
      "           0       0.89      0.87      0.88      1930\n",
      "           1       0.85      0.89      0.87      2223\n",
      "           2       0.94      0.93      0.93      2430\n",
      "           3       0.92      0.88      0.90       906\n",
      "\n",
      "    accuracy                           0.90      7489\n",
      "   macro avg       0.90      0.89      0.90      7489\n",
      "weighted avg       0.90      0.90      0.90      7489\n",
      "\n"
     ]
    }
   ],
   "source": [
    "print(classification_report(y_test, y_predict))"
   ]
  },
  {
   "cell_type": "markdown",
   "id": "cbb0d4e2-1fd5-41d8-832f-e7dcf10d7778",
   "metadata": {},
   "source": [
    "<h4 style=\"color:blue;\">XGB Classifier, Accuracy: 0.92</h2>"
   ]
  },
  {
   "cell_type": "code",
   "execution_count": 410,
   "id": "7c188b5d-af09-4c2b-aa9c-74585be69736",
   "metadata": {},
   "outputs": [],
   "source": [
    "model_xgb = XGBClassifier()"
   ]
  },
  {
   "cell_type": "code",
   "execution_count": 411,
   "id": "7cbd47b9-ade8-47b9-80a9-484a09336e9d",
   "metadata": {},
   "outputs": [
    {
     "name": "stdout",
     "output_type": "stream",
     "text": [
      "Accuracy: 0.9225530778475097\n"
     ]
    },
    {
     "data": {
      "image/png": "[encoded data removed]",
      "text/plain": [
       "<Figure size 600x400 with 2 Axes>"
      ]
     },
     "metadata": {},
     "output_type": "display_data"
    }
   ],
   "source": [
    "model_xgb.fit(X_train, y_train)\n",
    "y_predict = model_xgb.predict(X_test)\n",
    "print(\"Accuracy:\", accuracy_score(y_test, y_predict))\n",
    "cm = confusion_matrix(y_test, y_predict)\n",
    "plt.figure(figsize=(6,4))\n",
    "sns.heatmap(cm, annot=True, fmt='d', cmap='Blues', xticklabels=le.classes_, yticklabels=le.classes_)\n",
    "plt.xlabel(\"Predicted\")\n",
    "plt.ylabel(\"Actual\")\n",
    "plt.title(\"Confusion Matrix - XGBoost Regression\")\n",
    "plt.show()"
   ]
  },
  {
   "cell_type": "code",
   "execution_count": 412,
   "id": "77755569-b6d4-44f9-9751-b3fadfd45bee",
   "metadata": {},
   "outputs": [
    {
     "name": "stdout",
     "output_type": "stream",
     "text": [
      "              precision    recall  f1-score   support\n",
      "\n",
      "           0       0.92      0.90      0.91      1930\n",
      "           1       0.89      0.91      0.90      2223\n",
      "           2       0.96      0.95      0.95      2430\n",
      "           3       0.92      0.92      0.92       906\n",
      "\n",
      "    accuracy                           0.92      7489\n",
      "   macro avg       0.92      0.92      0.92      7489\n",
      "weighted avg       0.92      0.92      0.92      7489\n",
      "\n"
     ]
    }
   ],
   "source": [
    "print(classification_report(y_test, y_predict))"
   ]
  },
  {
   "cell_type": "code",
   "execution_count": 413,
   "id": "271fc162-20d3-4769-8ab0-b422ae228e93",
   "metadata": {},
   "outputs": [
    {
     "name": "stdout",
     "output_type": "stream",
     "text": [
      "✅ Model + encoders + schema saved successfully!\n"
     ]
    }
   ],
   "source": [
    "from joblib import dump\n",
    "\n",
    "artifacts = {\n",
    "    \"label_encoders\": le_dict,\n",
    "    \"final_columns\": list(X_train.columns),\n",
    "    \"model\": model_xgb\n",
    "}\n",
    "\n",
    "dump(artifacts, \"artifacts/final_bundle.joblib\")\n",
    "print(\"✅ Model + encoders + schema saved successfully!\")"
   ]
  },
  {
   "cell_type": "markdown",
   "id": "01d43e1e-2d6f-43bc-95ef-19394e1dd0c0",
   "metadata": {},
   "source": [
    "<h4 style=\"color:blue;\">LGBM Classifier, Accuracy: 0.92</h2>"
   ]
  },
  {
   "cell_type": "code",
   "execution_count": 414,
   "id": "c8a6bfd4-3ac1-4a8e-adbd-1ebcfe2349d6",
   "metadata": {},
   "outputs": [],
   "source": [
    "model_lbgm = LGBMClassifier()"
   ]
  },
  {
   "cell_type": "code",
   "execution_count": 415,
   "id": "66da4fab-b6bc-4764-a7d8-f31c88f8731b",
   "metadata": {},
   "outputs": [],
   "source": [
    "def clean_colnames(df: pd.DataFrame) -> pd.DataFrame:\n",
    "    df = df.copy()\n",
    "    df.columns = (\n",
    "        df.columns\n",
    "        .str.strip()\n",
    "        .str.lower()\n",
    "        .str.replace(r\"[()]\", \"\", regex=True)\n",
    "        .str.replace(r\"[^0-9a-zA-Z]+\", \"_\", regex=True)\n",
    "        .str.replace(r\"__+\", \"_\", regex=True)\n",
    "        .str.strip(\"_\")\n",
    "    )\n",
    "    return df\n",
    "\n",
    "\n",
    "X_train = clean_colnames(X_train)\n",
    "X_test = clean_colnames(X_test)"
   ]
  },
  {
   "cell_type": "code",
   "execution_count": 416,
   "id": "d04dd564-88f2-434a-8c5b-f33eba4ede79",
   "metadata": {},
   "outputs": [
    {
     "name": "stdout",
     "output_type": "stream",
     "text": [
      "[LightGBM] [Info] Auto-choosing row-wise multi-threading, the overhead of testing was 0.000607 seconds.\n",
      "You can set `force_row_wise=true` to remove the overhead.\n",
      "And if memory is not enough, you can set `force_col_wise=true`.\n",
      "[LightGBM] [Info] Total Bins 82\n",
      "[LightGBM] [Info] Number of data points in the train set: 22467, number of used features: 27\n",
      "[LightGBM] [Info] Start training from score -1.343386\n",
      "[LightGBM] [Info] Start training from score -1.228925\n",
      "[LightGBM] [Info] Start training from score -1.126779\n",
      "[LightGBM] [Info] Start training from score -2.100810\n",
      "Accuracy: 0.9214848444385099\n"
     ]
    },
    {
     "data": {
      "image/png": "[encoded data removed]",
      "text/plain": [
       "<Figure size 600x400 with 2 Axes>"
      ]
     },
     "metadata": {},
     "output_type": "display_data"
    }
   ],
   "source": [
    "model_lbgm.fit(X_train, y_train, feature_name=\"auto\")\n",
    "y_predict = model_lbgm.predict(X_test)\n",
    "print(\"Accuracy:\", accuracy_score(y_test, y_predict))\n",
    "cm = confusion_matrix(y_test, y_predict)\n",
    "plt.figure(figsize=(6,4))\n",
    "sns.heatmap(cm, annot=True, fmt='d', cmap='Blues', xticklabels=le.classes_, yticklabels=le.classes_)\n",
    "plt.xlabel(\"Predicted\")\n",
    "plt.ylabel(\"Actual\")\n",
    "plt.title(\"Confusion Matrix - LightBGM\")\n",
    "plt.show()"
   ]
  },
  {
   "cell_type": "code",
   "execution_count": 417,
   "id": "10d9d0f2-1c86-4238-a410-926a097ea429",
   "metadata": {},
   "outputs": [
    {
     "name": "stdout",
     "output_type": "stream",
     "text": [
      "              precision    recall  f1-score   support\n",
      "\n",
      "           0       0.91      0.90      0.90      1930\n",
      "           1       0.89      0.91      0.90      2223\n",
      "           2       0.96      0.95      0.96      2430\n",
      "           3       0.93      0.92      0.92       906\n",
      "\n",
      "    accuracy                           0.92      7489\n",
      "   macro avg       0.92      0.92      0.92      7489\n",
      "weighted avg       0.92      0.92      0.92      7489\n",
      "\n"
     ]
    }
   ],
   "source": [
    "print(classification_report(y_test, y_predict))"
   ]
  },
  {
   "cell_type": "code",
   "execution_count": 418,
   "id": "bc63e6fb-4a51-4b31-b3dd-94b65f13f9ad",
   "metadata": {},
   "outputs": [
    {
     "data": {
      "text/plain": [
       "['income_levels',\n",
       " 'consume_frequency(weekly)',\n",
       " 'preferable_consumption_size',\n",
       " 'health_concerns',\n",
       " 'age_group',\n",
       " 'cf_ab_score',\n",
       " 'zas_score',\n",
       " 'bsi',\n",
       " 'gender_M',\n",
       " 'zone_Rural',\n",
       " 'zone_Semi-Urban',\n",
       " 'zone_Urban',\n",
       " 'occupation_Retired',\n",
       " 'occupation_Student',\n",
       " 'occupation_Working Professional',\n",
       " 'current_brand_Newcomer',\n",
       " 'awareness_of_other_brands_2 to 4',\n",
       " 'awareness_of_other_brands_above 4',\n",
       " 'reasons_for_choosing_brands_Brand Reputation',\n",
       " 'reasons_for_choosing_brands_Price',\n",
       " 'reasons_for_choosing_brands_Quality',\n",
       " 'flavor_preference_Traditional',\n",
       " 'purchase_channel_Retail Store',\n",
       " 'packaging_preference_Premium',\n",
       " 'packaging_preference_Simple',\n",
       " 'typical_consumption_situations_Casual (eg. At home)',\n",
       " 'typical_consumption_situations_Social (eg. Parties)']"
      ]
     },
     "execution_count": 418,
     "metadata": {},
     "output_type": "execute_result"
    }
   ],
   "source": [
    "artifacts[\"final_columns\"]"
   ]
  },
  {
   "cell_type": "code",
   "execution_count": null,
   "id": "d378628b-d9fc-4bf2-a839-ffdfcbd380d0",
   "metadata": {},
   "outputs": [],
   "source": []
  },
  {
   "cell_type": "markdown",
   "id": "84eba126-aaec-4e79-a2bc-f4fc47a67de8",
   "metadata": {},
   "source": [
    "<h1 style=\"color:blue; text-align:center;\">MLFlow Deployment</h2>"
   ]
  },
  {
   "cell_type": "code",
   "execution_count": null,
   "id": "4c0adfbb-19ea-4512-8116-6689e4e31e8b",
   "metadata": {},
   "outputs": [
    {
     "data": {
      "text/html": [
       "<pre style=\"white-space:pre;overflow-x:auto;line-height:normal;font-family:Menlo,'DejaVu Sans Mono',consolas,'Courier New',monospace\">Initialized MLflow to track repo <span style=\"color: #008000; text-decoration-color: #008000\">\"joshi.somesh1996/mlflow_dagshub_beverage_price_prediction\"</span>\n",
       "</pre>\n"
      ],
      "text/plain": [
       "Initialized MLflow to track repo \u001b[32m\"joshi.somesh1996/mlflow_dagshub_beverage_price_prediction\"\u001b[0m\n"
      ]
     },
     "metadata": {},
     "output_type": "display_data"
    },
    {
     "data": {
      "text/html": [
       "<pre style=\"white-space:pre;overflow-x:auto;line-height:normal;font-family:Menlo,'DejaVu Sans Mono',consolas,'Courier New',monospace\">Repository joshi.somesh1996/mlflow_dagshub_beverage_price_prediction initialized!\n",
       "</pre>\n"
      ],
      "text/plain": [
       "Repository joshi.somesh1996/mlflow_dagshub_beverage_price_prediction initialized!\n"
      ]
     },
     "metadata": {},
     "output_type": "display_data"
    },
    {
     "name": "stdout",
     "output_type": "stream",
     "text": [
      "🏃 View run GaussianNB at: https://dagshub.com/joshi.somesh1996/mlflow_dagshub_beverage_price_prediction.mlflow/#/experiments/1/runs/27b2ffb310ec4535acdb52e18036cd81\n",
      "🧪 View experiment at: https://dagshub.com/joshi.somesh1996/mlflow_dagshub_beverage_price_prediction.mlflow/#/experiments/1\n"
     ]
    },
    {
     "name": "stderr",
     "output_type": "stream",
     "text": [
      "C:\\Users\\Lenovo\\AppData\\Local\\Programs\\Python\\Python310\\lib\\site-packages\\sklearn\\linear_model\\_logistic.py:470: ConvergenceWarning: lbfgs failed to converge after 100 iteration(s) (status=1):\n",
      "STOP: TOTAL NO. OF ITERATIONS REACHED LIMIT\n",
      "\n",
      "Increase the number of iterations to improve the convergence (max_iter=100).\n",
      "You might also want to scale the data as shown in:\n",
      "    https://scikit-learn.org/stable/modules/preprocessing.html\n",
      "Please also refer to the documentation for alternative solver options:\n",
      "    https://scikit-learn.org/stable/modules/linear_model.html#logistic-regression\n",
      "  n_iter_i = _check_optimize_result(\n"
     ]
    },
    {
     "name": "stdout",
     "output_type": "stream",
     "text": [
      "🏃 View run LogisticRegression at: https://dagshub.com/joshi.somesh1996/mlflow_dagshub_beverage_price_prediction.mlflow/#/experiments/1/runs/2d840864d944405e8b01f3473071c122\n",
      "🧪 View experiment at: https://dagshub.com/joshi.somesh1996/mlflow_dagshub_beverage_price_prediction.mlflow/#/experiments/1\n",
      "🏃 View run SVC at: https://dagshub.com/joshi.somesh1996/mlflow_dagshub_beverage_price_prediction.mlflow/#/experiments/1/runs/610fdbd8a641465db44001aa0fe326ed\n",
      "🧪 View experiment at: https://dagshub.com/joshi.somesh1996/mlflow_dagshub_beverage_price_prediction.mlflow/#/experiments/1\n",
      "🏃 View run RandomForest at: https://dagshub.com/joshi.somesh1996/mlflow_dagshub_beverage_price_prediction.mlflow/#/experiments/1/runs/1f254ea03bd140c1a7f7abd29025442c\n",
      "🧪 View experiment at: https://dagshub.com/joshi.somesh1996/mlflow_dagshub_beverage_price_prediction.mlflow/#/experiments/1\n",
      "🏃 View run XGBoost at: https://dagshub.com/joshi.somesh1996/mlflow_dagshub_beverage_price_prediction.mlflow/#/experiments/1/runs/f77515f9a27045319deeb7d7e49f0791\n",
      "🧪 View experiment at: https://dagshub.com/joshi.somesh1996/mlflow_dagshub_beverage_price_prediction.mlflow/#/experiments/1\n",
      "[LightGBM] [Info] Auto-choosing row-wise multi-threading, the overhead of testing was 0.001587 seconds.\n",
      "You can set `force_row_wise=true` to remove the overhead.\n",
      "And if memory is not enough, you can set `force_col_wise=true`.\n",
      "[LightGBM] [Info] Total Bins 82\n",
      "[LightGBM] [Info] Number of data points in the train set: 22467, number of used features: 27\n",
      "[LightGBM] [Info] Start training from score -1.343386\n",
      "[LightGBM] [Info] Start training from score -1.228925\n",
      "[LightGBM] [Info] Start training from score -1.126779\n",
      "[LightGBM] [Info] Start training from score -2.100810\n",
      "🏃 View run LightGBM at: https://dagshub.com/joshi.somesh1996/mlflow_dagshub_beverage_price_prediction.mlflow/#/experiments/1/runs/402040af0350469c95f1a978e1b32195\n",
      "🧪 View experiment at: https://dagshub.com/joshi.somesh1996/mlflow_dagshub_beverage_price_prediction.mlflow/#/experiments/1\n"
     ]
    }
   ],
   "source": [
    "import dagshub\n",
    "dagshub.init(repo_owner='joshi.somesh1996', repo_name='dagshub_beverage_price_experiment_tracking', mlflow=True)\n",
    "\n",
    "import mlflow\n",
    "from sklearn.metrics import classification_report\n",
    "import joblib\n",
    "import os\n",
    "from sklearn.naive_bayes import GaussianNB\n",
    "from sklearn.linear_model import LogisticRegression\n",
    "from sklearn.svm import SVC\n",
    "from sklearn.ensemble import RandomForestClassifier\n",
    "from xgboost import XGBClassifier\n",
    "from lightgbm import LGBMClassifier\n",
    "\n",
    "# ✅ Correct MLflow credentials\n",
    "os.environ['MLFLOW_TRACKING_USERNAME'] = 'joshi.somesh1996'\n",
    "os.environ['MLFLOW_TRACKING_PASSWORD'] = '48d6b3969b848942bfa2b07564d1046b2f994288'\n",
    "os.environ['MLFLOW_TRACKING_URI'] = 'https://dagshub.com/joshi.somesh1996/dagshub_beverage_price_experiment_tracking.mlflow'\n",
    "\n",
    "mlflow.set_tracking_uri(os.environ['MLFLOW_TRACKING_URI'])\n",
    "\n",
    "# ✅ Set experiment\n",
    "mlflow.set_experiment(\"Beverage Price Prediction\")\n",
    "\n",
    "models = {\n",
    "    \"GaussianNB\": GaussianNB(),\n",
    "    \"LogisticRegression\": LogisticRegression(),\n",
    "    \"SVC\": SVC(),\n",
    "    \"RandomForest\": RandomForestClassifier(),\n",
    "    \"XGBoost\": XGBClassifier(),\n",
    "    \"LightGBM\": LGBMClassifier()\n",
    "}\n",
    "\n",
    "for model_name, model in models.items():\n",
    "    with mlflow.start_run(run_name=model_name):\n",
    "        # Train model\n",
    "        model.fit(X_train, y_train)\n",
    "        y_pred = model.predict(X_test)\n",
    "\n",
    "        # Metrics\n",
    "        report = classification_report(y_test, y_pred, output_dict=True)\n",
    "\n",
    "        # Log parameters\n",
    "        mlflow.log_param(\"model_name\", model_name)\n",
    "        for param, value in model.get_params().items():\n",
    "            mlflow.log_param(param, value)\n",
    "\n",
    "        # Log metrics\n",
    "        mlflow.log_metric(\"accuracy\", report[\"accuracy\"])\n",
    "        mlflow.log_metric(\"recall_class_1\", report[\"1\"][\"recall\"])\n",
    "        mlflow.log_metric(\"recall_class_0\", report[\"0\"][\"recall\"])\n",
    "        mlflow.log_metric(\"f1_score_macro\", report[\"macro avg\"][\"f1-score\"])\n",
    "\n",
    "        # Log model artifact\n",
    "        model_file = f\"{model_name}.pkl\"\n",
    "        joblib.dump(model, model_file)\n",
    "        mlflow.log_artifact(model_file, artifact_path=\"model\")\n",
    "        os.remove(model_file)\n"
   ]
  },
  {
   "cell_type": "code",
   "execution_count": null,
   "id": "119a4f5f-e51e-407c-9c95-cd6f10bad2a1",
   "metadata": {},
   "outputs": [],
   "source": []
  }
 ],
 "metadata": {
  "kernelspec": {
   "display_name": "Python 3 (ipykernel)",
   "language": "python",
   "name": "python3"
  },
  "language_info": {
   "codemirror_mode": {
    "name": "ipython",
    "version": 3
   },
   "file_extension": ".py",
   "mimetype": "text/x-python",
   "name": "python",
   "nbconvert_exporter": "python",
   "pygments_lexer": "ipython3",
   "version": "3.10.11"
  }
 },
 "nbformat": 4,
 "nbformat_minor": 5
}
